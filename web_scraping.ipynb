{
 "metadata": {
  "language_info": {
   "codemirror_mode": {
    "name": "ipython",
    "version": 3
   },
   "file_extension": ".py",
   "mimetype": "text/x-python",
   "name": "python",
   "nbconvert_exporter": "python",
   "pygments_lexer": "ipython3",
   "version": "3.8.6-final"
  },
  "orig_nbformat": 2,
  "kernelspec": {
   "name": "python3",
   "display_name": "Python 3.8.6 64-bit",
   "metadata": {
    "interpreter": {
     "hash": "4d9029a4f2836547af4afe6e45b9a0d1b0732faf89c5b43e61cf2047755b06d5"
    }
   }
  }
 },
 "nbformat": 4,
 "nbformat_minor": 2,
 "cells": [
  {
   "cell_type": "code",
<<<<<<< HEAD
   "execution_count": 2,
=======
   "execution_count": 1,
>>>>>>> ee2e5a419d925cbd370c79043ed69a5cb4cb08bf
   "metadata": {},
   "outputs": [],
   "source": [
    "import requests\n",
    "from bs4 import BeautifulSoup as soup\n",
    "from selenium import webdriver\n",
    "from selenium.webdriver.chrome.options import Options\n",
    "from selenium.webdriver.common.keys import Keys\n",
    "import re\n",
    "from datetime import datetime\n",
    "import pandas as pd\n",
    "from connection_keys import connection, alchemy_connection"
   ]
  },
  {
   "source": [
    "### Configurando a engine do banco"
   ],
   "cell_type": "markdown",
   "metadata": {}
  },
  {
   "cell_type": "code",
<<<<<<< HEAD
   "execution_count": 3,
=======
   "execution_count": 2,
>>>>>>> ee2e5a419d925cbd370c79043ed69a5cb4cb08bf
   "metadata": {},
   "outputs": [],
   "source": [
    "engine = alchemy_connection('db_hardware')"
   ]
  },
  {
   "source": [
    "### Setup para abrir o navegador com o Selenium e puxar a primeira página"
   ],
   "cell_type": "markdown",
   "metadata": {}
  },
  {
   "cell_type": "code",
<<<<<<< HEAD
   "execution_count": 4,
=======
   "execution_count": 3,
>>>>>>> ee2e5a419d925cbd370c79043ed69a5cb4cb08bf
   "metadata": {},
   "outputs": [],
   "source": [
    "#--| Setup\n",
    "options = Options()\n",
    "options.add_argument('--ignore-certificate-errors')\n",
    "options.add_argument('--incognito')\n",
    "options.add_argument('--headless')\n",
    "options.add_argument('--disable-extensions')\n",
    "browser = webdriver.Chrome(executable_path=r'chromedriver.exe', options=options)"
   ]
  },
  {
   "cell_type": "code",
<<<<<<< HEAD
   "execution_count": 5,
=======
   "execution_count": 4,
>>>>>>> ee2e5a419d925cbd370c79043ed69a5cb4cb08bf
   "metadata": {},
   "outputs": [],
   "source": [
    "\n",
    "# --| Parse or automation\n",
    "browser.get('https://www.kabum.com.br/hardware/placa-de-video-vga?pagina=1')\n",
    "html = soup(browser.page_source, 'html.parser')\n",
    "# browser.implicitly_wait(5)"
   ]
  },
  {
   "source": [
    "### Configuiração para percorer as páginas e salvar todos dados com a taga referente ao produto em uma lista"
   ],
   "cell_type": "markdown",
   "metadata": {}
  },
  {
   "cell_type": "code",
<<<<<<< HEAD
   "execution_count": 6,
=======
   "execution_count": 5,
>>>>>>> ee2e5a419d925cbd370c79043ed69a5cb4cb08bf
   "metadata": {
    "tags": []
   },
   "outputs": [],
   "source": [
    "pagina = 0\n",
    "html_produtos = []\n",
    "flag = 0\n",
    "\n",
    "while flag == 0:\n",
    "    items = html.findAll('div', {\"class\":\"sc-fzqNqU jmuOAh\"})\n",
    "    if items != []:\n",
    "        try:\n",
    "            pagina = pagina + 1\n",
    "            browser.get(f'https://www.kabum.com.br/hardware/placa-de-video-vga?pagina={pagina}')\n",
    "            html = soup(browser.page_source, 'html.parser')\n",
    "            browser.implicitly_wait(5)\n",
    "        except Exception: break\n",
    "        html_produtos.append(items)\n",
    "    else:\n",
    "        break"
   ]
  },
  {
   "source": [
    "### Tranformação da lista de listas em uma lista normal para percorer com mais facildiade os atributos do produto"
   ],
   "cell_type": "markdown",
   "metadata": {}
  },
  {
   "cell_type": "code",
<<<<<<< HEAD
   "execution_count": 7,
=======
   "execution_count": 6,
>>>>>>> ee2e5a419d925cbd370c79043ed69a5cb4cb08bf
   "metadata": {},
   "outputs": [],
   "source": [
    "flat_list = []\n",
    "for sublist in html_produtos:\n",
    "    for item in sublist:\n",
    "        flat_list.append(item)"
   ]
  },
  {
   "source": [
    "### Percorrendo a lista, capurando e salvando cada atributo no dicionario"
   ],
   "cell_type": "markdown",
   "metadata": {}
  },
  {
   "cell_type": "code",
<<<<<<< HEAD
   "execution_count": 8,
=======
   "execution_count": 7,
>>>>>>> ee2e5a419d925cbd370c79043ed69a5cb4cb08bf
   "metadata": {
    "tags": []
   },
   "outputs": [],
   "source": [
    "now = datetime.now()\n",
    "produtos = []\n",
    "\n",
    "for container in flat_list:\n",
    "    \n",
    "    # Estreutura de para salvar\n",
    "    marca = container.div.img['alt']\n",
    "    nome_produto = container.find('a', {\"class\":\"sc-fzoLsD gnrNhT item-nome\"}).text\n",
    "\n",
    "    if container.find('div', {\"class\":\"sc-fzpjYC hKlXgM\"}) != None:\n",
    "        preco_antigo_cartao = (container.find('div', {\"class\":\"sc-fzpjYC hKlXgM\"}).text).split(\" \")[2]\n",
    "    else: \n",
    "        preco_antigo_cartao = '0'\n",
    "    preco_atual_cartao =  (container.find('div', {\"class\":\"sc-fznxsB ksiZrQ\"}).text).split(\" \")[1]\n",
    "    preco_boleto = (container.find('div', {\"class\":\"sc-fznWqX qatGF\"}).text).split(\" \")[1]\n",
    "    \n",
    "    image = container.find('div', {\"class\":\"sc-fznKkj fEpBwY\"})\n",
    "    if \"indisponivel\" in image.img['src']:\n",
    "        disponibilidade = 'Indisponivel'\n",
    "    elif \"disponivel\" in image.img['src']:\n",
    "        disponibilidade = 'Disponivel'\n",
    "\n",
    "    produto = {\n",
    "        \"marca\" : marca,\n",
    "        \"nome_produto\": nome_produto,\n",
    "        \"preco_antigo_cartao\": preco_antigo_cartao,\n",
    "        \"preco_atual_cartao\": preco_atual_cartao,\n",
    "        \"preco_boleto\": preco_boleto,\n",
    "        \"disponibilidade\": disponibilidade,\n",
    "        \"data\" : now.strftime(\"%Y-%m-%d\"),\n",
    "        \"hora\":  now.strftime(\"%H:%M:%S\"),\n",
    "        \"loja\": \"Kabum\" \n",
    "    }\n",
    "    produtos.append(produto)\n"
   ]
  },
  {
   "source": [
    "### Transformando o dict em Dataframe e visualizando uma amostra dos dados"
   ],
   "cell_type": "markdown",
   "metadata": {}
  },
  {
   "cell_type": "code",
<<<<<<< HEAD
   "execution_count": 9,
=======
   "execution_count": 8,
>>>>>>> ee2e5a419d925cbd370c79043ed69a5cb4cb08bf
   "metadata": {},
   "outputs": [
    {
     "output_type": "execute_result",
     "data": {
      "text/plain": [
       "        marca                                       nome_produto  \\\n",
<<<<<<< HEAD
       "0    Gigabyte  Placa de Vídeo Gigabyte NVIDIA GeForce GTX 165...   \n",
       "1    Sapphire  Placa de Vídeo Sapphire Pulse Lite Edition AMD...   \n",
       "2    Sapphire  Placa de Vídeo Sapphire AMD Radeon RX 550 Puls...   \n",
       "3        Asus  Placa de Vídeo Asus AMD Radeon RX 580 OC 8GB, ...   \n",
       "4        Asus  Placa de Vídeo Asus TUF NVIDIA GeForce RTX 206...   \n",
       "..        ...                                                ...   \n",
       "427  Gigabyte  Placa de Vídeo Gigabyte NVIDIA GeForce RTX 309...   \n",
       "428       MSI  Placa de Vídeo MSI NVIDIA Geforce RTX 3070 Gam...   \n",
       "429       MSI  Placa de Vídeo MSI NVIDIA Geforce RTX 3070 Ven...   \n",
       "430       MSI   Placa de Vídeo MSI Geforce RTX 3070 Ventus 2X OC   \n",
       "431     Galax  Placa de Vídeo GALAX NVIDIA GeForce RTX 3070 S...   \n",
       "\n",
       "    preco_antigo_cartao preco_atual_cartao preco_boleto disponibilidade  \\\n",
       "0              1.364,59           1.182,24     1.004,90      Disponivel   \n",
       "1              1.801,06           1.529,29     1.299,90      Disponivel   \n",
       "2                941,06             694,00       589,90      Disponivel   \n",
       "3                     0           1.646,94     1.399,90      Disponivel   \n",
       "4                     0           2.705,76     2.299,90      Disponivel   \n",
       "..                  ...                ...          ...             ...   \n",
       "427                   0          20.570,47    17.484,90    Indisponivel   \n",
       "428            6.776,35           5.882,24     4.999,90    Indisponivel   \n",
       "429            6.446,94           5.611,65     4.769,90    Indisponivel   \n",
       "430            6.341,06           5.517,53     4.689,90    Indisponivel   \n",
       "431                   0           7.783,41     6.615,90    Indisponivel   \n",
       "\n",
       "           data      hora   loja  \n",
       "0    2020-11-13  18:14:32  Kabum  \n",
       "1    2020-11-13  18:14:32  Kabum  \n",
       "2    2020-11-13  18:14:32  Kabum  \n",
       "3    2020-11-13  18:14:32  Kabum  \n",
       "4    2020-11-13  18:14:32  Kabum  \n",
       "..          ...       ...    ...  \n",
       "427  2020-11-13  18:14:32  Kabum  \n",
       "428  2020-11-13  18:14:32  Kabum  \n",
       "429  2020-11-13  18:14:32  Kabum  \n",
       "430  2020-11-13  18:14:32  Kabum  \n",
       "431  2020-11-13  18:14:32  Kabum  \n",
       "\n",
       "[432 rows x 9 columns]"
      ],
      "text/html": "<div>\n<style scoped>\n    .dataframe tbody tr th:only-of-type {\n        vertical-align: middle;\n    }\n\n    .dataframe tbody tr th {\n        vertical-align: top;\n    }\n\n    .dataframe thead th {\n        text-align: right;\n    }\n</style>\n<table border=\"1\" class=\"dataframe\">\n  <thead>\n    <tr style=\"text-align: right;\">\n      <th></th>\n      <th>marca</th>\n      <th>nome_produto</th>\n      <th>preco_antigo_cartao</th>\n      <th>preco_atual_cartao</th>\n      <th>preco_boleto</th>\n      <th>disponibilidade</th>\n      <th>data</th>\n      <th>hora</th>\n      <th>loja</th>\n    </tr>\n  </thead>\n  <tbody>\n    <tr>\n      <th>0</th>\n      <td>Gigabyte</td>\n      <td>Placa de Vídeo Gigabyte NVIDIA GeForce GTX 165...</td>\n      <td>1.364,59</td>\n      <td>1.182,24</td>\n      <td>1.004,90</td>\n      <td>Disponivel</td>\n      <td>2020-11-13</td>\n      <td>18:14:32</td>\n      <td>Kabum</td>\n    </tr>\n    <tr>\n      <th>1</th>\n      <td>Sapphire</td>\n      <td>Placa de Vídeo Sapphire Pulse Lite Edition AMD...</td>\n      <td>1.801,06</td>\n      <td>1.529,29</td>\n      <td>1.299,90</td>\n      <td>Disponivel</td>\n      <td>2020-11-13</td>\n      <td>18:14:32</td>\n      <td>Kabum</td>\n    </tr>\n    <tr>\n      <th>2</th>\n      <td>Sapphire</td>\n      <td>Placa de Vídeo Sapphire AMD Radeon RX 550 Puls...</td>\n      <td>941,06</td>\n      <td>694,00</td>\n      <td>589,90</td>\n      <td>Disponivel</td>\n      <td>2020-11-13</td>\n      <td>18:14:32</td>\n      <td>Kabum</td>\n    </tr>\n    <tr>\n      <th>3</th>\n      <td>Asus</td>\n      <td>Placa de Vídeo Asus AMD Radeon RX 580 OC 8GB, ...</td>\n      <td>0</td>\n      <td>1.646,94</td>\n      <td>1.399,90</td>\n      <td>Disponivel</td>\n      <td>2020-11-13</td>\n      <td>18:14:32</td>\n      <td>Kabum</td>\n    </tr>\n    <tr>\n      <th>4</th>\n      <td>Asus</td>\n      <td>Placa de Vídeo Asus TUF NVIDIA GeForce RTX 206...</td>\n      <td>0</td>\n      <td>2.705,76</td>\n      <td>2.299,90</td>\n      <td>Disponivel</td>\n      <td>2020-11-13</td>\n      <td>18:14:32</td>\n      <td>Kabum</td>\n    </tr>\n    <tr>\n      <th>...</th>\n      <td>...</td>\n      <td>...</td>\n      <td>...</td>\n      <td>...</td>\n      <td>...</td>\n      <td>...</td>\n      <td>...</td>\n      <td>...</td>\n      <td>...</td>\n    </tr>\n    <tr>\n      <th>427</th>\n      <td>Gigabyte</td>\n      <td>Placa de Vídeo Gigabyte NVIDIA GeForce RTX 309...</td>\n      <td>0</td>\n      <td>20.570,47</td>\n      <td>17.484,90</td>\n      <td>Indisponivel</td>\n      <td>2020-11-13</td>\n      <td>18:14:32</td>\n      <td>Kabum</td>\n    </tr>\n    <tr>\n      <th>428</th>\n      <td>MSI</td>\n      <td>Placa de Vídeo MSI NVIDIA Geforce RTX 3070 Gam...</td>\n      <td>6.776,35</td>\n      <td>5.882,24</td>\n      <td>4.999,90</td>\n      <td>Indisponivel</td>\n      <td>2020-11-13</td>\n      <td>18:14:32</td>\n      <td>Kabum</td>\n    </tr>\n    <tr>\n      <th>429</th>\n      <td>MSI</td>\n      <td>Placa de Vídeo MSI NVIDIA Geforce RTX 3070 Ven...</td>\n      <td>6.446,94</td>\n      <td>5.611,65</td>\n      <td>4.769,90</td>\n      <td>Indisponivel</td>\n      <td>2020-11-13</td>\n      <td>18:14:32</td>\n      <td>Kabum</td>\n    </tr>\n    <tr>\n      <th>430</th>\n      <td>MSI</td>\n      <td>Placa de Vídeo MSI Geforce RTX 3070 Ventus 2X OC</td>\n      <td>6.341,06</td>\n      <td>5.517,53</td>\n      <td>4.689,90</td>\n      <td>Indisponivel</td>\n      <td>2020-11-13</td>\n      <td>18:14:32</td>\n      <td>Kabum</td>\n    </tr>\n    <tr>\n      <th>431</th>\n      <td>Galax</td>\n      <td>Placa de Vídeo GALAX NVIDIA GeForce RTX 3070 S...</td>\n      <td>0</td>\n      <td>7.783,41</td>\n      <td>6.615,90</td>\n      <td>Indisponivel</td>\n      <td>2020-11-13</td>\n      <td>18:14:32</td>\n      <td>Kabum</td>\n    </tr>\n  </tbody>\n</table>\n<p>432 rows × 9 columns</p>\n</div>"
     },
     "metadata": {},
     "execution_count": 9
=======
       "271      Evga  Placa de Vídeo VGA EVGA GeForce GTX650 1GB SC ...   \n",
       "368       MSI  Placa de Vídeo MSI AMD Radeon RX 5700 Gaming X...   \n",
       "3       Galax  Placa de Vídeo Galax NVIDIA GeForce GT 710 1GB...   \n",
       "239       MSI  Placa de Vídeo MSI NVIDIA GeForce GTX 1050 Ti ...   \n",
       "120    ASRock  Placa de Vídeo ASRock AMD Radeon RX5700 XT Tai...   \n",
       "294     Zotac  Placa de Vídeo Zotac NVIDIA GeForce GTX 1050 M...   \n",
       "192       MSI  Placa de Vídeo MSI NVIDIA Geforce RTX 2080 Sup...   \n",
       "205    ASRock  Placa de Video Asrock Phantom Gaming D Radeon ...   \n",
       "104      Asus  Placa de Vídeo Asus Dual AMD Radeon RX 5500 XT...   \n",
       "72   Sapphire  Placa de Vídeo Sapphire Pulse AMD Radeon RX 57...   \n",
       "\n",
       "    preco_antigo_cartao preco_atual_cartao preco_boleto disponibilidade  \\\n",
       "271                   0             463,90       394,31    Indisponivel   \n",
       "368            3.764,59           3.058,71     2.599,90    Indisponivel   \n",
       "3                336,74             294,63       279,90      Disponivel   \n",
       "239            1.294,00           1.176,35       999,90      Disponivel   \n",
       "120                   0           4.046,94     3.439,90      Disponivel   \n",
       "294                   0             694,00       624,60    Indisponivel   \n",
       "192            5.882,24           5.646,94     4.799,90      Disponivel   \n",
       "205                   0           1.529,29     1.299,90      Disponivel   \n",
       "104                   0           2.035,18     1.729,90      Disponivel   \n",
       "72                    0           1.882,24     1.599,90      Disponivel   \n",
       "\n",
       "           data      hora   loja  \n",
       "271  2020-10-12  12:33:56  Kabum  \n",
       "368  2020-10-12  12:33:56  Kabum  \n",
       "3    2020-10-12  12:33:56  Kabum  \n",
       "239  2020-10-12  12:33:56  Kabum  \n",
       "120  2020-10-12  12:33:56  Kabum  \n",
       "294  2020-10-12  12:33:56  Kabum  \n",
       "192  2020-10-12  12:33:56  Kabum  \n",
       "205  2020-10-12  12:33:56  Kabum  \n",
       "104  2020-10-12  12:33:56  Kabum  \n",
       "72   2020-10-12  12:33:56  Kabum  "
      ],
      "text/html": "<div>\n<style scoped>\n    .dataframe tbody tr th:only-of-type {\n        vertical-align: middle;\n    }\n\n    .dataframe tbody tr th {\n        vertical-align: top;\n    }\n\n    .dataframe thead th {\n        text-align: right;\n    }\n</style>\n<table border=\"1\" class=\"dataframe\">\n  <thead>\n    <tr style=\"text-align: right;\">\n      <th></th>\n      <th>marca</th>\n      <th>nome_produto</th>\n      <th>preco_antigo_cartao</th>\n      <th>preco_atual_cartao</th>\n      <th>preco_boleto</th>\n      <th>disponibilidade</th>\n      <th>data</th>\n      <th>hora</th>\n      <th>loja</th>\n    </tr>\n  </thead>\n  <tbody>\n    <tr>\n      <th>271</th>\n      <td>Evga</td>\n      <td>Placa de Vídeo VGA EVGA GeForce GTX650 1GB SC ...</td>\n      <td>0</td>\n      <td>463,90</td>\n      <td>394,31</td>\n      <td>Indisponivel</td>\n      <td>2020-10-12</td>\n      <td>12:33:56</td>\n      <td>Kabum</td>\n    </tr>\n    <tr>\n      <th>368</th>\n      <td>MSI</td>\n      <td>Placa de Vídeo MSI AMD Radeon RX 5700 Gaming X...</td>\n      <td>3.764,59</td>\n      <td>3.058,71</td>\n      <td>2.599,90</td>\n      <td>Indisponivel</td>\n      <td>2020-10-12</td>\n      <td>12:33:56</td>\n      <td>Kabum</td>\n    </tr>\n    <tr>\n      <th>3</th>\n      <td>Galax</td>\n      <td>Placa de Vídeo Galax NVIDIA GeForce GT 710 1GB...</td>\n      <td>336,74</td>\n      <td>294,63</td>\n      <td>279,90</td>\n      <td>Disponivel</td>\n      <td>2020-10-12</td>\n      <td>12:33:56</td>\n      <td>Kabum</td>\n    </tr>\n    <tr>\n      <th>239</th>\n      <td>MSI</td>\n      <td>Placa de Vídeo MSI NVIDIA GeForce GTX 1050 Ti ...</td>\n      <td>1.294,00</td>\n      <td>1.176,35</td>\n      <td>999,90</td>\n      <td>Disponivel</td>\n      <td>2020-10-12</td>\n      <td>12:33:56</td>\n      <td>Kabum</td>\n    </tr>\n    <tr>\n      <th>120</th>\n      <td>ASRock</td>\n      <td>Placa de Vídeo ASRock AMD Radeon RX5700 XT Tai...</td>\n      <td>0</td>\n      <td>4.046,94</td>\n      <td>3.439,90</td>\n      <td>Disponivel</td>\n      <td>2020-10-12</td>\n      <td>12:33:56</td>\n      <td>Kabum</td>\n    </tr>\n    <tr>\n      <th>294</th>\n      <td>Zotac</td>\n      <td>Placa de Vídeo Zotac NVIDIA GeForce GTX 1050 M...</td>\n      <td>0</td>\n      <td>694,00</td>\n      <td>624,60</td>\n      <td>Indisponivel</td>\n      <td>2020-10-12</td>\n      <td>12:33:56</td>\n      <td>Kabum</td>\n    </tr>\n    <tr>\n      <th>192</th>\n      <td>MSI</td>\n      <td>Placa de Vídeo MSI NVIDIA Geforce RTX 2080 Sup...</td>\n      <td>5.882,24</td>\n      <td>5.646,94</td>\n      <td>4.799,90</td>\n      <td>Disponivel</td>\n      <td>2020-10-12</td>\n      <td>12:33:56</td>\n      <td>Kabum</td>\n    </tr>\n    <tr>\n      <th>205</th>\n      <td>ASRock</td>\n      <td>Placa de Video Asrock Phantom Gaming D Radeon ...</td>\n      <td>0</td>\n      <td>1.529,29</td>\n      <td>1.299,90</td>\n      <td>Disponivel</td>\n      <td>2020-10-12</td>\n      <td>12:33:56</td>\n      <td>Kabum</td>\n    </tr>\n    <tr>\n      <th>104</th>\n      <td>Asus</td>\n      <td>Placa de Vídeo Asus Dual AMD Radeon RX 5500 XT...</td>\n      <td>0</td>\n      <td>2.035,18</td>\n      <td>1.729,90</td>\n      <td>Disponivel</td>\n      <td>2020-10-12</td>\n      <td>12:33:56</td>\n      <td>Kabum</td>\n    </tr>\n    <tr>\n      <th>72</th>\n      <td>Sapphire</td>\n      <td>Placa de Vídeo Sapphire Pulse AMD Radeon RX 57...</td>\n      <td>0</td>\n      <td>1.882,24</td>\n      <td>1.599,90</td>\n      <td>Disponivel</td>\n      <td>2020-10-12</td>\n      <td>12:33:56</td>\n      <td>Kabum</td>\n    </tr>\n  </tbody>\n</table>\n</div>"
     },
     "metadata": {},
     "execution_count": 8
>>>>>>> ee2e5a419d925cbd370c79043ed69a5cb4cb08bf
    }
   ],
   "source": [
    "df = pd.DataFrame(produtos)\n",
    "df"
   ]
  },
  {
   "source": [
    "\n",
    "### Criando a conexão com o banco e salvando os dados"
   ],
   "cell_type": "markdown",
   "metadata": {}
  },
  {
   "cell_type": "code",
<<<<<<< HEAD
   "execution_count": 22,
=======
   "execution_count": 9,
>>>>>>> ee2e5a419d925cbd370c79043ed69a5cb4cb08bf
   "metadata": {},
   "outputs": [],
   "source": [
    "df.to_sql('graphic_card', con=engine, if_exists='append', index = False)"
   ]
  },
  {
   "source": [
    "----------------------------------------------------------------------------------------------------"
   ],
   "cell_type": "markdown",
   "metadata": {}
  },
  {
   "source": [
    "(fora de uso devido a mudança nas politicas do site)"
   ],
   "cell_type": "markdown",
   "metadata": {}
  },
  {
   "cell_type": "code",
   "execution_count": 11,
   "metadata": {},
   "outputs": [],
   "source": [
    "# #--| Parse or automation\n",
    "# browser.get('https://www.pichau.com.br/hardware/placa-de-video?p=1')\n",
    "# web = soup(browser.page_source, 'html.parser')\n",
    "# browser.implicitly_wait(20)"
   ]
  },
  {
   "cell_type": "code",
   "execution_count": 12,
   "metadata": {
    "tags": []
   },
   "outputs": [],
   "source": [
    "# pagina = 0\n",
    "# html_produtos = []\n",
    "# flag = 0\n",
    "\n",
    "# while pagina != 9:\n",
    "#     items = web.findAll('div', {\"class\":\"product-item-info\"})\n",
    "#     if items != []:\n",
    "#         try:\n",
    "#             pagina = pagina + 1\n",
    "#             browser.get(f'https://www.pichau.com.br/hardware/placa-de-video?p={pagina}')\n",
    "#             web = soup(browser.page_source, 'html.parser')\n",
    "#         except Exception: break\n",
    "#         html_produtos.append(items)\n",
    "#     else:\n",
    "#         break"
   ]
  },
  {
   "cell_type": "code",
   "execution_count": 13,
   "metadata": {},
   "outputs": [],
   "source": [
    "# flat_list = []\n",
    "# for sublist in html_produtos:\n",
    "#     for item in sublist:\n",
    "#         flat_list.append(item)"
   ]
  },
  {
   "cell_type": "code",
   "execution_count": 14,
   "metadata": {},
   "outputs": [],
   "source": [
    "# def extract_brand(name):\n",
    "#     if 'AFOX' in name.upper():\n",
    "#         return 'AFOX'\n",
    "#     elif 'AMD' in name.upper():\n",
    "#         return 'AMD'\n",
    "#     elif 'ASROCK' in name.upper():\n",
    "#         return 'ASRock'\n",
    "#     elif 'ASUS' in name.upper():\n",
    "#         return 'Asus'\n",
    "#     elif 'EVGA' in name.upper():\n",
    "#         return 'EVGA'\n",
    "#     elif 'GALAX' in name.upper():\n",
    "#         return 'Galax'\n",
    "#     elif 'GAINWARD' in name.upper():\n",
    "#         return 'Gainward'\n",
    "#     elif 'GIGABYTE' in name.upper():\n",
    "#         return 'Gigabyte'\n",
    "#     elif 'MSI' in name.upper():\n",
    "#         return 'MSI'\n",
    "#     elif 'PCYES!' in name.upper():\n",
    "#         return 'PCYES'\n",
    "#     elif 'PNY' in name.upper():\n",
    "#         return 'PNY'\n",
    "#     elif 'POWERCOLOR' in name.upper():\n",
    "#         return 'PowerColor'\n",
    "#     elif 'SAPPHIRE' in name.upper():\n",
    "#         return 'Sapphire'\n",
    "#     elif 'XFX' in name.upper():\n",
    "#         return 'XFX'\n",
    "#     elif 'ZOGIS' in name.upper():\n",
    "#         return 'ZOGIS'\n",
    "#     elif 'ZOTAC' in name.upper():\n",
    "#         return 'Zotac'\n",
    "#     else:\n",
    "#         return ''\n",
    "\n",
    "# now = datetime.now()\n",
    "# produtos_pichau = []\n",
    "\n",
    "# for container in flat_list:\n",
    "#     if container.find('span', {\"class\":\"price\"}) != None:\n",
    "#         # Estreutura de para salvar\n",
    "#         marca = extract_brand(container.find('a', {\"class\":\"product-item-link\"}).text)\n",
    "#         nome_produto = container.find('a', {\"class\":\"product-item-link\"}).text\n",
    "\n",
    "#         preco_atual_cartao =  (container.find('span', {\"class\":\"price\"}).text)\n",
    "#         preco_boleto = (container.find('span', {\"class\":\"price-boleto\"}).text).split(\" \")[2]\n",
    "        \n",
    "#         disponibilidade = 'Disponivel'\n",
    "\n",
    "#         produto = {\n",
    "#             \"marca\" : marca,\n",
    "#             \"nome_produto\": nome_produto,\n",
    "#             \"preco_antigo_cartao\": '0',\n",
    "#             \"preco_atual_cartao\": preco_atual_cartao,\n",
    "#             \"preco_boleto\": preco_boleto,\n",
    "#             \"disponibilidade\": disponibilidade,\n",
    "#             \"data\" : now.strftime(\"%Y-%m-%d\"),\n",
    "#             \"hora\":  now.strftime(\"%H:%M:%S\"),\n",
    "#             \"loja\": \"Pichau\" \n",
    "#         }\n",
    "#         produtos_pichau.append(produto)"
   ]
  },
  {
   "cell_type": "code",
   "execution_count": 15,
   "metadata": {},
   "outputs": [],
   "source": [
    "# df_pichau = pd.DataFrame(produtos_pichau)\n",
    "# df_pichau['preco_atual_cartao'] = df_pichau['preco_atual_cartao'].replace({'R\\$':''}, regex = True)\n",
    "# df_pichau['preco_boleto'] = df_pichau['preco_boleto'].replace({'R\\$':''}, regex = True)\n",
    "# df_pichau['nome_produto'] = df_pichau['nome_produto'].replace({'\\n':''}, regex = True)\n",
    "# df_pichau.sample(10)"
   ]
  },
  {
   "cell_type": "code",
   "execution_count": 16,
   "metadata": {},
   "outputs": [],
   "source": [
    "# df_pichau.to_sql('graphic_card', con=engine, if_exists='append', index = False) "
   ]
  },
  {
   "source": [
    "_______________________________________________________"
   ],
   "cell_type": "markdown",
   "metadata": {}
  },
  {
   "cell_type": "code",
   "execution_count": 17,
   "metadata": {
    "tags": []
   },
   "outputs": [],
   "source": [
    "# containers = html.findAll('div', {\"class\":\"sc-fzqNqU jmuOAh\"})\n",
    "# https://www.kabum.com.br/cgi-local/site/listagem/listagem.cgi?string=processador&btnG=&pagina=1&ordem=5&limite=30&prime=false&marcas=[%225%22,%226%22]&tipo_produto=[]&filtro=[]"
   ]
  },
  {
   "cell_type": "code",
   "execution_count": 18,
   "metadata": {
    "tags": []
   },
   "outputs": [],
   "source": [
    "# images = html.findAll('div', {\"class\":\"sc-fznKkj fEpBwY\"})\n",
    "\n",
    "# # images.img['src']\n",
    "# for image in images:\n",
    "#     print(image.img['src'])\n",
    "#     # if \"indisponivel\" in image.img['src']:\n",
    "#     #     print('Indisponivel')\n",
    "#     # elif \"disponivel\" in image.img['src']:\n",
    "#     #     print('Disponivel')"
   ]
  },
  {
   "cell_type": "code",
   "execution_count": 19,
   "metadata": {},
   "outputs": [],
   "source": [
    "# preco_antigo_cartao = float((container.find('div', {\"class\":\"sc-fzpjYC hKlXgM\"}).text).split(\" \")[2].replace('.', '').replace(',', '.'))\n",
    "# preco_atual_cartao =  float((container.find('div', {\"class\":\"sc-fznxsB ksiZrQ\"}).text).split(\" \")[1].replace('.', '').replace(',', '.'))\n",
    "# preco_boleto = float((container.find('div', {\"class\":\"sc-fznWqX qatGF\"}).text).split(\" \")[1].replace('.', '').replace(',', '.'))\n"
   ]
  },
  {
   "cell_type": "code",
   "execution_count": 20,
   "metadata": {
    "tags": []
   },
   "outputs": [],
   "source": [
    "# print(preco_antigo_cartao)\n",
    "# # print(re.search('^(([1-9]\\d{0,2}(\\.\\d{3})*)|(([1-9]\\.\\d*)?\\d))(\\,\\d\\d)?', preco_atual_cartao).group())\n",
    "# print(preco_atual_cartao)\n",
    "# print(preco_boleto)"
   ]
  },
  {
   "cell_type": "code",
   "execution_count": 21,
   "metadata": {},
   "outputs": [],
   "source": [
    "# item_aux.find('span')\n",
    "# nao_disponivel\n",
    "# if \"Indisponivel\" not in item_aux.find('span').text:\n",
    "#     print('Entrou aqui')\n",
    "#     item_aux.find('a', {\"class\":\"product-item-link\"}).text\n",
    "#     item_aux.find('span', {\"class\":\"price\"}).text\n",
    "#     item_aux.find('span', {\"class\":\"price-boleto\"}).text.split(\" \")[2]\n",
    "# else:\n",
    "#     print('Não ta')\n",
    "# if item_aux.find('div', {\"class\":\"price\"}) != None:\n",
    "#     print('Não ta')\n",
    "# else:\n",
    "#     print('Não ta2')"
   ]
  }
 ]
}