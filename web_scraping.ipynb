{
 "metadata": {
  "language_info": {
   "codemirror_mode": {
    "name": "ipython",
    "version": 3
   },
   "file_extension": ".py",
   "mimetype": "text/x-python",
   "name": "python",
   "nbconvert_exporter": "python",
   "pygments_lexer": "ipython3",
   "version": "3.8.3-final"
  },
  "orig_nbformat": 2,
  "kernelspec": {
   "name": "python_defaultSpec_1599081940065",
   "display_name": "Python 3.8.3 64-bit"
  }
 },
 "nbformat": 4,
 "nbformat_minor": 2,
 "cells": [
  {
   "cell_type": "code",
   "execution_count": 1,
   "metadata": {},
   "outputs": [],
   "source": [
    "import requests\n",
    "from bs4 import BeautifulSoup as soup\n",
    "from selenium import webdriver\n",
    "from selenium.webdriver.chrome.options import Options\n",
    "from selenium.webdriver.common.keys import Keys\n",
    "import re\n",
    "from datetime import datetime\n",
    "import pandas as pd"
   ]
  },
  {
   "cell_type": "code",
   "execution_count": 51,
   "metadata": {},
   "outputs": [],
   "source": [
    "#--| Setup\n",
    "options = Options()\n",
    "options.add_argument('--ignore-certificate-errors')\n",
    "options.add_argument('--incognito')\n",
    "options.add_argument('--headless')\n",
    "#options.add_argument(\"--headless\")\n",
    "browser = webdriver.Chrome(executable_path=r'chromedriver.exe', options=options)\n",
    "#--| Parse or automation\n",
    "browser.get('https://www.kabum.com.br/hardware/placa-de-video-vga?pagina=1')\n",
    "html = soup(browser.page_source, 'html.parser')\n",
    "# browser.implicitly_wait(5)"
   ]
  },
  {
   "cell_type": "code",
   "execution_count": 23,
   "metadata": {
    "tags": []
   },
   "outputs": [],
   "source": [
    "# containers = html.findAll('div', {\"class\":\"sc-fzqNqU jmuOAh\"})"
   ]
  },
  {
   "cell_type": "code",
   "execution_count": 4,
   "metadata": {},
   "outputs": [],
   "source": [
    "# preco_antigo_cartao = float((container.find('div', {\"class\":\"sc-fzpjYC hKlXgM\"}).text).split(\" \")[2].replace('.', '').replace(',', '.'))\n",
    "# preco_atual_cartao =  float((container.find('div', {\"class\":\"sc-fznxsB ksiZrQ\"}).text).split(\" \")[1].replace('.', '').replace(',', '.'))\n",
    "# preco_boleto = float((container.find('div', {\"class\":\"sc-fznWqX qatGF\"}).text).split(\" \")[1].replace('.', '').replace(',', '.'))\n"
   ]
  },
  {
   "cell_type": "code",
   "execution_count": 3,
   "metadata": {
    "tags": []
   },
   "outputs": [],
   "source": [
    "# print(preco_antigo_cartao)\n",
    "# # print(re.search('^(([1-9]\\d{0,2}(\\.\\d{3})*)|(([1-9]\\.\\d*)?\\d))(\\,\\d\\d)?', preco_atual_cartao).group())\n",
    "# print(preco_atual_cartao)\n",
    "# print(preco_boleto)"
   ]
  },
  {
   "cell_type": "code",
   "execution_count": 52,
   "metadata": {
    "tags": []
   },
   "outputs": [],
   "source": [
    "pagina = 0\n",
    "html_produtos = []\n",
    "flag = 0\n",
    "\n",
    "while flag == 0:\n",
    "    items = html.findAll('div', {\"class\":\"sc-fzqNqU jmuOAh\"})\n",
    "    if items != []:\n",
    "        try:\n",
    "            pagina = pagina + 1\n",
    "            browser.get(f'https://www.kabum.com.br/hardware/placa-de-video-vga?pagina={pagina}')\n",
    "            html = soup(browser.page_source, 'html.parser')\n",
    "        except Exception: break\n",
    "        html_produtos.append(items)\n",
    "    else:\n",
    "        break"
   ]
  },
  {
   "cell_type": "code",
   "execution_count": 55,
   "metadata": {},
   "outputs": [],
   "source": [
    "flat_list = []\n",
    "for sublist in html_produtos:\n",
    "    for item in sublist:\n",
    "        flat_list.append(item)"
   ]
  },
  {
   "cell_type": "code",
   "execution_count": 56,
   "metadata": {
    "tags": []
   },
   "outputs": [],
   "source": [
    "now = datetime.now()\n",
    "produtos = []\n",
    "\n",
    "for container in flat_list:\n",
    "    \n",
    "    # Estreutura de para salvar\n",
    "    marca = container.div.img['alt']\n",
    "    nome_produto = container.find('a', {\"class\":\"sc-fzoLsD gnrNhT item-nome\"}).text\n",
    "\n",
    "    if container.find('div', {\"class\":\"sc-fzpjYC hKlXgM\"}) != None:\n",
    "        preco_antigo_cartao = (container.find('div', {\"class\":\"sc-fzpjYC hKlXgM\"}).text).split(\" \")[2]\n",
    "    else: \n",
    "        preco_antigo_cartao = '0'\n",
    "    preco_atual_cartao =  (container.find('div', {\"class\":\"sc-fznxsB ksiZrQ\"}).text).split(\" \")[1]\n",
    "    preco_boleto = (container.find('div', {\"class\":\"sc-fznWqX qatGF\"}).text).split(\" \")[1]\n",
    "    \n",
    "    produto = {\n",
    "        \"marca\" : marca,\n",
    "        \"nome_produto\": nome_produto,\n",
    "        \"preco_antigo_cartao\": preco_antigo_cartao,\n",
    "        \"preco_atual_cartao\": preco_atual_cartao,\n",
    "        \"preco_boleto\": preco_boleto,\n",
    "        \"data_hora\" : now.strftime(\"%d/%m/%Y %H:%M:%S\")\n",
    "    }\n",
    "    produtos.append(produto)\n"
   ]
  },
  {
   "cell_type": "code",
   "execution_count": 57,
   "metadata": {},
   "outputs": [
    {
     "output_type": "execute_result",
     "data": {
      "text/plain": "          marca                                       nome_produto  \\\n0      Gigabyte  Placa de Vídeo Gigabyte NVIDIA GeForce GTX 165...   \n1          Asus  Placa de Vídeo Asus TUF NVIDIA GeForce RTX 206...   \n2          Asus  Placa de Vídeo Asus TUF3 NVIDIA GeForce GTX 16...   \n3      Gigabyte  Placa de Vídeo Gigabyte NVIDIA GeForce GTX 165...   \n4      Gigabyte  Placa de Vídeo Gigabyte GTX 1660 Super OC NVID...   \n..          ...                                                ...   \n370         Pny  Placa de Vídeo PNY NVIDIA Quadro P400, 2GB, GD...   \n371  Powercolor  Placa de Vídeo PowerColor Red Dragon AMD Radeo...   \n372         MSI  Placa de Vídeo MSI NVIDIA GeForce GTX 1650 Gam...   \n373      ASRock  Placa de Vídeo ASRock AMD Radeon RX 5700 XT Ph...   \n374    Sapphire  Placa de Vídeo Sapphire Pulse AMD Radeon RX 57...   \n\n    preco_antigo_cartao preco_atual_cartao preco_boleto            data_hora  \n0                     0           1.399,89     1.329,90  02/09/2020 20:18:02  \n1              2.894,00           2.658,71     2.259,90  02/09/2020 20:18:02  \n2                     0           2.420,95     2.299,90  02/09/2020 20:18:02  \n3                     0           1.578,84     1.499,90  02/09/2020 20:18:02  \n4                     0           2.210,42     2.099,90  02/09/2020 20:18:02  \n..                  ...                ...          ...                  ...  \n370                   0           1.311,65     1.114,90  02/09/2020 20:18:02  \n371                   0             783,41       665,90  02/09/2020 20:18:02  \n372            1.599,88           1.388,12     1.179,90  02/09/2020 20:18:02  \n373                   0           3.835,18     3.259,90  02/09/2020 20:18:02  \n374            4.177,53           3.529,29     2.999,90  02/09/2020 20:18:02  \n\n[375 rows x 6 columns]",
      "text/html": "<div>\n<style scoped>\n    .dataframe tbody tr th:only-of-type {\n        vertical-align: middle;\n    }\n\n    .dataframe tbody tr th {\n        vertical-align: top;\n    }\n\n    .dataframe thead th {\n        text-align: right;\n    }\n</style>\n<table border=\"1\" class=\"dataframe\">\n  <thead>\n    <tr style=\"text-align: right;\">\n      <th></th>\n      <th>marca</th>\n      <th>nome_produto</th>\n      <th>preco_antigo_cartao</th>\n      <th>preco_atual_cartao</th>\n      <th>preco_boleto</th>\n      <th>data_hora</th>\n    </tr>\n  </thead>\n  <tbody>\n    <tr>\n      <th>0</th>\n      <td>Gigabyte</td>\n      <td>Placa de Vídeo Gigabyte NVIDIA GeForce GTX 165...</td>\n      <td>0</td>\n      <td>1.399,89</td>\n      <td>1.329,90</td>\n      <td>02/09/2020 20:18:02</td>\n    </tr>\n    <tr>\n      <th>1</th>\n      <td>Asus</td>\n      <td>Placa de Vídeo Asus TUF NVIDIA GeForce RTX 206...</td>\n      <td>2.894,00</td>\n      <td>2.658,71</td>\n      <td>2.259,90</td>\n      <td>02/09/2020 20:18:02</td>\n    </tr>\n    <tr>\n      <th>2</th>\n      <td>Asus</td>\n      <td>Placa de Vídeo Asus TUF3 NVIDIA GeForce GTX 16...</td>\n      <td>0</td>\n      <td>2.420,95</td>\n      <td>2.299,90</td>\n      <td>02/09/2020 20:18:02</td>\n    </tr>\n    <tr>\n      <th>3</th>\n      <td>Gigabyte</td>\n      <td>Placa de Vídeo Gigabyte NVIDIA GeForce GTX 165...</td>\n      <td>0</td>\n      <td>1.578,84</td>\n      <td>1.499,90</td>\n      <td>02/09/2020 20:18:02</td>\n    </tr>\n    <tr>\n      <th>4</th>\n      <td>Gigabyte</td>\n      <td>Placa de Vídeo Gigabyte GTX 1660 Super OC NVID...</td>\n      <td>0</td>\n      <td>2.210,42</td>\n      <td>2.099,90</td>\n      <td>02/09/2020 20:18:02</td>\n    </tr>\n    <tr>\n      <th>...</th>\n      <td>...</td>\n      <td>...</td>\n      <td>...</td>\n      <td>...</td>\n      <td>...</td>\n      <td>...</td>\n    </tr>\n    <tr>\n      <th>370</th>\n      <td>Pny</td>\n      <td>Placa de Vídeo PNY NVIDIA Quadro P400, 2GB, GD...</td>\n      <td>0</td>\n      <td>1.311,65</td>\n      <td>1.114,90</td>\n      <td>02/09/2020 20:18:02</td>\n    </tr>\n    <tr>\n      <th>371</th>\n      <td>Powercolor</td>\n      <td>Placa de Vídeo PowerColor Red Dragon AMD Radeo...</td>\n      <td>0</td>\n      <td>783,41</td>\n      <td>665,90</td>\n      <td>02/09/2020 20:18:02</td>\n    </tr>\n    <tr>\n      <th>372</th>\n      <td>MSI</td>\n      <td>Placa de Vídeo MSI NVIDIA GeForce GTX 1650 Gam...</td>\n      <td>1.599,88</td>\n      <td>1.388,12</td>\n      <td>1.179,90</td>\n      <td>02/09/2020 20:18:02</td>\n    </tr>\n    <tr>\n      <th>373</th>\n      <td>ASRock</td>\n      <td>Placa de Vídeo ASRock AMD Radeon RX 5700 XT Ph...</td>\n      <td>0</td>\n      <td>3.835,18</td>\n      <td>3.259,90</td>\n      <td>02/09/2020 20:18:02</td>\n    </tr>\n    <tr>\n      <th>374</th>\n      <td>Sapphire</td>\n      <td>Placa de Vídeo Sapphire Pulse AMD Radeon RX 57...</td>\n      <td>4.177,53</td>\n      <td>3.529,29</td>\n      <td>2.999,90</td>\n      <td>02/09/2020 20:18:02</td>\n    </tr>\n  </tbody>\n</table>\n<p>375 rows × 6 columns</p>\n</div>"
     },
     "metadata": {},
     "execution_count": 57
    }
   ],
   "source": [
    "df = pd.DataFrame(produtos)\n",
    "df"
   ]
  },
  {
   "cell_type": "code",
   "execution_count": 34,
   "metadata": {},
   "outputs": [],
   "source": [
    "# containers"
   ]
  },
  {
   "cell_type": "code",
   "execution_count": null,
   "metadata": {},
   "outputs": [],
   "source": []
  },
  {
   "cell_type": "code",
   "execution_count": null,
   "metadata": {},
   "outputs": [],
   "source": []
  }
 ]
}