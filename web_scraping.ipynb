{
 "metadata": {
  "language_info": {
   "codemirror_mode": {
    "name": "ipython",
    "version": 3
   },
   "file_extension": ".py",
   "mimetype": "text/x-python",
   "name": "python",
   "nbconvert_exporter": "python",
   "pygments_lexer": "ipython3",
   "version": "3.8.3-final"
  },
  "orig_nbformat": 2,
  "kernelspec": {
   "name": "python_defaultSpec_1600297204642",
   "display_name": "Python 3.8.3 64-bit"
  }
 },
 "nbformat": 4,
 "nbformat_minor": 2,
 "cells": [
  {
   "source": [
    "# Imports"
   ],
   "cell_type": "markdown",
   "metadata": {}
  },
  {
   "cell_type": "code",
   "execution_count": 1,
   "metadata": {},
   "outputs": [],
   "source": [
    "import requests\n",
    "from bs4 import BeautifulSoup as soup\n",
    "from selenium import webdriver\n",
    "from selenium.webdriver.chrome.options import Options\n",
    "from selenium.webdriver.common.keys import Keys\n",
    "import re\n",
    "from datetime import datetime\n",
    "import pandas as pd\n",
    "from connection_keys import connection, alchemy_connection"
   ]
  },
  {
   "source": [
    "### Setup para abrir o navegador com o Selenium e puxar a primeira página"
   ],
   "cell_type": "markdown",
   "metadata": {}
  },
  {
   "cell_type": "code",
   "execution_count": 4,
   "metadata": {},
   "outputs": [],
   "source": [
    "#--| Setup\n",
    "options = Options()\n",
    "options.add_argument('--ignore-certificate-errors')\n",
    "options.add_argument('--incognito')\n",
    "options.add_argument('--headless')\n",
    "options.add_argument('--disable-extensions')\n",
    "#options.add_argument(\"--headless\")\n",
    "browser = webdriver.Chrome(executable_path=r'chromedriver.exe', options=options)"
   ]
  },
  {
   "cell_type": "code",
   "execution_count": 5,
   "metadata": {},
   "outputs": [],
   "source": [
    "\n",
    "#--| Parse or automation\n",
    "browser.get('https://www.kabum.com.br/hardware/placa-de-video-vga?pagina=1')\n",
    "html = soup(browser.page_source, 'html.parser')\n",
    "# browser.implicitly_wait(5)"
   ]
  },
  {
   "source": [
    "### Configuiração para percorer as páginas e salvar todos dados com a taga referente ao produto em uma lista"
   ],
   "cell_type": "markdown",
   "metadata": {}
  },
  {
   "cell_type": "code",
   "execution_count": 6,
   "metadata": {
    "tags": []
   },
   "outputs": [],
   "source": [
    "pagina = 0\n",
    "html_produtos = []\n",
    "flag = 0\n",
    "\n",
    "while flag == 0:\n",
    "    items = html.findAll('div', {\"class\":\"sc-fzqNqU jmuOAh\"})\n",
    "    if items != []:\n",
    "        try:\n",
    "            pagina = pagina + 1\n",
    "            browser.get(f'https://www.kabum.com.br/hardware/placa-de-video-vga?pagina={pagina}')\n",
    "            html = soup(browser.page_source, 'html.parser')\n",
    "        except Exception: break\n",
    "        html_produtos.append(items)\n",
    "    else:\n",
    "        break"
   ]
  },
  {
   "source": [
    "### Tranformação da lista de listas em uma lista normal para percorer com mais facildiade os atributos do produto"
   ],
   "cell_type": "markdown",
   "metadata": {}
  },
  {
   "cell_type": "code",
   "execution_count": 7,
   "metadata": {},
   "outputs": [],
   "source": [
    "flat_list = []\n",
    "for sublist in html_produtos:\n",
    "    for item in sublist:\n",
    "        flat_list.append(item)"
   ]
  },
  {
   "source": [
    "### Percorrendo a lista, capurando e salvando cada atributo no dicionario"
   ],
   "cell_type": "markdown",
   "metadata": {}
  },
  {
   "cell_type": "code",
   "execution_count": 8,
   "metadata": {
    "tags": []
   },
   "outputs": [],
   "source": [
    "now = datetime.now()\n",
    "produtos = []\n",
    "\n",
    "for container in flat_list:\n",
    "    \n",
    "    # Estreutura de para salvar\n",
    "    marca = container.div.img['alt']\n",
    "    nome_produto = container.find('a', {\"class\":\"sc-fzoLsD gnrNhT item-nome\"}).text\n",
    "\n",
    "    if container.find('div', {\"class\":\"sc-fzpjYC hKlXgM\"}) != None:\n",
    "        preco_antigo_cartao = (container.find('div', {\"class\":\"sc-fzpjYC hKlXgM\"}).text).split(\" \")[2]\n",
    "    else: \n",
    "        preco_antigo_cartao = '0'\n",
    "    preco_atual_cartao =  (container.find('div', {\"class\":\"sc-fznxsB ksiZrQ\"}).text).split(\" \")[1]\n",
    "    preco_boleto = (container.find('div', {\"class\":\"sc-fznWqX qatGF\"}).text).split(\" \")[1]\n",
    "    \n",
    "    image = container.find('div', {\"class\":\"sc-fznKkj fEpBwY\"})\n",
    "    if \"indisponivel\" in image.img['src']:\n",
    "        disponibilidade = 'Indisponivel'\n",
    "    elif \"disponivel\" in image.img['src']:\n",
    "        disponibilidade = 'Disponivel'\n",
    "\n",
    "    produto = {\n",
    "        \"marca\" : marca,\n",
    "        \"nome_produto\": nome_produto,\n",
    "        \"preco_antigo_cartao\": preco_antigo_cartao,\n",
    "        \"preco_atual_cartao\": preco_atual_cartao,\n",
    "        \"preco_boleto\": preco_boleto,\n",
    "        \"disponibilidade\": disponibilidade,\n",
    "        \"data\" : now.strftime(\"%Y-%m-%d\"),\n",
    "        \"hora\":  now.strftime(\"%H:%M:%S\"),\n",
    "        \"loja\": \"Kabum\" \n",
    "    }\n",
    "    produtos.append(produto)\n"
   ]
  },
  {
   "source": [
    "### Transformando o dict em Dataframe e visualizando uma amostra dos dados"
   ],
   "cell_type": "markdown",
   "metadata": {}
  },
  {
   "cell_type": "code",
   "execution_count": 9,
   "metadata": {},
   "outputs": [
    {
     "output_type": "execute_result",
     "data": {
      "text/plain": "          marca                                       nome_produto  \\\n295        Evga  Placa de Vídeo EVGA NVIDIA GeForce GTX 1060 3G...   \n118    Gainward  Placa de Vídeo Gainward NVIDIA GeForce RTX 208...   \n133   Rise Mode  Suporte para Placa de Vídeo Rise Mode Vermelho...   \n178        Evga  Placa de Video EVGA GeForce RTX 2060 Super SC ...   \n356         Amd  Placa de Vídeo AMD Radeon Pro WX 9100, 16GB, H...   \n55         Evga  Placa de Video EVGA GeForce RTX 2070 Super XC ...   \n252       Galax  Placa de Vídeo Galax NVIDIA GeForce RTX 2070 S...   \n381  Powercolor  Placa de Vídeo PowerColor AMD Radeon RX 550, 4...   \n54         Evga  Placa de Vídeo EVGA NVIDIA GeForce RTX 2070 Su...   \n17     Gigabyte  Placa de Vídeo Gigabyte NVIDIA GeForce RTX 206...   \n\n    preco_antigo_cartao preco_atual_cartao preco_boleto disponibilidade  \\\n295            1.164,59             999,88       849,90    Indisponivel   \n118                   0           7.016,35     5.963,90      Disponivel   \n133               30,47              29,29        24,90      Disponivel   \n178            4.117,53           3.529,29     2.999,90      Disponivel   \n356                   0          12.470,47    10.599,90    Indisponivel   \n55                    0           5.294,00     4.499,90      Disponivel   \n252            4.588,12           4.164,59     3.539,90    Indisponivel   \n381                   0             770,47       654,90    Indisponivel   \n54             4.917,53           4.352,82     3.699,90      Disponivel   \n17             2.941,06           2.763,41     2.348,90      Disponivel   \n\n           data      hora   loja  \n295  2020-09-16  20:06:05  Kabum  \n118  2020-09-16  20:06:05  Kabum  \n133  2020-09-16  20:06:05  Kabum  \n178  2020-09-16  20:06:05  Kabum  \n356  2020-09-16  20:06:05  Kabum  \n55   2020-09-16  20:06:05  Kabum  \n252  2020-09-16  20:06:05  Kabum  \n381  2020-09-16  20:06:05  Kabum  \n54   2020-09-16  20:06:05  Kabum  \n17   2020-09-16  20:06:05  Kabum  ",
      "text/html": "<div>\n<style scoped>\n    .dataframe tbody tr th:only-of-type {\n        vertical-align: middle;\n    }\n\n    .dataframe tbody tr th {\n        vertical-align: top;\n    }\n\n    .dataframe thead th {\n        text-align: right;\n    }\n</style>\n<table border=\"1\" class=\"dataframe\">\n  <thead>\n    <tr style=\"text-align: right;\">\n      <th></th>\n      <th>marca</th>\n      <th>nome_produto</th>\n      <th>preco_antigo_cartao</th>\n      <th>preco_atual_cartao</th>\n      <th>preco_boleto</th>\n      <th>disponibilidade</th>\n      <th>data</th>\n      <th>hora</th>\n      <th>loja</th>\n    </tr>\n  </thead>\n  <tbody>\n    <tr>\n      <th>295</th>\n      <td>Evga</td>\n      <td>Placa de Vídeo EVGA NVIDIA GeForce GTX 1060 3G...</td>\n      <td>1.164,59</td>\n      <td>999,88</td>\n      <td>849,90</td>\n      <td>Indisponivel</td>\n      <td>2020-09-16</td>\n      <td>20:06:05</td>\n      <td>Kabum</td>\n    </tr>\n    <tr>\n      <th>118</th>\n      <td>Gainward</td>\n      <td>Placa de Vídeo Gainward NVIDIA GeForce RTX 208...</td>\n      <td>0</td>\n      <td>7.016,35</td>\n      <td>5.963,90</td>\n      <td>Disponivel</td>\n      <td>2020-09-16</td>\n      <td>20:06:05</td>\n      <td>Kabum</td>\n    </tr>\n    <tr>\n      <th>133</th>\n      <td>Rise Mode</td>\n      <td>Suporte para Placa de Vídeo Rise Mode Vermelho...</td>\n      <td>30,47</td>\n      <td>29,29</td>\n      <td>24,90</td>\n      <td>Disponivel</td>\n      <td>2020-09-16</td>\n      <td>20:06:05</td>\n      <td>Kabum</td>\n    </tr>\n    <tr>\n      <th>178</th>\n      <td>Evga</td>\n      <td>Placa de Video EVGA GeForce RTX 2060 Super SC ...</td>\n      <td>4.117,53</td>\n      <td>3.529,29</td>\n      <td>2.999,90</td>\n      <td>Disponivel</td>\n      <td>2020-09-16</td>\n      <td>20:06:05</td>\n      <td>Kabum</td>\n    </tr>\n    <tr>\n      <th>356</th>\n      <td>Amd</td>\n      <td>Placa de Vídeo AMD Radeon Pro WX 9100, 16GB, H...</td>\n      <td>0</td>\n      <td>12.470,47</td>\n      <td>10.599,90</td>\n      <td>Indisponivel</td>\n      <td>2020-09-16</td>\n      <td>20:06:05</td>\n      <td>Kabum</td>\n    </tr>\n    <tr>\n      <th>55</th>\n      <td>Evga</td>\n      <td>Placa de Video EVGA GeForce RTX 2070 Super XC ...</td>\n      <td>0</td>\n      <td>5.294,00</td>\n      <td>4.499,90</td>\n      <td>Disponivel</td>\n      <td>2020-09-16</td>\n      <td>20:06:05</td>\n      <td>Kabum</td>\n    </tr>\n    <tr>\n      <th>252</th>\n      <td>Galax</td>\n      <td>Placa de Vídeo Galax NVIDIA GeForce RTX 2070 S...</td>\n      <td>4.588,12</td>\n      <td>4.164,59</td>\n      <td>3.539,90</td>\n      <td>Indisponivel</td>\n      <td>2020-09-16</td>\n      <td>20:06:05</td>\n      <td>Kabum</td>\n    </tr>\n    <tr>\n      <th>381</th>\n      <td>Powercolor</td>\n      <td>Placa de Vídeo PowerColor AMD Radeon RX 550, 4...</td>\n      <td>0</td>\n      <td>770,47</td>\n      <td>654,90</td>\n      <td>Indisponivel</td>\n      <td>2020-09-16</td>\n      <td>20:06:05</td>\n      <td>Kabum</td>\n    </tr>\n    <tr>\n      <th>54</th>\n      <td>Evga</td>\n      <td>Placa de Vídeo EVGA NVIDIA GeForce RTX 2070 Su...</td>\n      <td>4.917,53</td>\n      <td>4.352,82</td>\n      <td>3.699,90</td>\n      <td>Disponivel</td>\n      <td>2020-09-16</td>\n      <td>20:06:05</td>\n      <td>Kabum</td>\n    </tr>\n    <tr>\n      <th>17</th>\n      <td>Gigabyte</td>\n      <td>Placa de Vídeo Gigabyte NVIDIA GeForce RTX 206...</td>\n      <td>2.941,06</td>\n      <td>2.763,41</td>\n      <td>2.348,90</td>\n      <td>Disponivel</td>\n      <td>2020-09-16</td>\n      <td>20:06:05</td>\n      <td>Kabum</td>\n    </tr>\n  </tbody>\n</table>\n</div>"
     },
     "metadata": {},
     "execution_count": 9
    }
   ],
   "source": [
    "df = pd.DataFrame(produtos)\n",
    "df.sample(10)"
   ]
  },
  {
   "source": [
    "\n",
    "### Criando a conexão com o banco e salvando os dados"
   ],
   "cell_type": "markdown",
   "metadata": {}
  },
  {
   "cell_type": "code",
   "execution_count": 11,
   "metadata": {},
   "outputs": [],
   "source": [
    "engine = alchemy_connection('db_hardware')\n",
    "df.to_sql('graphic_card', con=engine, if_exists='append', index = False)"
   ]
  },
  {
   "source": [
    "----------------------------------------------------------------------------------------------------"
   ],
   "cell_type": "markdown",
   "metadata": {}
  },
  {
   "cell_type": "code",
   "execution_count": 13,
   "metadata": {},
   "outputs": [],
   "source": [
    "browser2 = webdriver.Chrome(executable_path=r'chromedriver.exe', options=options)\n",
    "#--| Parse or automation\n",
    "browser2.get('https://www.pichau.com.br/hardware/placa-de-video?p=1')\n",
    "web = soup(browser2.page_source, 'html.parser')"
   ]
  },
  {
   "cell_type": "code",
   "execution_count": 18,
   "metadata": {
    "tags": []
   },
   "outputs": [],
   "source": [
    "pagina = 0\n",
    "html_produtos = []\n",
    "flag = 0\n",
    "\n",
    "while pagina != 5:\n",
    "    items = web.findAll('div', {\"class\":\"product-item-info\"})\n",
    "    if items != [] | item:\n",
    "        try:\n",
    "            pagina = pagina + 1\n",
    "            browser.get(f'https://www.pichau.com.br/hardware/placa-de-video?p={pagina}')\n",
    "            web = soup(browser.page_source, 'html.parser')\n",
    "        except Exception: break\n",
    "        html_produtos.append(items)\n",
    "    else:\n",
    "        break"
   ]
  },
  {
   "cell_type": "code",
   "execution_count": 15,
   "metadata": {},
   "outputs": [],
   "source": [
    "flat_list = []\n",
    "for sublist in html_produtos:\n",
    "    for item in sublist:\n",
    "        flat_list.append(item)"
   ]
  },
  {
   "cell_type": "code",
   "execution_count": 35,
   "metadata": {},
   "outputs": [
    {
     "output_type": "execute_result",
     "data": {
      "text/plain": "<div class=\"product details product-item-details\">\n<strong class=\"product name product-item-name\">\n<a class=\"product-item-link\" href=\"https://www.pichau.com.br/hardware/placa-de-video-gigabyte-radeon-rx-5700-8gb-gaming-oc-256-bit-gv-r57gaming-oc-8gd\">\nPlaca de Video Gigabyte Radeon RX 5700 8GB Gaming OC 256-bit, GV-R57GAMING OC-... </a>\n</strong>\n<div class=\"price-box price-final_price\" data-price-box=\"product-id-17732\" data-product-id=\"17732\" data-role=\"priceBox\">\n<span class=\"price-container price-final_price tax\">\n<span class=\"price-wrapper\" data-price-amount=\"3238.59\" data-price-type=\"finalPrice\" id=\"product-price-17732\">\n<span class=\"price\">R$3.238,59</span> </span>\n<span class=\"price-installments\">\n<span>10x de R$323,86</span> <strong>sem juros</strong> no cartão </span>\n</span>\n<span class=\"price-boleto\">\n<span>à vista R$2.849,96</span> no boleto com <strong>12% de desconto</strong></span>\n</div>\n<div class=\"product-item-inner\">\n<div class=\"product actions product-item-actions\">\n<div class=\"actions-primary\">\n<form action=\"https://www.pichau.com.br/checkout/cart/add/uenc/aHR0cHM6Ly93d3cucGljaGF1LmNvbS5ici9oYXJkd2FyZS9wbGFjYS1kZS12aWRlbz9wPTQ%2C/product/17732/\" data-product-sku=\"GV-R57GAMING OC-8GD\" data-role=\"tocart-form\" method=\"post\">\n<input name=\"product\" type=\"hidden\" value=\"17732\"/>\n<input name=\"uenc\" type=\"hidden\" value=\"aHR0cHM6Ly93d3cucGljaGF1LmNvbS5ici9jaGVja291dC9jYXJ0L2FkZC91ZW5jL2FIUjBjSE02THk5M2QzY3VjR2xqYUdGMUxtTnZiUzVpY2k5b1lYSmtkMkZ5WlM5d2JHRmpZUzFrWlMxMmFXUmxiejl3UFRRJTJDL3Byb2R1Y3QvMTc3MzIv\"/>\n<input name=\"form_key\" type=\"hidden\" value=\"XVwR4a4kJany3CNU\"/> <a class=\"more-details bt-list-product\" href=\"https://www.pichau.com.br/hardware/placa-de-video-gigabyte-radeon-rx-5700-8gb-gaming-oc-256-bit-gv-r57gaming-oc-8gd\">\n<i aria-hidden=\"true\" class=\"fa fa-plus\"></i>\nDetalhes </a>\n<button class=\"action tocart bt-list-product\" title=\"Colocar no Carrinho\" type=\"submit\">\n<i aria-hidden=\"true\" class=\"fa fa-shopping-cart\"></i>\nComprar </button>\n</form>\n</div>\n</div>\n</div>\n</div>"
     },
     "metadata": {},
     "execution_count": 35
    }
   ],
   "source": [
    "items[15].div"
   ]
  },
  {
   "cell_type": "code",
   "execution_count": null,
   "metadata": {},
   "outputs": [],
   "source": [
    "now = datetime.now()\n",
    "produtos = []\n",
    "\n",
    "for container in flat_list:\n",
    "    \n",
    "    # Estreutura de para salvar\n",
    "    marca = container.div.img['alt']\n",
    "    nome_produto = container.find('a', {\"class\":\"sc-fzoLsD gnrNhT item-nome\"}).text\n",
    "\n",
    "    if container.find('div', {\"class\":\"sc-fzpjYC hKlXgM\"}) != None:\n",
    "        preco_antigo_cartao = (container.find('div', {\"class\":\"sc-fzpjYC hKlXgM\"}).text).split(\" \")[2]\n",
    "    else: \n",
    "        preco_antigo_cartao = '0'\n",
    "    preco_atual_cartao =  (container.find('div', {\"class\":\"sc-fznxsB ksiZrQ\"}).text).split(\" \")[1]\n",
    "    preco_boleto = (container.find('div', {\"class\":\"sc-fznWqX qatGF\"}).text).split(\" \")[1]\n",
    "    \n",
    "    image = container.find('div', {\"class\":\"sc-fznKkj fEpBwY\"})\n",
    "    if \"indisponivel\" in image.img['src']:\n",
    "        disponibilidade = 'Indisponivel'\n",
    "    elif \"disponivel\" in image.img['src']:\n",
    "        disponibilidade = 'Disponivel'\n",
    "\n",
    "    produto = {\n",
    "        \"marca\" : marca,\n",
    "        \"nome_produto\": nome_produto,\n",
    "        \"preco_antigo_cartao\": preco_antigo_cartao,\n",
    "        \"preco_atual_cartao\": preco_atual_cartao,\n",
    "        \"preco_boleto\": preco_boleto,\n",
    "        \"disponibilidade\": disponibilidade,\n",
    "        \"data\" : now.strftime(\"%Y-%m-%d\"),\n",
    "        \"hora\":  now.strftime(\"%H:%M:%S\"),\n",
    "        \"loja\": \"Kabum\" \n",
    "    }\n",
    "    produtos.append(produto)"
   ]
  },
  {
   "cell_type": "code",
   "execution_count": 15,
   "metadata": {
    "tags": []
   },
   "outputs": [],
   "source": [
    "# containers = html.findAll('div', {\"class\":\"sc-fzqNqU jmuOAh\"})\n",
    "# https://www.kabum.com.br/cgi-local/site/listagem/listagem.cgi?string=processador&btnG=&pagina=1&ordem=5&limite=30&prime=false&marcas=[%225%22,%226%22]&tipo_produto=[]&filtro=[]"
   ]
  },
  {
   "cell_type": "code",
   "execution_count": 16,
   "metadata": {
    "tags": []
   },
   "outputs": [],
   "source": [
    "# images = html.findAll('div', {\"class\":\"sc-fznKkj fEpBwY\"})\n",
    "\n",
    "# # images.img['src']\n",
    "# for image in images:\n",
    "#     print(image.img['src'])\n",
    "#     # if \"indisponivel\" in image.img['src']:\n",
    "#     #     print('Indisponivel')\n",
    "#     # elif \"disponivel\" in image.img['src']:\n",
    "#     #     print('Disponivel')"
   ]
  },
  {
   "cell_type": "code",
   "execution_count": 17,
   "metadata": {},
   "outputs": [],
   "source": [
    "# preco_antigo_cartao = float((container.find('div', {\"class\":\"sc-fzpjYC hKlXgM\"}).text).split(\" \")[2].replace('.', '').replace(',', '.'))\n",
    "# preco_atual_cartao =  float((container.find('div', {\"class\":\"sc-fznxsB ksiZrQ\"}).text).split(\" \")[1].replace('.', '').replace(',', '.'))\n",
    "# preco_boleto = float((container.find('div', {\"class\":\"sc-fznWqX qatGF\"}).text).split(\" \")[1].replace('.', '').replace(',', '.'))\n"
   ]
  },
  {
   "cell_type": "code",
   "execution_count": 18,
   "metadata": {
    "tags": []
   },
   "outputs": [],
   "source": [
    "# print(preco_antigo_cartao)\n",
    "# # print(re.search('^(([1-9]\\d{0,2}(\\.\\d{3})*)|(([1-9]\\.\\d*)?\\d))(\\,\\d\\d)?', preco_atual_cartao).group())\n",
    "# print(preco_atual_cartao)\n",
    "# print(preco_boleto)"
   ]
  }
 ]
}