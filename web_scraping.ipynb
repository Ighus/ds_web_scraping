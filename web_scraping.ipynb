{
 "metadata": {
  "language_info": {
   "codemirror_mode": {
    "name": "ipython",
    "version": 3
   },
   "file_extension": ".py",
   "mimetype": "text/x-python",
   "name": "python",
   "nbconvert_exporter": "python",
   "pygments_lexer": "ipython3",
   "version": "3.8.3-final"
  },
  "orig_nbformat": 2,
  "kernelspec": {
   "name": "python_defaultSpec_1598987691454",
   "display_name": "Python 3.8.3 64-bit"
  }
 },
 "nbformat": 4,
 "nbformat_minor": 2,
 "cells": [
  {
   "cell_type": "code",
   "execution_count": 19,
   "metadata": {},
   "outputs": [],
   "source": [
    "import requests\n",
    "from bs4 import BeautifulSoup as soup\n",
    "from selenium import webdriver\n",
    "from selenium.webdriver.chrome.options import Options\n",
    "from selenium.webdriver.common.keys import Keys\n",
    "import re\n",
    "from datetime import datetime\n",
    "import pandas as pd"
   ]
  },
  {
   "cell_type": "code",
   "execution_count": 44,
   "metadata": {},
   "outputs": [],
   "source": [
    "#--| Setup\n",
    "options = Options()\n",
    "#options.add_argument(\"--headless\")\n",
    "browser = webdriver.Chrome(executable_path=r'chromedriver.exe', options=options)\n",
    "#--| Parse or automation\n",
    "browser.get('https://www.kabum.com.br/hardware/placa-de-video-vga?pagina=1&ordem=5&limite=30&prime=false&marcas=[]&tipo_produto=[]&filtro=[]')\n",
    "html = soup(browser.page_source, 'html.parser')\n",
    "browser.implicitly_wait(5)"
   ]
  },
  {
   "cell_type": "code",
   "execution_count": 21,
   "metadata": {
    "tags": []
   },
   "outputs": [],
   "source": [
    "containers = html.findAll('div', {\"class\":\"sc-fzqNqU jmuOAh\"})"
   ]
  },
  {
   "cell_type": "code",
   "execution_count": 4,
   "metadata": {},
   "outputs": [],
   "source": [
    "# preco_antigo_cartao = float((container.find('div', {\"class\":\"sc-fzpjYC hKlXgM\"}).text).split(\" \")[2].replace('.', '').replace(',', '.'))\n",
    "# preco_atual_cartao =  float((container.find('div', {\"class\":\"sc-fznxsB ksiZrQ\"}).text).split(\" \")[1].replace('.', '').replace(',', '.'))\n",
    "# preco_boleto = float((container.find('div', {\"class\":\"sc-fznWqX qatGF\"}).text).split(\" \")[1].replace('.', '').replace(',', '.'))\n"
   ]
  },
  {
   "cell_type": "code",
   "execution_count": 3,
   "metadata": {
    "tags": []
   },
   "outputs": [],
   "source": [
    "# print(preco_antigo_cartao)\n",
    "# # print(re.search('^(([1-9]\\d{0,2}(\\.\\d{3})*)|(([1-9]\\.\\d*)?\\d))(\\,\\d\\d)?', preco_atual_cartao).group())\n",
    "# print(preco_atual_cartao)\n",
    "# print(preco_boleto)"
   ]
  },
  {
   "cell_type": "code",
   "execution_count": 48,
   "metadata": {
    "tags": []
   },
   "outputs": [
    {
     "output_type": "stream",
     "name": "stdout",
     "text": "30\n<class 'Exception'>\n"
    }
   ],
   "source": [
    "while True:\n",
    "    items = html.findAll('div', {\"class\":\"sc-fzqNqU jmuOAh\"})\n",
    "    print(len(items))\n",
    "\n",
    "    try:\n",
    "        browser.find_element_by_class_name('sc-fznWOq hEjrXm').click()\n",
    "        html = soup(browser.page_source, 'html.parser')\n",
    "    except Exception: break"
   ]
  },
  {
   "cell_type": "code",
   "execution_count": 22,
   "metadata": {
    "tags": []
   },
   "outputs": [],
   "source": [
    "now = datetime.now()\n",
    "produtos = []\n",
    "\n",
    "for container in containers:\n",
    "    \n",
    "    # Estreutura de para salvar\n",
    "    marca = container.div.img['alt']\n",
    "    nome_produto = container.find('a', {\"class\":\"sc-fzoLsD gnrNhT item-nome\"}).text\n",
    "\n",
    "    if container.find('div', {\"class\":\"sc-fzpjYC hKlXgM\"}) != None:\n",
    "        preco_antigo_cartao = (container.find('div', {\"class\":\"sc-fzpjYC hKlXgM\"}).text).split(\" \")[2]\n",
    "    else: \n",
    "        preco_antigo_cartao = '0'\n",
    "    preco_atual_cartao =  (container.find('div', {\"class\":\"sc-fznxsB ksiZrQ\"}).text).split(\" \")[1]\n",
    "    preco_boleto = (container.find('div', {\"class\":\"sc-fznWqX qatGF\"}).text).split(\" \")[1]\n",
    "    \n",
    "    produto = {\n",
    "        \"marca\" : marca,\n",
    "        \"nome_produto\": nome_produto,\n",
    "        \"preco_antigo_cartao\": preco_antigo_cartao,\n",
    "        \"preco_atual_cartao\": preco_atual_cartao,\n",
    "        \"preco_boleto\": preco_boleto,\n",
    "        \"data_hora\" : now.strftime(\"%d/%m/%Y %H:%M:%S\")\n",
    "    }\n",
    "    produtos.append(produto)\n"
   ]
  },
  {
   "cell_type": "code",
   "execution_count": 23,
   "metadata": {},
   "outputs": [
    {
     "output_type": "execute_result",
     "data": {
      "text/plain": "        marca                                       nome_produto  \\\n0    Gigabyte  Placa de Vídeo Gigabyte NVIDIA GeForce GTX 165...   \n1        Asus  Placa de Vídeo Asus TUF NVIDIA GeForce RTX 206...   \n2        Asus  Placa de Vídeo Asus TUF3 NVIDIA GeForce GTX 16...   \n3    Gigabyte  Placa de Vídeo Gigabyte NVIDIA GeForce GTX 165...   \n4    Gigabyte  Placa de Vídeo Gigabyte GTX 1660 Super OC NVID...   \n5    Gigabyte  Placa de Vídeo Gigabyte AMD Radeon RX 5600 XT ...   \n6       Galax  Placa de Vídeo Galax NVIDIA GeForce GT 710 1GB...   \n7   Rise Mode  Suporte para Placa de Vídeo VGA Rise até 2 Pla...   \n8    Gigabyte  Placa de Vídeo Gigabyte NVIDIA GeForce RTX 206...   \n9         MSI  Placa de Vídeo MSI NVIDIA GeForce GT 1030 2GD4...   \n10       Afox  Placa de Vídeo Afox AMD Radeon R5 220, 1GB, DD...   \n11      Galax  Placa de Vídeo Galax NVIDIA RTX 2060 EX White ...   \n12   Gigabyte  Placa de Vídeo Gigabyte NVIDIA GeForce GTX 166...   \n13      Zotac  Placa de Vídeo Zotac NVIDIA GeForce GT 710 2GB...   \n14   Gigabyte  Placa de Vídeo Gigabyte AMD Radeon RX 5600 XT ...   \n15       Evga  Placa de Vídeo EVGA NVIDIA GeForce RTX 2060 KO...   \n16        MSI  Placa de Vídeo MSI NVIDIA GeForce RTX 2060 Ven...   \n17   Gigabyte  Placa de Vídeo Gigabyte NVIDIA GeForce GT 730,...   \n18   Gigabyte  Placa de Vídeo Gigabyte NVIDIA GeForce RTX 206...   \n19     ASRock  Placa de Video Asrock Phantom Gaming D Radeon ...   \n20  Rise Mode  Suporte para Placa de Vídeo VGA Rise Transpare...   \n21      Zotac  Placa de Vídeo Zotac NVIDIA GeForce GT 710 1GB...   \n22   Gigabyte  Placa de Vídeo Gigabyte NVIDIA GeForce GTX 165...   \n23        MSI  Placa de Vídeo MSI NVIDIA GeForce GTX 1660 Sup...   \n24   Gigabyte  Placa de Vídeo Gigabyte NVIDIA GeForce RTX 206...   \n25       Evga  Placa de Vídeo EVGA NVIDIA GeForce RTX 2070 Su...   \n26   Deepcool  Suporte para Placa de Vídeo DeepCool GH-01 - D...   \n27       Evga  Placa de Video EVGA GeForce RTX 2070 Super XC ...   \n28   Gigabyte  Placa de Vídeo Gigabyte NVIDIA GeForce RTX 208...   \n29  Rise Mode  Suporte para Placa de Vídeo RISE LV2 Small Bla...   \n\n   preco_antigo_cartao preco_atual_cartao preco_boleto            data_hora  \n0                    0           1.399,89     1.329,90  01/09/2020 16:31:31  \n1             2.894,00           2.658,71     2.259,90  01/09/2020 16:31:31  \n2                    0           2.420,95     2.299,90  01/09/2020 16:31:31  \n3                    0           1.578,84     1.499,90  01/09/2020 16:31:31  \n4                    0           2.210,42     2.099,90  01/09/2020 16:31:31  \n5             2.482,24           2.411,65     2.049,90  01/09/2020 16:31:31  \n6               315,68             294,63       279,90  01/09/2020 16:31:31  \n7                31,47              27,26        25,90  01/09/2020 16:31:31  \n8             2.894,00           2.705,76     2.299,90  01/09/2020 16:31:31  \n9               679,88             630,47       535,90  01/09/2020 16:31:31  \n10                   0             263,05       249,90  01/09/2020 16:31:31  \n11            3.312,53           2.947,26     2.799,90  01/09/2020 16:31:31  \n12                   0           2.157,79     2.049,90  01/09/2020 16:31:31  \n13              457,79             411,47       390,90  01/09/2020 16:31:31  \n14            3.058,71           2.352,82     1.999,90  01/09/2020 16:31:31  \n15            2.870,47           2.823,41     2.399,90  01/09/2020 16:31:31  \n16                   0           2.764,59     2.349,90  01/09/2020 16:31:31  \n17              588,12             482,24       409,90  01/09/2020 16:31:31  \n18                   0           2.941,06     2.499,90  01/09/2020 16:31:31  \n19                   0           1.764,59     1.499,90  01/09/2020 16:31:31  \n20                   0              39,89        35,90  01/09/2020 16:31:31  \n21                   0             359,88       305,90  01/09/2020 16:31:31  \n22                   0           1.705,76     1.449,90  01/09/2020 16:31:31  \n23            2.470,47           2.352,82     1.999,90  01/09/2020 16:31:31  \n24                   0           4.670,47     3.969,90  01/09/2020 16:31:31  \n25            4.917,53           4.352,82     3.699,90  01/09/2020 16:31:31  \n26                   0             105,76        89,90  01/09/2020 16:31:31  \n27                   0           5.294,00     4.499,90  01/09/2020 16:31:31  \n28                   0           7.646,94     6.499,90  01/09/2020 16:31:31  \n29               54,00              44,59        37,90  01/09/2020 16:31:31  ",
      "text/html": "<div>\n<style scoped>\n    .dataframe tbody tr th:only-of-type {\n        vertical-align: middle;\n    }\n\n    .dataframe tbody tr th {\n        vertical-align: top;\n    }\n\n    .dataframe thead th {\n        text-align: right;\n    }\n</style>\n<table border=\"1\" class=\"dataframe\">\n  <thead>\n    <tr style=\"text-align: right;\">\n      <th></th>\n      <th>marca</th>\n      <th>nome_produto</th>\n      <th>preco_antigo_cartao</th>\n      <th>preco_atual_cartao</th>\n      <th>preco_boleto</th>\n      <th>data_hora</th>\n    </tr>\n  </thead>\n  <tbody>\n    <tr>\n      <th>0</th>\n      <td>Gigabyte</td>\n      <td>Placa de Vídeo Gigabyte NVIDIA GeForce GTX 165...</td>\n      <td>0</td>\n      <td>1.399,89</td>\n      <td>1.329,90</td>\n      <td>01/09/2020 16:31:31</td>\n    </tr>\n    <tr>\n      <th>1</th>\n      <td>Asus</td>\n      <td>Placa de Vídeo Asus TUF NVIDIA GeForce RTX 206...</td>\n      <td>2.894,00</td>\n      <td>2.658,71</td>\n      <td>2.259,90</td>\n      <td>01/09/2020 16:31:31</td>\n    </tr>\n    <tr>\n      <th>2</th>\n      <td>Asus</td>\n      <td>Placa de Vídeo Asus TUF3 NVIDIA GeForce GTX 16...</td>\n      <td>0</td>\n      <td>2.420,95</td>\n      <td>2.299,90</td>\n      <td>01/09/2020 16:31:31</td>\n    </tr>\n    <tr>\n      <th>3</th>\n      <td>Gigabyte</td>\n      <td>Placa de Vídeo Gigabyte NVIDIA GeForce GTX 165...</td>\n      <td>0</td>\n      <td>1.578,84</td>\n      <td>1.499,90</td>\n      <td>01/09/2020 16:31:31</td>\n    </tr>\n    <tr>\n      <th>4</th>\n      <td>Gigabyte</td>\n      <td>Placa de Vídeo Gigabyte GTX 1660 Super OC NVID...</td>\n      <td>0</td>\n      <td>2.210,42</td>\n      <td>2.099,90</td>\n      <td>01/09/2020 16:31:31</td>\n    </tr>\n    <tr>\n      <th>5</th>\n      <td>Gigabyte</td>\n      <td>Placa de Vídeo Gigabyte AMD Radeon RX 5600 XT ...</td>\n      <td>2.482,24</td>\n      <td>2.411,65</td>\n      <td>2.049,90</td>\n      <td>01/09/2020 16:31:31</td>\n    </tr>\n    <tr>\n      <th>6</th>\n      <td>Galax</td>\n      <td>Placa de Vídeo Galax NVIDIA GeForce GT 710 1GB...</td>\n      <td>315,68</td>\n      <td>294,63</td>\n      <td>279,90</td>\n      <td>01/09/2020 16:31:31</td>\n    </tr>\n    <tr>\n      <th>7</th>\n      <td>Rise Mode</td>\n      <td>Suporte para Placa de Vídeo VGA Rise até 2 Pla...</td>\n      <td>31,47</td>\n      <td>27,26</td>\n      <td>25,90</td>\n      <td>01/09/2020 16:31:31</td>\n    </tr>\n    <tr>\n      <th>8</th>\n      <td>Gigabyte</td>\n      <td>Placa de Vídeo Gigabyte NVIDIA GeForce RTX 206...</td>\n      <td>2.894,00</td>\n      <td>2.705,76</td>\n      <td>2.299,90</td>\n      <td>01/09/2020 16:31:31</td>\n    </tr>\n    <tr>\n      <th>9</th>\n      <td>MSI</td>\n      <td>Placa de Vídeo MSI NVIDIA GeForce GT 1030 2GD4...</td>\n      <td>679,88</td>\n      <td>630,47</td>\n      <td>535,90</td>\n      <td>01/09/2020 16:31:31</td>\n    </tr>\n    <tr>\n      <th>10</th>\n      <td>Afox</td>\n      <td>Placa de Vídeo Afox AMD Radeon R5 220, 1GB, DD...</td>\n      <td>0</td>\n      <td>263,05</td>\n      <td>249,90</td>\n      <td>01/09/2020 16:31:31</td>\n    </tr>\n    <tr>\n      <th>11</th>\n      <td>Galax</td>\n      <td>Placa de Vídeo Galax NVIDIA RTX 2060 EX White ...</td>\n      <td>3.312,53</td>\n      <td>2.947,26</td>\n      <td>2.799,90</td>\n      <td>01/09/2020 16:31:31</td>\n    </tr>\n    <tr>\n      <th>12</th>\n      <td>Gigabyte</td>\n      <td>Placa de Vídeo Gigabyte NVIDIA GeForce GTX 166...</td>\n      <td>0</td>\n      <td>2.157,79</td>\n      <td>2.049,90</td>\n      <td>01/09/2020 16:31:31</td>\n    </tr>\n    <tr>\n      <th>13</th>\n      <td>Zotac</td>\n      <td>Placa de Vídeo Zotac NVIDIA GeForce GT 710 2GB...</td>\n      <td>457,79</td>\n      <td>411,47</td>\n      <td>390,90</td>\n      <td>01/09/2020 16:31:31</td>\n    </tr>\n    <tr>\n      <th>14</th>\n      <td>Gigabyte</td>\n      <td>Placa de Vídeo Gigabyte AMD Radeon RX 5600 XT ...</td>\n      <td>3.058,71</td>\n      <td>2.352,82</td>\n      <td>1.999,90</td>\n      <td>01/09/2020 16:31:31</td>\n    </tr>\n    <tr>\n      <th>15</th>\n      <td>Evga</td>\n      <td>Placa de Vídeo EVGA NVIDIA GeForce RTX 2060 KO...</td>\n      <td>2.870,47</td>\n      <td>2.823,41</td>\n      <td>2.399,90</td>\n      <td>01/09/2020 16:31:31</td>\n    </tr>\n    <tr>\n      <th>16</th>\n      <td>MSI</td>\n      <td>Placa de Vídeo MSI NVIDIA GeForce RTX 2060 Ven...</td>\n      <td>0</td>\n      <td>2.764,59</td>\n      <td>2.349,90</td>\n      <td>01/09/2020 16:31:31</td>\n    </tr>\n    <tr>\n      <th>17</th>\n      <td>Gigabyte</td>\n      <td>Placa de Vídeo Gigabyte NVIDIA GeForce GT 730,...</td>\n      <td>588,12</td>\n      <td>482,24</td>\n      <td>409,90</td>\n      <td>01/09/2020 16:31:31</td>\n    </tr>\n    <tr>\n      <th>18</th>\n      <td>Gigabyte</td>\n      <td>Placa de Vídeo Gigabyte NVIDIA GeForce RTX 206...</td>\n      <td>0</td>\n      <td>2.941,06</td>\n      <td>2.499,90</td>\n      <td>01/09/2020 16:31:31</td>\n    </tr>\n    <tr>\n      <th>19</th>\n      <td>ASRock</td>\n      <td>Placa de Video Asrock Phantom Gaming D Radeon ...</td>\n      <td>0</td>\n      <td>1.764,59</td>\n      <td>1.499,90</td>\n      <td>01/09/2020 16:31:31</td>\n    </tr>\n    <tr>\n      <th>20</th>\n      <td>Rise Mode</td>\n      <td>Suporte para Placa de Vídeo VGA Rise Transpare...</td>\n      <td>0</td>\n      <td>39,89</td>\n      <td>35,90</td>\n      <td>01/09/2020 16:31:31</td>\n    </tr>\n    <tr>\n      <th>21</th>\n      <td>Zotac</td>\n      <td>Placa de Vídeo Zotac NVIDIA GeForce GT 710 1GB...</td>\n      <td>0</td>\n      <td>359,88</td>\n      <td>305,90</td>\n      <td>01/09/2020 16:31:31</td>\n    </tr>\n    <tr>\n      <th>22</th>\n      <td>Gigabyte</td>\n      <td>Placa de Vídeo Gigabyte NVIDIA GeForce GTX 165...</td>\n      <td>0</td>\n      <td>1.705,76</td>\n      <td>1.449,90</td>\n      <td>01/09/2020 16:31:31</td>\n    </tr>\n    <tr>\n      <th>23</th>\n      <td>MSI</td>\n      <td>Placa de Vídeo MSI NVIDIA GeForce GTX 1660 Sup...</td>\n      <td>2.470,47</td>\n      <td>2.352,82</td>\n      <td>1.999,90</td>\n      <td>01/09/2020 16:31:31</td>\n    </tr>\n    <tr>\n      <th>24</th>\n      <td>Gigabyte</td>\n      <td>Placa de Vídeo Gigabyte NVIDIA GeForce RTX 206...</td>\n      <td>0</td>\n      <td>4.670,47</td>\n      <td>3.969,90</td>\n      <td>01/09/2020 16:31:31</td>\n    </tr>\n    <tr>\n      <th>25</th>\n      <td>Evga</td>\n      <td>Placa de Vídeo EVGA NVIDIA GeForce RTX 2070 Su...</td>\n      <td>4.917,53</td>\n      <td>4.352,82</td>\n      <td>3.699,90</td>\n      <td>01/09/2020 16:31:31</td>\n    </tr>\n    <tr>\n      <th>26</th>\n      <td>Deepcool</td>\n      <td>Suporte para Placa de Vídeo DeepCool GH-01 - D...</td>\n      <td>0</td>\n      <td>105,76</td>\n      <td>89,90</td>\n      <td>01/09/2020 16:31:31</td>\n    </tr>\n    <tr>\n      <th>27</th>\n      <td>Evga</td>\n      <td>Placa de Video EVGA GeForce RTX 2070 Super XC ...</td>\n      <td>0</td>\n      <td>5.294,00</td>\n      <td>4.499,90</td>\n      <td>01/09/2020 16:31:31</td>\n    </tr>\n    <tr>\n      <th>28</th>\n      <td>Gigabyte</td>\n      <td>Placa de Vídeo Gigabyte NVIDIA GeForce RTX 208...</td>\n      <td>0</td>\n      <td>7.646,94</td>\n      <td>6.499,90</td>\n      <td>01/09/2020 16:31:31</td>\n    </tr>\n    <tr>\n      <th>29</th>\n      <td>Rise Mode</td>\n      <td>Suporte para Placa de Vídeo RISE LV2 Small Bla...</td>\n      <td>54,00</td>\n      <td>44,59</td>\n      <td>37,90</td>\n      <td>01/09/2020 16:31:31</td>\n    </tr>\n  </tbody>\n</table>\n</div>"
     },
     "metadata": {},
     "execution_count": 23
    }
   ],
   "source": [
    "df = pd.DataFrame(produtos)\n",
    "df"
   ]
  },
  {
   "cell_type": "code",
   "execution_count": null,
   "metadata": {},
   "outputs": [],
   "source": []
  },
  {
   "cell_type": "code",
   "execution_count": null,
   "metadata": {},
   "outputs": [],
   "source": []
  },
  {
   "cell_type": "code",
   "execution_count": null,
   "metadata": {},
   "outputs": [],
   "source": []
  }
 ]
}