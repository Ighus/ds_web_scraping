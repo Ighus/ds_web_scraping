{
 "metadata": {
  "language_info": {
   "codemirror_mode": {
    "name": "ipython",
    "version": 3
   },
   "file_extension": ".py",
   "mimetype": "text/x-python",
   "name": "python",
   "nbconvert_exporter": "python",
   "pygments_lexer": "ipython3",
   "version": "3.8.3-final"
  },
  "orig_nbformat": 2,
  "kernelspec": {
   "name": "python_defaultSpec_1599754336194",
   "display_name": "Python 3.8.3 64-bit"
  }
 },
 "nbformat": 4,
 "nbformat_minor": 2,
 "cells": [
  {
   "source": [
    "# Imports"
   ],
   "cell_type": "markdown",
   "metadata": {}
  },
  {
   "cell_type": "code",
   "execution_count": 1,
   "metadata": {},
   "outputs": [],
   "source": [
    "import requests\n",
    "from bs4 import BeautifulSoup as soup\n",
    "from selenium import webdriver\n",
    "from selenium.webdriver.chrome.options import Options\n",
    "from selenium.webdriver.common.keys import Keys\n",
    "import re\n",
    "from datetime import datetime\n",
    "import pandas as pd\n",
    "from connection_keys import connection, alchemy_connection"
   ]
  },
  {
   "source": [
    "### Setup para abrir o navegador com o Selenium e puxar a primeira página"
   ],
   "cell_type": "markdown",
   "metadata": {}
  },
  {
   "cell_type": "code",
   "execution_count": 72,
   "metadata": {},
   "outputs": [],
   "source": [
    "#--| Setup\n",
    "options = Options()\n",
    "options.add_argument('--ignore-certificate-errors')\n",
    "options.add_argument('--incognito')\n",
    "options.add_argument('--headless')\n",
    "options.add_argument('--disable-extensions')\n",
    "#options.add_argument(\"--headless\")\n",
    "browser = webdriver.Chrome(executable_path=r'chromedriver.exe', options=options)\n",
    "#--| Parse or automation\n",
    "browser.get('https://www.kabum.com.br/hardware/placa-de-video-vga?pagina=1')\n",
    "html = soup(browser.page_source, 'html.parser')\n",
    "# browser.implicitly_wait(5)"
   ]
  },
  {
   "source": [
    "### Configuiração para percorer as páginas e salvar todos dados com a taga referente ao produto em uma lista"
   ],
   "cell_type": "markdown",
   "metadata": {}
  },
  {
   "cell_type": "code",
   "execution_count": 73,
   "metadata": {
    "tags": []
   },
   "outputs": [],
   "source": [
    "pagina = 0\n",
    "html_produtos = []\n",
    "flag = 0\n",
    "\n",
    "while flag == 0:\n",
    "    items = html.findAll('div', {\"class\":\"sc-fzqNqU jmuOAh\"})\n",
    "    if items != []:\n",
    "        try:\n",
    "            pagina = pagina + 1\n",
    "            browser.get(f'https://www.kabum.com.br/hardware/placa-de-video-vga?pagina={pagina}')\n",
    "            html = soup(browser.page_source, 'html.parser')\n",
    "        except Exception: break\n",
    "        html_produtos.append(items)\n",
    "    else:\n",
    "        break"
   ]
  },
  {
   "source": [
    "### Tranformação da lista de listas em uma lista normal para percorer com mais facildiade os atributos do produto"
   ],
   "cell_type": "markdown",
   "metadata": {}
  },
  {
   "cell_type": "code",
   "execution_count": 74,
   "metadata": {},
   "outputs": [],
   "source": [
    "flat_list = []\n",
    "for sublist in html_produtos:\n",
    "    for item in sublist:\n",
    "        flat_list.append(item)"
   ]
  },
  {
   "source": [
    "### Percorrendo a lista, capurando e salvando cada atributo no dicionario"
   ],
   "cell_type": "markdown",
   "metadata": {}
  },
  {
   "cell_type": "code",
   "execution_count": 75,
   "metadata": {
    "tags": []
   },
   "outputs": [],
   "source": [
    "now = datetime.now()\n",
    "produtos = []\n",
    "\n",
    "for container in flat_list:\n",
    "    \n",
    "    # Estreutura de para salvar\n",
    "    marca = container.div.img['alt']\n",
    "    nome_produto = container.find('a', {\"class\":\"sc-fzoLsD gnrNhT item-nome\"}).text\n",
    "\n",
    "    if container.find('div', {\"class\":\"sc-fzpjYC hKlXgM\"}) != None:\n",
    "        preco_antigo_cartao = (container.find('div', {\"class\":\"sc-fzpjYC hKlXgM\"}).text).split(\" \")[2]\n",
    "    else: \n",
    "        preco_antigo_cartao = '0'\n",
    "    preco_atual_cartao =  (container.find('div', {\"class\":\"sc-fznxsB ksiZrQ\"}).text).split(\" \")[1]\n",
    "    preco_boleto = (container.find('div', {\"class\":\"sc-fznWqX qatGF\"}).text).split(\" \")[1]\n",
    "    \n",
    "    image = container.find('div', {\"class\":\"sc-fznKkj fEpBwY\"})\n",
    "    if \"indisponivel\" in image.img['src']:\n",
    "        disponibilidade = 'Indisponivel'\n",
    "    elif \"disponivel\" in image.img['src']:\n",
    "        disponibilidade = 'Disponivel'\n",
    "\n",
    "    produto = {\n",
    "        \"marca\" : marca,\n",
    "        \"nome_produto\": nome_produto,\n",
    "        \"preco_antigo_cartao\": preco_antigo_cartao,\n",
    "        \"preco_atual_cartao\": preco_atual_cartao,\n",
    "        \"preco_boleto\": preco_boleto,\n",
    "        \"disponibilidade\": disponibilidade,\n",
    "        \"data\" : now.strftime(\"%Y-%m-%d\"),\n",
    "        \"hora\":  now.strftime(\"%H:%M:%S\"),\n",
    "        \"loja\": \"Kabum\" \n",
    "    }\n",
    "    produtos.append(produto)\n"
   ]
  },
  {
   "source": [
    "### Transformando o dict em Dataframe e visualizando uma amostra dos dados"
   ],
   "cell_type": "markdown",
   "metadata": {}
  },
  {
   "cell_type": "code",
   "execution_count": 82,
   "metadata": {},
   "outputs": [
    {
     "output_type": "execute_result",
     "data": {
      "text/plain": "        marca                                       nome_produto  \\\n315       MSI  Placa de Vídeo MSI AMD Radeon RX 580 Armor MK2...   \n97      Galax  Placa de Vídeo Galax NVIDIA GeForce RTX 2080 S...   \n96       Evga  Placa de Vídeo EVGA NVIDIA GeForce GT 1030 SC ...   \n132     Galax  Placa de Vídeo VGA Galax NVIDIA GeForce GT 103...   \n57   Gigabyte  Placa de Vídeo Gigabyte NVIDIA GeForce RTX 208...   \n373      Evga  Placa de Vídeo EVGA NVIDIA GeForce GTX 1660 Bl...   \n233  Gainward  Placa de Vídeo Gainward NVIDIA GeForce RTX 208...   \n306  Gigabyte  Placa de Vídeo Gigabyte NVIDIA GeForce GT 1030...   \n65       Evga  Placa de Video EVGA GeForce RTX 2070 Super XC ...   \n286      Evga  Placa de Vídeo EVGA NVIDIA GeForce GTX 1050 Ti...   \n\n    preco_antigo_cartao preco_atual_cartao preco_boleto disponibilidade  \\\n315                   0           1.011,65       859,90    Indisponivel   \n97             8.235,18           7.411,65     6.299,90      Disponivel   \n96               941,06             846,94       719,90      Disponivel   \n132              894,00             823,41       699,90      Disponivel   \n57                    0           7.646,94     6.499,90      Disponivel   \n373            2.352,82           2.117,53     1.799,90    Indisponivel   \n233                   0          12.623,41    10.729,90      Disponivel   \n306              830,90             823,41       699,90    Indisponivel   \n65             4.771,65           4.646,94     3.949,90      Disponivel   \n286                   0             823,41       699,90    Indisponivel   \n\n           data      hora   loja  \n315  2020-09-10  19:12:39  Kabum  \n97   2020-09-10  19:12:39  Kabum  \n96   2020-09-10  19:12:39  Kabum  \n132  2020-09-10  19:12:39  Kabum  \n57   2020-09-10  19:12:39  Kabum  \n373  2020-09-10  19:12:39  Kabum  \n233  2020-09-10  19:12:39  Kabum  \n306  2020-09-10  19:12:39  Kabum  \n65   2020-09-10  19:12:39  Kabum  \n286  2020-09-10  19:12:39  Kabum  ",
      "text/html": "<div>\n<style scoped>\n    .dataframe tbody tr th:only-of-type {\n        vertical-align: middle;\n    }\n\n    .dataframe tbody tr th {\n        vertical-align: top;\n    }\n\n    .dataframe thead th {\n        text-align: right;\n    }\n</style>\n<table border=\"1\" class=\"dataframe\">\n  <thead>\n    <tr style=\"text-align: right;\">\n      <th></th>\n      <th>marca</th>\n      <th>nome_produto</th>\n      <th>preco_antigo_cartao</th>\n      <th>preco_atual_cartao</th>\n      <th>preco_boleto</th>\n      <th>disponibilidade</th>\n      <th>data</th>\n      <th>hora</th>\n      <th>loja</th>\n    </tr>\n  </thead>\n  <tbody>\n    <tr>\n      <th>315</th>\n      <td>MSI</td>\n      <td>Placa de Vídeo MSI AMD Radeon RX 580 Armor MK2...</td>\n      <td>0</td>\n      <td>1.011,65</td>\n      <td>859,90</td>\n      <td>Indisponivel</td>\n      <td>2020-09-10</td>\n      <td>19:12:39</td>\n      <td>Kabum</td>\n    </tr>\n    <tr>\n      <th>97</th>\n      <td>Galax</td>\n      <td>Placa de Vídeo Galax NVIDIA GeForce RTX 2080 S...</td>\n      <td>8.235,18</td>\n      <td>7.411,65</td>\n      <td>6.299,90</td>\n      <td>Disponivel</td>\n      <td>2020-09-10</td>\n      <td>19:12:39</td>\n      <td>Kabum</td>\n    </tr>\n    <tr>\n      <th>96</th>\n      <td>Evga</td>\n      <td>Placa de Vídeo EVGA NVIDIA GeForce GT 1030 SC ...</td>\n      <td>941,06</td>\n      <td>846,94</td>\n      <td>719,90</td>\n      <td>Disponivel</td>\n      <td>2020-09-10</td>\n      <td>19:12:39</td>\n      <td>Kabum</td>\n    </tr>\n    <tr>\n      <th>132</th>\n      <td>Galax</td>\n      <td>Placa de Vídeo VGA Galax NVIDIA GeForce GT 103...</td>\n      <td>894,00</td>\n      <td>823,41</td>\n      <td>699,90</td>\n      <td>Disponivel</td>\n      <td>2020-09-10</td>\n      <td>19:12:39</td>\n      <td>Kabum</td>\n    </tr>\n    <tr>\n      <th>57</th>\n      <td>Gigabyte</td>\n      <td>Placa de Vídeo Gigabyte NVIDIA GeForce RTX 208...</td>\n      <td>0</td>\n      <td>7.646,94</td>\n      <td>6.499,90</td>\n      <td>Disponivel</td>\n      <td>2020-09-10</td>\n      <td>19:12:39</td>\n      <td>Kabum</td>\n    </tr>\n    <tr>\n      <th>373</th>\n      <td>Evga</td>\n      <td>Placa de Vídeo EVGA NVIDIA GeForce GTX 1660 Bl...</td>\n      <td>2.352,82</td>\n      <td>2.117,53</td>\n      <td>1.799,90</td>\n      <td>Indisponivel</td>\n      <td>2020-09-10</td>\n      <td>19:12:39</td>\n      <td>Kabum</td>\n    </tr>\n    <tr>\n      <th>233</th>\n      <td>Gainward</td>\n      <td>Placa de Vídeo Gainward NVIDIA GeForce RTX 208...</td>\n      <td>0</td>\n      <td>12.623,41</td>\n      <td>10.729,90</td>\n      <td>Disponivel</td>\n      <td>2020-09-10</td>\n      <td>19:12:39</td>\n      <td>Kabum</td>\n    </tr>\n    <tr>\n      <th>306</th>\n      <td>Gigabyte</td>\n      <td>Placa de Vídeo Gigabyte NVIDIA GeForce GT 1030...</td>\n      <td>830,90</td>\n      <td>823,41</td>\n      <td>699,90</td>\n      <td>Indisponivel</td>\n      <td>2020-09-10</td>\n      <td>19:12:39</td>\n      <td>Kabum</td>\n    </tr>\n    <tr>\n      <th>65</th>\n      <td>Evga</td>\n      <td>Placa de Video EVGA GeForce RTX 2070 Super XC ...</td>\n      <td>4.771,65</td>\n      <td>4.646,94</td>\n      <td>3.949,90</td>\n      <td>Disponivel</td>\n      <td>2020-09-10</td>\n      <td>19:12:39</td>\n      <td>Kabum</td>\n    </tr>\n    <tr>\n      <th>286</th>\n      <td>Evga</td>\n      <td>Placa de Vídeo EVGA NVIDIA GeForce GTX 1050 Ti...</td>\n      <td>0</td>\n      <td>823,41</td>\n      <td>699,90</td>\n      <td>Indisponivel</td>\n      <td>2020-09-10</td>\n      <td>19:12:39</td>\n      <td>Kabum</td>\n    </tr>\n  </tbody>\n</table>\n</div>"
     },
     "metadata": {},
     "execution_count": 82
    }
   ],
   "source": [
    "df = pd.DataFrame(produtos)\n",
    "df.sample(10)"
   ]
  },
  {
   "source": [
    "\n",
    "### Criando a conecão com o banco e salvando os dados"
   ],
   "cell_type": "markdown",
   "metadata": {}
  },
  {
   "cell_type": "code",
   "execution_count": null,
   "metadata": {},
   "outputs": [],
   "source": [
    "engine = alchemy_connection('db_hardware')\n",
    "df.to_sql('graphic_card', con=engine, if_exists='append', index = False)"
   ]
  },
  {
   "source": [
    "----------------------------------------------------------------------------------------------------"
   ],
   "cell_type": "markdown",
   "metadata": {}
  },
  {
   "cell_type": "code",
   "execution_count": 13,
   "metadata": {
    "tags": []
   },
   "outputs": [],
   "source": [
    "# containers = html.findAll('div', {\"class\":\"sc-fzqNqU jmuOAh\"})"
   ]
  },
  {
   "cell_type": "code",
   "execution_count": 80,
   "metadata": {
    "tags": []
   },
   "outputs": [],
   "source": [
    "# images = html.findAll('div', {\"class\":\"sc-fznKkj fEpBwY\"})\n",
    "\n",
    "# # images.img['src']\n",
    "# for image in images:\n",
    "#     print(image.img['src'])\n",
    "#     # if \"indisponivel\" in image.img['src']:\n",
    "#     #     print('Indisponivel')\n",
    "#     # elif \"disponivel\" in image.img['src']:\n",
    "#     #     print('Disponivel')"
   ]
  },
  {
   "cell_type": "code",
   "execution_count": 4,
   "metadata": {},
   "outputs": [],
   "source": [
    "# preco_antigo_cartao = float((container.find('div', {\"class\":\"sc-fzpjYC hKlXgM\"}).text).split(\" \")[2].replace('.', '').replace(',', '.'))\n",
    "# preco_atual_cartao =  float((container.find('div', {\"class\":\"sc-fznxsB ksiZrQ\"}).text).split(\" \")[1].replace('.', '').replace(',', '.'))\n",
    "# preco_boleto = float((container.find('div', {\"class\":\"sc-fznWqX qatGF\"}).text).split(\" \")[1].replace('.', '').replace(',', '.'))\n"
   ]
  },
  {
   "cell_type": "code",
   "execution_count": 5,
   "metadata": {
    "tags": []
   },
   "outputs": [],
   "source": [
    "# print(preco_antigo_cartao)\n",
    "# # print(re.search('^(([1-9]\\d{0,2}(\\.\\d{3})*)|(([1-9]\\.\\d*)?\\d))(\\,\\d\\d)?', preco_atual_cartao).group())\n",
    "# print(preco_atual_cartao)\n",
    "# print(preco_boleto)"
   ]
  }
 ]
}