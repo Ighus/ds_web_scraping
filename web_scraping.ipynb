{
 "metadata": {
  "language_info": {
   "codemirror_mode": {
    "name": "ipython",
    "version": 3
   },
   "file_extension": ".py",
   "mimetype": "text/x-python",
   "name": "python",
   "nbconvert_exporter": "python",
   "pygments_lexer": "ipython3",
   "version": "3.8.3-final"
  },
  "orig_nbformat": 2,
  "kernelspec": {
   "name": "python_defaultSpec_1600213671102",
   "display_name": "Python 3.8.3 64-bit"
  }
 },
 "nbformat": 4,
 "nbformat_minor": 2,
 "cells": [
  {
   "source": [
    "# Imports"
   ],
   "cell_type": "markdown",
   "metadata": {}
  },
  {
   "cell_type": "code",
   "execution_count": 1,
   "metadata": {},
   "outputs": [],
   "source": [
    "import requests\n",
    "from bs4 import BeautifulSoup as soup\n",
    "from selenium import webdriver\n",
    "from selenium.webdriver.chrome.options import Options\n",
    "from selenium.webdriver.common.keys import Keys\n",
    "import re\n",
    "from datetime import datetime\n",
    "import pandas as pd\n",
    "from connection_keys import connection, alchemy_connection"
   ]
  },
  {
   "source": [
    "### Setup para abrir o navegador com o Selenium e puxar a primeira página"
   ],
   "cell_type": "markdown",
   "metadata": {}
  },
  {
   "cell_type": "code",
   "execution_count": 2,
   "metadata": {},
   "outputs": [],
   "source": [
    "#--| Setup\n",
    "options = Options()\n",
    "options.add_argument('--ignore-certificate-errors')\n",
    "options.add_argument('--incognito')\n",
    "options.add_argument('--headless')\n",
    "options.add_argument('--disable-extensions')\n",
    "#options.add_argument(\"--headless\")\n",
    "browser = webdriver.Chrome(executable_path=r'chromedriver.exe', options=options)\n",
    "#--| Parse or automation\n",
    "browser.get('https://www.kabum.com.br/hardware/placa-de-video-vga?pagina=1')\n",
    "html = soup(browser.page_source, 'html.parser')\n",
    "# browser.implicitly_wait(5)"
   ]
  },
  {
   "source": [
    "### Configuiração para percorer as páginas e salvar todos dados com a taga referente ao produto em uma lista"
   ],
   "cell_type": "markdown",
   "metadata": {}
  },
  {
   "cell_type": "code",
   "execution_count": 8,
   "metadata": {
    "tags": []
   },
   "outputs": [],
   "source": [
    "pagina = 0\n",
    "html_produtos = []\n",
    "flag = 0\n",
    "\n",
    "while flag == 0:\n",
    "    items = html.findAll('div', {\"class\":\"sc-fzqNqU jmuOAh\"})\n",
    "    if items != []:\n",
    "        try:\n",
    "            pagina = pagina + 1\n",
    "            browser.get(f'https://www.kabum.com.br/hardware/placa-de-video-vga?pagina={pagina}')\n",
    "            html = soup(browser.page_source, 'html.parser')\n",
    "        except Exception: break\n",
    "        html_produtos.append(items)\n",
    "    else:\n",
    "        break"
   ]
  },
  {
   "source": [
    "### Tranformação da lista de listas em uma lista normal para percorer com mais facildiade os atributos do produto"
   ],
   "cell_type": "markdown",
   "metadata": {}
  },
  {
   "cell_type": "code",
   "execution_count": 9,
   "metadata": {},
   "outputs": [],
   "source": [
    "flat_list = []\n",
    "for sublist in html_produtos:\n",
    "    for item in sublist:\n",
    "        flat_list.append(item)"
   ]
  },
  {
   "source": [
    "### Percorrendo a lista, capurando e salvando cada atributo no dicionario"
   ],
   "cell_type": "markdown",
   "metadata": {}
  },
  {
   "cell_type": "code",
   "execution_count": 10,
   "metadata": {
    "tags": []
   },
   "outputs": [],
   "source": [
    "now = datetime.now()\n",
    "produtos = []\n",
    "\n",
    "for container in flat_list:\n",
    "    \n",
    "    # Estreutura de para salvar\n",
    "    marca = container.div.img['alt']\n",
    "    nome_produto = container.find('a', {\"class\":\"sc-fzoLsD gnrNhT item-nome\"}).text\n",
    "\n",
    "    if container.find('div', {\"class\":\"sc-fzpjYC hKlXgM\"}) != None:\n",
    "        preco_antigo_cartao = (container.find('div', {\"class\":\"sc-fzpjYC hKlXgM\"}).text).split(\" \")[2]\n",
    "    else: \n",
    "        preco_antigo_cartao = '0'\n",
    "    preco_atual_cartao =  (container.find('div', {\"class\":\"sc-fznxsB ksiZrQ\"}).text).split(\" \")[1]\n",
    "    preco_boleto = (container.find('div', {\"class\":\"sc-fznWqX qatGF\"}).text).split(\" \")[1]\n",
    "    \n",
    "    image = container.find('div', {\"class\":\"sc-fznKkj fEpBwY\"})\n",
    "    if \"indisponivel\" in image.img['src']:\n",
    "        disponibilidade = 'Indisponivel'\n",
    "    elif \"disponivel\" in image.img['src']:\n",
    "        disponibilidade = 'Disponivel'\n",
    "\n",
    "    produto = {\n",
    "        \"marca\" : marca,\n",
    "        \"nome_produto\": nome_produto,\n",
    "        \"preco_antigo_cartao\": preco_antigo_cartao,\n",
    "        \"preco_atual_cartao\": preco_atual_cartao,\n",
    "        \"preco_boleto\": preco_boleto,\n",
    "        \"disponibilidade\": disponibilidade,\n",
    "        \"data\" : now.strftime(\"%Y-%m-%d\"),\n",
    "        \"hora\":  now.strftime(\"%H:%M:%S\"),\n",
    "        \"loja\": \"Kabum\" \n",
    "    }\n",
    "    produtos.append(produto)\n"
   ]
  },
  {
   "source": [
    "### Transformando o dict em Dataframe e visualizando uma amostra dos dados"
   ],
   "cell_type": "markdown",
   "metadata": {}
  },
  {
   "cell_type": "code",
   "execution_count": 11,
   "metadata": {},
   "outputs": [
    {
     "output_type": "execute_result",
     "data": {
      "text/plain": "        marca                                       nome_produto  \\\n146     Galax  Placa de Vídeo Galax NVIDIA GeForce GTX 1650 E...   \n109  Sapphire  Placa de Vídeo Sapphire Nitro+ AMD Radeon RX 5...   \n165  Gainward  Placa de Vídeo Gainward NVIDIA GeForce RTX 206...   \n219      Evga  Placa de Vídeo EVGA NVIDIA GeForce RTX 2070 Su...   \n25       Evga  Placa de Vídeo EVGA NVIDIA GeForce RTX 2070 Su...   \n98      Galax  Placa de Vídeo Galax NVIDIA GeForce RTX 2070 S...   \n52   Gigabyte  Placa de Vídeo Gigabyte NVIDIA GeForce GTX 165...   \n356      Afox  Placa de Vídeo Afox AMD Radeon RX560D, 4GB, GD...   \n63       Evga  Placa de Video EVGA GeForce RTX 2070 Super XC ...   \n21      Zotac  Placa de Vídeo Zotac NVIDIA GeForce GT 710 1GB...   \n\n    preco_antigo_cartao preco_atual_cartao preco_boleto disponibilidade  \\\n146            1.446,94           1.399,88     1.189,90      Disponivel   \n109                   0           2.352,82     1.999,90      Disponivel   \n165            3.495,18           2.941,06     2.499,90      Disponivel   \n219            4.744,59           4.705,76     3.999,90      Disponivel   \n25             4.917,53           4.352,82     3.699,90      Disponivel   \n98             5.882,24           5.529,29     4.699,90      Disponivel   \n52                    0           1.705,76     1.449,90      Disponivel   \n356                   0             823,41       699,90    Indisponivel   \n63             4.771,65           4.646,94     3.949,90      Disponivel   \n21               381,06             352,82       299,90      Disponivel   \n\n           data      hora   loja  \n146  2020-09-15  20:28:24  Kabum  \n109  2020-09-15  20:28:24  Kabum  \n165  2020-09-15  20:28:24  Kabum  \n219  2020-09-15  20:28:24  Kabum  \n25   2020-09-15  20:28:24  Kabum  \n98   2020-09-15  20:28:24  Kabum  \n52   2020-09-15  20:28:24  Kabum  \n356  2020-09-15  20:28:24  Kabum  \n63   2020-09-15  20:28:24  Kabum  \n21   2020-09-15  20:28:24  Kabum  ",
      "text/html": "<div>\n<style scoped>\n    .dataframe tbody tr th:only-of-type {\n        vertical-align: middle;\n    }\n\n    .dataframe tbody tr th {\n        vertical-align: top;\n    }\n\n    .dataframe thead th {\n        text-align: right;\n    }\n</style>\n<table border=\"1\" class=\"dataframe\">\n  <thead>\n    <tr style=\"text-align: right;\">\n      <th></th>\n      <th>marca</th>\n      <th>nome_produto</th>\n      <th>preco_antigo_cartao</th>\n      <th>preco_atual_cartao</th>\n      <th>preco_boleto</th>\n      <th>disponibilidade</th>\n      <th>data</th>\n      <th>hora</th>\n      <th>loja</th>\n    </tr>\n  </thead>\n  <tbody>\n    <tr>\n      <th>146</th>\n      <td>Galax</td>\n      <td>Placa de Vídeo Galax NVIDIA GeForce GTX 1650 E...</td>\n      <td>1.446,94</td>\n      <td>1.399,88</td>\n      <td>1.189,90</td>\n      <td>Disponivel</td>\n      <td>2020-09-15</td>\n      <td>20:28:24</td>\n      <td>Kabum</td>\n    </tr>\n    <tr>\n      <th>109</th>\n      <td>Sapphire</td>\n      <td>Placa de Vídeo Sapphire Nitro+ AMD Radeon RX 5...</td>\n      <td>0</td>\n      <td>2.352,82</td>\n      <td>1.999,90</td>\n      <td>Disponivel</td>\n      <td>2020-09-15</td>\n      <td>20:28:24</td>\n      <td>Kabum</td>\n    </tr>\n    <tr>\n      <th>165</th>\n      <td>Gainward</td>\n      <td>Placa de Vídeo Gainward NVIDIA GeForce RTX 206...</td>\n      <td>3.495,18</td>\n      <td>2.941,06</td>\n      <td>2.499,90</td>\n      <td>Disponivel</td>\n      <td>2020-09-15</td>\n      <td>20:28:24</td>\n      <td>Kabum</td>\n    </tr>\n    <tr>\n      <th>219</th>\n      <td>Evga</td>\n      <td>Placa de Vídeo EVGA NVIDIA GeForce RTX 2070 Su...</td>\n      <td>4.744,59</td>\n      <td>4.705,76</td>\n      <td>3.999,90</td>\n      <td>Disponivel</td>\n      <td>2020-09-15</td>\n      <td>20:28:24</td>\n      <td>Kabum</td>\n    </tr>\n    <tr>\n      <th>25</th>\n      <td>Evga</td>\n      <td>Placa de Vídeo EVGA NVIDIA GeForce RTX 2070 Su...</td>\n      <td>4.917,53</td>\n      <td>4.352,82</td>\n      <td>3.699,90</td>\n      <td>Disponivel</td>\n      <td>2020-09-15</td>\n      <td>20:28:24</td>\n      <td>Kabum</td>\n    </tr>\n    <tr>\n      <th>98</th>\n      <td>Galax</td>\n      <td>Placa de Vídeo Galax NVIDIA GeForce RTX 2070 S...</td>\n      <td>5.882,24</td>\n      <td>5.529,29</td>\n      <td>4.699,90</td>\n      <td>Disponivel</td>\n      <td>2020-09-15</td>\n      <td>20:28:24</td>\n      <td>Kabum</td>\n    </tr>\n    <tr>\n      <th>52</th>\n      <td>Gigabyte</td>\n      <td>Placa de Vídeo Gigabyte NVIDIA GeForce GTX 165...</td>\n      <td>0</td>\n      <td>1.705,76</td>\n      <td>1.449,90</td>\n      <td>Disponivel</td>\n      <td>2020-09-15</td>\n      <td>20:28:24</td>\n      <td>Kabum</td>\n    </tr>\n    <tr>\n      <th>356</th>\n      <td>Afox</td>\n      <td>Placa de Vídeo Afox AMD Radeon RX560D, 4GB, GD...</td>\n      <td>0</td>\n      <td>823,41</td>\n      <td>699,90</td>\n      <td>Indisponivel</td>\n      <td>2020-09-15</td>\n      <td>20:28:24</td>\n      <td>Kabum</td>\n    </tr>\n    <tr>\n      <th>63</th>\n      <td>Evga</td>\n      <td>Placa de Video EVGA GeForce RTX 2070 Super XC ...</td>\n      <td>4.771,65</td>\n      <td>4.646,94</td>\n      <td>3.949,90</td>\n      <td>Disponivel</td>\n      <td>2020-09-15</td>\n      <td>20:28:24</td>\n      <td>Kabum</td>\n    </tr>\n    <tr>\n      <th>21</th>\n      <td>Zotac</td>\n      <td>Placa de Vídeo Zotac NVIDIA GeForce GT 710 1GB...</td>\n      <td>381,06</td>\n      <td>352,82</td>\n      <td>299,90</td>\n      <td>Disponivel</td>\n      <td>2020-09-15</td>\n      <td>20:28:24</td>\n      <td>Kabum</td>\n    </tr>\n  </tbody>\n</table>\n</div>"
     },
     "metadata": {},
     "execution_count": 11
    }
   ],
   "source": [
    "df = pd.DataFrame(produtos)\n",
    "df.sample(10)"
   ]
  },
  {
   "source": [
    "\n",
    "### Criando a conexão com o banco e salvando os dados"
   ],
   "cell_type": "markdown",
   "metadata": {}
  },
  {
   "cell_type": "code",
   "execution_count": 12,
   "metadata": {},
   "outputs": [],
   "source": [
    "engine = alchemy_connection('db_hardware')\n",
    "df.to_sql('graphic_card', con=engine, if_exists='append', index = False)"
   ]
  },
  {
   "source": [
    "----------------------------------------------------------------------------------------------------"
   ],
   "cell_type": "markdown",
   "metadata": {}
  },
  {
   "cell_type": "code",
   "execution_count": 3,
   "metadata": {},
   "outputs": [],
   "source": [
    "browser2 = webdriver.Chrome(executable_path=r'chromedriver.exe', options=options)\n",
    "#--| Parse or automation\n",
    "browser2.get('https://www.pichau.com.br/hardware/placa-de-video?p=1')\n",
    "web = soup(browser2.page_source, 'html.parser')"
   ]
  },
  {
   "cell_type": "code",
   "execution_count": 8,
   "metadata": {
    "tags": []
   },
   "outputs": [],
   "source": [
    "pagina = 0\n",
    "html_produtos = []\n",
    "flag = 0\n",
    "\n",
    "while pagina != 4:\n",
    "    items = web.findAll('div', {\"class\":\"product-item-info\"})\n",
    "    if items != []:\n",
    "        try:\n",
    "            pagina = pagina + 1\n",
    "            browser.get(f'https://www.pichau.com.br/hardware/placa-de-video?p={pagina}')\n",
    "            web = soup(browser.page_source, 'html.parser')\n",
    "        except Exception: break\n",
    "        html_produtos.append(items)\n",
    "    else:\n",
    "        break"
   ]
  },
  {
   "cell_type": "code",
   "execution_count": 9,
   "metadata": {},
   "outputs": [
    {
     "output_type": "execute_result",
     "data": {
      "text/plain": "ore-details bt-list-product\" href=\"https://www.pichau.com.br/hardware/placa-de-video-asrock-radeon-rx-5700-xt-8gb-challenger-d-oc-256-bit-90-ga18zz-00uanz\">\n  <i aria-hidden=\"true\" class=\"fa fa-plus\"></i>\n  Detalhes </a>\n  <button class=\"action tocart bt-list-product\" title=\"Colocar no Carrinho\" type=\"submit\">\n  <i aria-hidden=\"true\" class=\"fa fa-shopping-cart\"></i>\n  Comprar </button>\n  </form>\n  </div>\n  </div>\n  </div>\n  </div>\n  </div>,\n  <div class=\"product-item-info\" data-container=\"product-grid\">\n  <a class=\"product photo product-item-photo\" href=\"https://www.pichau.com.br/hardware/placa-de-video-asrock-radeon-rx-5500xt-8gb-phantom-gaming-d-oc-128bit-90-ga1nzz-00uanf\" onclick=\"window.dataLayer.push({&quot;event&quot;:&quot;productClick&quot;,&quot;eventLabel&quot;:&quot;Placa de Video ASRock Radeon RX 5500XT 8GB Phantom Gaming D OC 128BIT, 90-GA1NZZ-00UANF&quot;,&quot;ecommerce&quot;:{&quot;click&quot;:{&quot;actionField&quot;:{&quot;list&quot;:&quot;Hardware\\/Placa de V\\u00eddeo&quot;},&quot;products&quot;:[{&quot;name&quot;:&quot;Placa de Video ASRock Radeon RX 5500XT 8GB Phantom Gaming D OC 128BIT, 90-GA1NZZ-00UANF&quot;,&quot;id&quot;:&quot;18710&quot;,&quot;price&quot;:&quot;1681.79&quot;,&quot;category&quot;:&quot;Hardware&quot;,&quot;position&quot;:12,&quot;brand&quot;:&quot;AsRock&quot;,&quot;dimension4&quot;:&quot;In stock&quot;,&quot;dimension7&quot;:&quot;No&quot;,&quot;dimension5&quot;:&quot;0&quot;,&quot;dimension6&quot;:&quot;0&quot;}]}}, 'eventCallback': function() { document.location = 'https://www.pichau.com.br/hardware/placa-de-video-asrock-radeon-rx-5500xt-8gb-phantom-gaming-d-oc-128bit-90-ga1nzz-00uanf' }});\" tabindex=\"-1\">\n  <img alt=\"Placa de Video ASRock Radeon RX 5500XT 8GB Phantom Gaming D OC 128BIT, 90-GA1NZZ-00UANF\" class=\"product-image-photo\" height=\"\" src=\"https://www.pichau.com.br/media/catalog/product/cache/81525c2aba813a931b59c9b4b4c2a781/9/0/90-ga1nzz-00uanf.jpg\" width=\"\"/>\n  </a>\n  <div class=\"product details product-item-details\">\n  <strong class=\"product name product-item-name\">\n  <a class=\"product-item-link\" href=\"https://www.pichau.com.br/hardware/placa-de-video-asrock-radeon-rx-5500xt-8gb-phantom-gaming-d-oc-128bit-90-ga1nzz-00uanf\">\n  Placa de Video ASRock Radeon RX 5500XT 8GB Phantom Gaming D OC 128BIT, 90-GA1N... </a>\n  </strong>\n  <div class=\"price-box price-final_price\" data-price-box=\"product-id-18710\" data-product-id=\"18710\" data-role=\"priceBox\">\n  <span class=\"special-price\">\n  <span class=\"price-container price-final_price tax\">\n  <span class=\"price-label\">Preço Promocional</span>\n  <span class=\"price-wrapper\" data-price-amount=\"1681.79\" data-price-type=\"finalPrice\" id=\"product-price-18710\">\n  <span class=\"price\">R$1.681,79</span> </span>\n  <span class=\"price-installments\">\n  <span>10x de R$168,18</span> <strong>sem juros</strong> no cartão </span>\n  </span>\n  <span class=\"price-boleto\">\n  <span>à vista R$1.479,98</span> no boleto com <strong>12% de desconto</strong></span>\n  </span>\n  <span class=\"old-price\">\n  <span class=\"price-container price-final_price tax\">\n  <span class=\"price-label\">was</span>\n  <span class=\"price-wrapper\" data-price-amount=\"1761.33\" data-price-type=\"oldPrice\" id=\"old-price-18710\">\n  <span class=\"price\">R$1.761,33</span> </span>\n  <span class=\"price-installments\">\n  <span>10x de R$176,13</span> <strong>sem juros</strong> no cartão </span>\n  </span>\n  <span class=\"price-boleto\">\n  <span>à vista R$1.549,97</span> no boleto com <strong>12% de desconto</strong></span>\n  </span>\n  </div>\n  <div class=\"dailydeal-cat timeleft-block\">\n  <label>DEAL TIME</label>\n  <span class=\"timeleft-cat\" data-totime=\"1600657080\"><ul class=\"dailydeal-countdown\"><li><span class=\"timeleft-value\">05</span><span class=\"timeleft-label\"> dias</span></li><li><span class=\"timeleft-value\">05</span><span class=\"timeleft-label\">horas</span></li><li><span class=\"timeleft-value\">45</span><span class=\"timeleft-label\">min</span></li><li><span class=\"timeleft-value\">15</span><span class=\"timeleft-label\">seg</span></li></ul></span>\n  </div>\n  <script type=\"text/javascript\">\n                      require([\"jquery\", \"dailydeal_countdown\"], function ($) {\n                          $(document).ready(function () {\n                              $(\".timeleft-cat\").dealcountdown();\n                          });\n                      });\n                  </script>\n  <div class=\"product-item-inner\">\n  <div class=\"product actions product-item-actions\">\n  <div class=\"actions-primary\">\n  <form action=\"https://www.pichau.com.br/checkout/cart/add/uenc/aHR0cHM6Ly93d3cucGljaGF1LmNvbS5ici9oYXJkd2FyZS9wbGFjYS1kZS12aWRlbz9wPTM%2C/product/18710/\" data-product-sku=\"90-GA1NZZ-00UANF\" data-role=\"tocart-form\" method=\"post\">\n  <input name=\"product\" type=\"hidden\" value=\"18710\"/>\n  <input name=\"uenc\" type=\"hidden\" value=\"aHR0cHM6Ly93d3cucGljaGF1LmNvbS5ici9jaGVja291dC9jYXJ0L2FkZC91ZW5jL2FIUjBjSE02THk5M2QzY3VjR2xqYUdGMUxtTnZiUzVpY2k5b1lYSmtkMkZ5WlM5d2JHRmpZUzFrWlMxMmFXUmxiejl3UFRNJTJDL3Byb2R1Y3QvMTg3MTAv\"/>\n  <input name=\"form_key\" type=\"hidden\" value=\"mSRG1UDd9WwF8Y7p\"/> <a class=\"more-details bt-list-product\" href=\"https://www.pichau.com.br/hardware/placa-de-video-asrock-radeon-rx-5500xt-8gb-phantom-gaming-d-oc-128bit-90-ga1nzz-00uanf\">\n  <i aria-hidden=\"true\" class=\"fa fa-plus\"></i>\n  Detalhes </a>\n  <button class=\"action tocart bt-list-product\" title=\"Colocar no Carrinho\" type=\"submit\">\n  <i aria-hidden=\"true\" class=\"fa fa-shopping-cart\"></i>\n  Comprar </button>\n  </form>\n  </div>\n  </div>\n  </div>\n  </div>\n  </div>,\n  <div class=\"product-item-info\" data-container=\"product-grid\">\n  <a class=\"product photo product-item-photo\" href=\"https://www.pichau.com.br/hardware/placa-de-video-gigabyte-geforce-gtx-1650-super-4gb-windforce-oc-gv-n165swf2oc-4gd\" onclick=\"window.dataLayer.push({&quot;event&quot;:&quot;productClick&quot;,&quot;eventLabel&quot;:&quot;Placa de Video Gigabyte Geforce GTX 1650 Super 4GB Windforce OC, GV-N165SWF2OC-4GD&quot;,&quot;ecommerce&quot;:{&quot;click&quot;:{&quot;actionField&quot;:{&quot;list&quot;:&quot;Hardware\\/Placa de V\\u00eddeo&quot;},&quot;products&quot;:[{&quot;name&quot;:&quot;Placa de Video Gigabyte Geforce GTX 1650 Super 4GB Windforce OC, GV-N165SWF2OC-4GD&quot;,&quot;id&quot;:&quot;18531&quot;,&quot;price&quot;:&quot;1704.51&quot;,&quot;category&quot;:&quot;Hardware\\/Placa de V\\u00eddeo&quot;,&quot;position&quot;:13,&quot;brand&quot;:&quot;Gigabyte&quot;,&quot;dimension4&quot;:&quot;In stock&quot;,&quot;dimension7&quot;:&quot;No&quot;,&quot;dimension5&quot;:&quot;0&quot;,&quot;dimension6&quot;:&quot;0&quot;}]}}, 'eventCallback': function() { document.location = 'https://www.pichau.com.br/hardware/placa-de-video-gigabyte-geforce-gtx-1650-super-4gb-windforce-oc-gv-n165swf2oc-4gd' }});\" tabindex=\"-1\">\n  <img alt=\"Placa de Video Gigabyte Geforce GTX 1650 Super 4GB Windforce OC, GV-N165SWF2OC-4GD\" class=\"product-image-photo\" height=\"\" src=\"https://www.pichau.com.br/media/catalog/product/cache/81525c2aba813a931b59c9b4b4c2a781/g/v/gv-n165swf2oc-4gd4.jpg\" width=\"\"/>\n  </a>\n  <div class=\"product details product-item-details\">\n  <strong class=\"product name product-item-name\">\n  <a class=\"product-item-link\" href=\"https://www.pichau.com.br/hardware/placa-de-video-gigabyte-geforce-gtx-1650-super-4gb-windforce-oc-gv-n165swf2oc-4gd\">\n  Placa de Video Gigabyte Geforce GTX 1650 Super 4GB Windforce OC, GV-N165SWF2OC... </a>\n  </strong>\n  <div class=\"price-box price-final_price\" data-price-box=\"product-id-18531\" data-product-id=\"18531\" data-role=\"priceBox\">\n  <span class=\"price-container price-final_price tax\">\n  <span class=\"price-wrapper\" data-price-amount=\"1704.51\" data-price-type=\"finalPrice\" id=\"product-price-18531\">\n  <span class=\"price\">R$1.704,51</span> </span>\n  <span class=\"price-installments\">\n  <span>10x de R$170,45</span> <strong>sem juros</strong> no cartão </span>\n  </span>\n  <span class=\"price-boleto\">\n  <span>à vista R$1.499,97</span> no boleto com <strong>12% de desconto</strong></span>\n  </div>\n  <div class=\"product-item-inner\">\n  <div class=\"product actions product-item-actions\">\n  <div class=\"actions-primary\">\n  <form action=\"https://www.pichau.com.br/checkout/cart/add/uenc/aHR0cHM6Ly93d3cucGljaGF1LmNvbS5ici9oYXJkd2FyZS9wbGFjYS1kZS12aWRlbz9wPTM%2C/product/18531/\" data-product-sku=\"GV-N165SWF2OC-4GD\" data-role=\"tocart-form\" method=\"post\">\n  <input name=\"product\" type=\"hidden\" value=\"18531\"/>\n  <input name=\"uenc\" type=\"hidden\" value=\"aHR0cHM6Ly93d3cucGljaGF1LmNvbS5ici9jaGVja291dC9jYXJ0L2FkZC91ZW5jL2FIUjBjSE02THk5M2QzY3VjR2xqYUdGMUxtTnZiUzVpY2k5b1lYSmtkMkZ5WlM5d2JHRmpZUzFrWlMxMmFXUmxiejl3UFRNJTJDL3Byb2R1Y3QvMTg1MzEv\"/>\n  <input name=\"form_key\" type=\"hidden\" value=\"mSRG1UDd9WwF8Y7p\"/> <a class=\"more-details bt-list-product\" href=\"https://www.pichau.com.br/hardware/placa-de-video-gigabyte-geforce-gtx-1650-super-4gb-windforce-oc-gv-n165swf2oc-4gd\">\n  <i aria-hidden=\"true\" class=\"fa fa-plus\"></i>\n  Detalhes </a>\n  <button class=\"action tocart bt-list-product\" title=\"Colocar no Carrinho\" type=\"submit\">\n  <i aria-hidden=\"true\" class=\"fa fa-shopping-cart\"></i>\n  Comprar </button>\n  </form>\n  </div>\n  </div>\n  </div>\n  </div>\n  </div>,\n  <div class=\"product-item-info\" data-container=\"product-grid\">\n  <a class=\"product photo product-item-photo\" href=\"https://www.pichau.com.br/hardware/placa-de-video-gigabyte-radeon-rx-5700-xt-8gb-aorus-256-bit-gv-r57xtaorus-8gd\" onclick=\"window.dataLayer.push({&quot;event&quot;:&quot;productClick&quot;,&quot;eventLabel&quot;:&quot;Placa de Video Gigabyte Radeon RX 5700 XT 8GB Aorus 256-bit, GV-R57XTAORUS-8GD&quot;,&quot;ecommerce&quot;:{&quot;click&quot;:{&quot;actionField&quot;:{&quot;list&quot;:&quot;Hardware\\/Placa de V\\u00eddeo&quot;},&quot;products&quot;:[{&quot;name&quot;:&quot;Placa de Video Gigabyte Radeon RX 5700 XT 8GB Aorus 256-bit, GV-R57XTAORUS-8GD&quot;,&quot;id&quot;:&quot;18523&quot;,&quot;price&quot;:&quot;3693.13&quot;,&quot;category&quot;:&quot;Hardware\\/Placa de V\\u00eddeo&quot;,&quot;position&quot;:14,&quot;brand&quot;:&quot;Gigabyte&quot;,&quot;dimension4&quot;:&quot;In stock&quot;,&quot;dimension7&quot;:&quot;No&quot;,&quot;dimension5&quot;:&quot;0&quot;,&quot;dimension6&quot;:&quot;0&quot;}]}}, 'eventCallback': function() { document.location = 'https://www.pichau.com.br/hardware/placa-de-video-gigabyte-radeon-rx-5700-xt-8gb-aorus-256-bit-gv-r57xtaorus-8gd' }});\" tabindex=\"-1\">\n  <img alt=\"Placa de Video Gigabyte Radeon RX 5700 XT 8GB Aorus 256-bit, GV-R57XTAORUS-8GD\" class=\"product-image-photo\" height=\"\" src=\"https://www.pichau.com.br/media/catalog/product/cache/81525c2aba813a931b59c9b4b4c2a781/g/v/gv-r57xtaorus-8gd6.jpg\" width=\"\"/>\n  </a>\n  <div class=\"product details product-item-details\">\n  <strong class=\"product name product-item-name\">\n  <a class=\"product-item-link\" href=\"https://www.pichau.com.br/hardware/placa-de-video-gigabyte-radeon-rx-5700-xt-8gb-aorus-256-bit-gv-r57xtaorus-8gd\">\n  Placa de Video Gigabyte Radeon RX 5700 XT 8GB Aorus 256-bit, GV-R57XTAORUS-8GD </a>\n  </strong>\n  <div class=\"price-box price-final_price\" data-price-box=\"product-id-18523\" data-product-id=\"18523\" data-role=\"priceBox\">\n  <span class=\"price-container price-final_price tax\">\n  <span class=\"price-wrapper\" data-price-amount=\"3693.13\" data-price-type=\"finalPrice\" id=\"product-price-18523\">\n  <span class=\"price\">R$3.693,13</span> </span>\n  <span class=\"price-installments\">\n  <span>10x de R$369,31</span> <strong>sem juros</strong> no cartão </span>\n  </span>\n  <span class=\"price-boleto\">\n  <span>à vista R$3.249,95</span> no boleto com <strong>12% de desconto</strong></span>\n  </div>\n  <div class=\"product-item-inner\">\n  <div class=\"product actions product-item-actions\">\n  <div class=\"actions-primary\">\n  <form action=\"https://www.pichau.com.br/checkout/cart/add/uenc/aHR0cHM6Ly93d3cucGljaGF1LmNvbS5ici9oYXJkd2FyZS9wbGFjYS1kZS12aWRlbz9wPTM%2C/product/18523/\" data-product-sku=\"GV-R57XTAORUS-8GD\" data-role=\"tocart-form\" method=\"post\">\n  <input name=\"product\" type=\"hidden\" value=\"18523\"/>\n  <input name=\"uenc\" type=\"hidden\" value=\"aHR0cHM6Ly93d3cucGljaGF1LmNvbS5ici9jaGVja291dC9jYXJ0L2FkZC91ZW5jL2FIUjBjSE02THk5M2QzY3VjR2xqYUdGMUxtTnZiUzVpY2k5b1lYSmtkMkZ5WlM5d2JHRmpZUzFrWlMxMmFXUmxiejl3UFRNJTJDL3Byb2R1Y3QvMTg1MjMv\"/>\n  <input name=\"form_key\" type=\"hidden\" value=\"mSRG1UDd9WwF8Y7p\"/> <a class=\"more-details bt-list-product\" href=\"https://www.pichau.com.br/hardware/placa-de-video-gigabyte-radeon-rx-5700-xt-8gb-aorus-256-bit-gv-r57xtaorus-8gd\">\n  <i aria-hidden=\"true\" class=\"fa fa-plus\"></i>\n  Detalhes </a>\n  <button class=\"action tocart bt-list-product\" title=\"Colocar no Carrinho\" type=\"submit\">\n  <i aria-hidden=\"true\" class=\"fa fa-shopping-cart\"></i>\n  Comprar </button>\n  </form>\n  </div>\n  </div>\n  </div>\n  </div>\n  </div>,\n  <div class=\"product-item-info\" data-container=\"product-grid\">\n  <a class=\"product photo product-item-photo\" href=\"https://www.pichau.com.br/hardware/placa-de-video-gigabyte-geforce-rtx-2060-super-8gb-gaming-oc-3x-256-bit-gv-n206sgaming-oc-8gd\" onclick=\"window.dataLayer.push({&quot;event&quot;:&quot;productClick&quot;,&quot;eventLabel&quot;:&quot;Placa de Video Gigabyte GeForce RTX 2060 Super 8GB Gaming OC 3X 256-bit, GV-N206SGAMING OC-8GD&quot;,&quot;ecommerce&quot;:{&quot;click&quot;:{&quot;actionField&quot;:{&quot;list&quot;:&quot;Hardware\\/Placa de V\\u00eddeo&quot;},&quot;products&quot;:[{&quot;name&quot;:&quot;Placa de Video Gigabyte GeForce RTX 2060 Super 8GB Gaming OC 3X 256-bit, GV-N206SGAMING OC-8GD&quot;,&quot;id&quot;:&quot;18521&quot;,&quot;price&quot;:&quot;3693.13&quot;,&quot;category&quot;:&quot;Hardware\\/Placa de V\\u00eddeo&quot;,&quot;position&quot;:15,&quot;brand&quot;:&quot;Gigabyte&quot;,&quot;dimension4&quot;:&quot;In stock&quot;,&quot;dimension7&quot;:&quot;No&quot;,&quot;dimension5&quot;:&quot;0&quot;,&quot;dimension6&quot;:&quot;0&quot;}]}}, 'eventCallback': function() { document.location = 'https://www.pichau.com.br/hardware/placa-de-video-gigabyte-geforce-rtx-2060-super-8gb-gaming-oc-3x-256-bit-gv-n206sgaming-oc-8gd' }});\" tabindex=\"-1\">\n  <img alt=\"Placa de Video Gigabyte GeForce RTX 2060 Super 8GB Gaming OC 3X 256-bit, GV-N206SGAMING OC-8GD\" class=\"product-image-photo\" height=\"\" src=\"https://www.pichau.com.br/media/catalog/product/cache/81525c2aba813a931b59c9b4b4c2a781/g/v/gv-n206sgaming-oc-8gd3.jpg\" width=\"\"/>\n  </a>\n  <div class=\"product details product-item-details\">\n  <strong class=\"product name product-item-name\">\n  <a class=\"product-item-link\" href=\"https://www.pichau.com.br/hardware/placa-de-video-gigabyte-geforce-rtx-2060-super-8gb-gaming-oc-3x-256-bit-gv-n206sgaming-oc-8gd\">\n  Placa de Video Gigabyte GeForce RTX 2060 Super 8GB Gaming OC 3X 256-bit, GV-N2... </a>\n  </strong>\n  <div class=\"price-box price-final_price\" data-price-box=\"product-id-18521\" data-product-id=\"18521\" data-role=\"priceBox\">\n  <span class=\"price-container price-final_price tax\">\n  <span class=\"price-wrapper\" data-price-amount=\"3693.13\" data-price-type=\"finalPrice\" id=\"product-price-18521\">\n  <span class=\"price\">R$3.693,13</span> </span>\n  <span class=\"price-installments\">\n  <span>10x de R$369,31</span> <strong>sem juros</strong> no cartão </span>\n  </span>\n  <span class=\"price-boleto\">\n  <span>à vista R$3.249,95</span> no boleto com <strong>12% de desconto</strong></span>\n  </div>\n  <div class=\"product-item-inner\">\n  <div class=\"product actions product-item-actions\">\n  <div class=\"actions-primary\">\n  <form action=\"https://www.pichau.com.br/checkout/cart/add/uenc/aHR0cHM6Ly93d3cucGljaGF1LmNvbS5ici9oYXJkd2FyZS9wbGFjYS1kZS12aWRlbz9wPTM%2C/product/18521/\" data-product-sku=\"GV-N206SGAMING OC-8GD\" data-role=\"tocart-form\" method=\"post\">\n  <input name=\"product\" type=\"hidden\" value=\"18521\"/>\n  <input name=\"uenc\" type=\"hidden\" value=\"aHR0cHM6Ly93d3cucGljaGF1LmNvbS5ici9jaGVja291dC9jYXJ0L2FkZC91ZW5jL2FIUjBjSE02THk5M2QzY3VjR2xqYUdGMUxtTnZiUzVpY2k5b1lYSmtkMkZ5WlM5d2JHRmpZUzFrWlMxMmFXUmxiejl3UFRNJTJDL3Byb2R1Y3QvMTg1MjEv\"/>\n  <input name=\"form_key\" type=\"hidden\" value=\"mSRG1UDd9WwF8Y7p\"/> <a class=\"more-details bt-list-product\" href=\"https://www.pichau.com.br/hardware/placa-de-video-gigabyte-geforce-rtx-2060-super-8gb-gaming-oc-3x-256-bit-gv-n206sgaming-oc-8gd\">\n  <i aria-hidden=\"true\" class=\"fa fa-plus\"></i>\n  Detalhes </a>\n  <button class=\"action tocart bt-list-product\" title=\"Colocar no Carrinho\" type=\"submit\">\n  <i aria-hidden=\"true\" class=\"fa fa-shopping-cart\"></i>\n  Comprar </button>\n  </form>\n  </div>\n  </div>\n  </div>\n  </div>\n  </div>,\n  <div class=\"product-item-info\" data-container=\"product-grid\">\n  <a class=\"product photo product-item-photo\" href=\"https://www.pichau.com.br/hardware/placa-de-video-gigabyte-geforce-gtx-1650-super-4gb-oc-128-bit-gv-n165soc-4gd\" onclick=\"window.dataLayer.push({&quot;event&quot;:&quot;productClick&quot;,&quot;eventLabel&quot;:&quot;Placa de Video Gigabyte GeForce GTX 1650 Super 4GB OC 128-bit, GV-N165SOC-4GD&quot;,&quot;ecommerce&quot;:{&quot;click&quot;:{&quot;actionField&quot;:{&quot;list&quot;:&quot;Hardware\\/Placa de V\\u00eddeo&quot;},&quot;products&quot;:[{&quot;name&quot;:&quot;Placa de Video Gigabyte GeForce GTX 1650 Super 4GB OC 128-bit, GV-N165SOC-4GD&quot;,&quot;id&quot;:&quot;18517&quot;,&quot;price&quot;:&quot;1704.51&quot;,&quot;category&quot;:&quot;Hardware\\/Placa de V\\u00eddeo&quot;,&quot;position&quot;:16,&quot;brand&quot;:&quot;Gigabyte&quot;,&quot;dimension4&quot;:&quot;In stock&quot;,&quot;dimension7&quot;:&quot;No&quot;,&quot;dimension5&quot;:&quot;0&quot;,&quot;dimension6&quot;:&quot;0&quot;}]}}, 'eventCallback': function() { document.location = 'https://www.pichau.com.br/hardware/placa-de-video-gigabyte-geforce-gtx-1650-super-4gb-oc-128-bit-gv-n165soc-4gd' }});\" tabindex=\"-1\">\n  <img alt=\"Placa de Video Gigabyte GeForce GTX 1650 Super 4GB OC 128-bit, GV-N165SOC-4GD\" class=\"product-image-photo\" height=\"\" src=\"https://www.pichau.com.br/media/catalog/product/cache/81525c2aba813a931b59c9b4b4c2a781/g/v/gv-n165soc-4gd1.jpg\" width=\"\"/>\n  </a>\n  <div class=\"product details product-item-details\">\n  <strong class=\"product name product-item-name\">\n  <a class=\"product-item-link\" href=\"https://www.pichau.com.br/hardware/placa-de-video-gigabyte-geforce-gtx-1650-super-4gb-oc-128-bit-gv-n165soc-4gd\">\n  Placa de Video Gigabyte GeForce GTX 1650 Super 4GB OC 128-bit, GV-N165SOC-4GD </a>\n  </strong>\n  <div class=\"price-box price-final_price\" data-price-box=\"product-id-18517\" data-product-id=\"18517\" data-role=\"priceBox\">\n  <span class=\"price-container price-final_price tax\">\n  <span class=\"price-wrapper\" data-price-amount=\"1704.51\" data-price-type=\"finalPrice\" id=\"product-price-18517\">\n  <span class=\"price\">R$1.704,51</span> </span>\n  <span class=\"price-installments\">\n  <span>10x de R$170,45</span> <strong>sem juros</strong> no cartão </span>\n  </span>\n  <span class=\"price-boleto\">\n  <span>à vista R$1.499,97</span> no boleto com <strong>12% de desconto</strong></span>\n  </div>\n  <div class=\"product-item-inner\">\n  <div class=\"product actions product-item-actions\">\n  <div class=\"actions-primary\">\n  <form action=\"https://www.pichau.com.br/checkout/cart/add/uenc/aHR0cHM6Ly93d3cucGljaGF1LmNvbS5ici9oYXJkd2FyZS9wbGFjYS1kZS12aWRlbz9wPTM%2C/product/18517/\" data-product-sku=\"GV-N165SOC-4GD\" data-role=\"tocart-form\" method=\"post\">\n  <input name=\"product\" type=\"hidden\" value=\"18517\"/>\n  <input name=\"uenc\" type=\"hidden\" value=\"aHR0cHM6Ly93d3cucGljaGF1LmNvbS5ici9jaGVja291dC9jYXJ0L2FkZC91ZW5jL2FIUjBjSE02THk5M2QzY3VjR2xqYUdGMUxtTnZiUzVpY2k5b1lYSmtkMkZ5WlM5d2JHRmpZUzFrWlMxMmFXUmxiejl3UFRNJTJDL3Byb2R1Y3QvMTg1MTcv\"/>\n  <input name=\"form_key\" type=\"hidden\" value=\"mSRG1UDd9WwF8Y7p\"/> <a class=\"more-details bt-list-product\" href=\"https://www.pichau.com.br/hardware/placa-de-video-gigabyte-geforce-gtx-1650-super-4gb-oc-128-bit-gv-n165soc-4gd\">\n  <i aria-hidden=\"true\" class=\"fa fa-plus\"></i>\n  Detalhes </a>\n  <button class=\"action tocart bt-list-product\" title=\"Colocar no Carrinho\" type=\"submit\">\n  <i aria-hidden=\"true\" class=\"fa fa-shopping-cart\"></i>\n  Comprar </button>\n  </form>\n  </div>\n  </div>\n  </div>\n  </div>\n  </div>]]"
     },
     "metadata": {},
     "execution_count": 9
    }
   ],
   "source": [
    "flat_list = []\n",
    "for sublist in html_produtos:\n",
    "    for item in sublist:\n",
    "        flat_list.append(item)"
   ]
  },
  {
   "cell_type": "code",
   "execution_count": null,
   "metadata": {},
   "outputs": [],
   "source": [
    "now = datetime.now()\n",
    "produtos = []\n",
    "\n",
    "for container in flat_list:\n",
    "    \n",
    "    # Estreutura de para salvar\n",
    "    marca = container.div.img['alt']\n",
    "    nome_produto = container.find('a', {\"class\":\"sc-fzoLsD gnrNhT item-nome\"}).text\n",
    "\n",
    "    if container.find('div', {\"class\":\"sc-fzpjYC hKlXgM\"}) != None:\n",
    "        preco_antigo_cartao = (container.find('div', {\"class\":\"sc-fzpjYC hKlXgM\"}).text).split(\" \")[2]\n",
    "    else: \n",
    "        preco_antigo_cartao = '0'\n",
    "    preco_atual_cartao =  (container.find('div', {\"class\":\"sc-fznxsB ksiZrQ\"}).text).split(\" \")[1]\n",
    "    preco_boleto = (container.find('div', {\"class\":\"sc-fznWqX qatGF\"}).text).split(\" \")[1]\n",
    "    \n",
    "    image = container.find('div', {\"class\":\"sc-fznKkj fEpBwY\"})\n",
    "    if \"indisponivel\" in image.img['src']:\n",
    "        disponibilidade = 'Indisponivel'\n",
    "    elif \"disponivel\" in image.img['src']:\n",
    "        disponibilidade = 'Disponivel'\n",
    "\n",
    "    produto = {\n",
    "        \"marca\" : marca,\n",
    "        \"nome_produto\": nome_produto,\n",
    "        \"preco_antigo_cartao\": preco_antigo_cartao,\n",
    "        \"preco_atual_cartao\": preco_atual_cartao,\n",
    "        \"preco_boleto\": preco_boleto,\n",
    "        \"disponibilidade\": disponibilidade,\n",
    "        \"data\" : now.strftime(\"%Y-%m-%d\"),\n",
    "        \"hora\":  now.strftime(\"%H:%M:%S\"),\n",
    "        \"loja\": \"Kabum\" \n",
    "    }\n",
    "    produtos.append(produto)"
   ]
  },
  {
   "cell_type": "code",
   "execution_count": 15,
   "metadata": {
    "tags": []
   },
   "outputs": [],
   "source": [
    "# containers = html.findAll('div', {\"class\":\"sc-fzqNqU jmuOAh\"})\n",
    "# https://www.kabum.com.br/cgi-local/site/listagem/listagem.cgi?string=processador&btnG=&pagina=1&ordem=5&limite=30&prime=false&marcas=[%225%22,%226%22]&tipo_produto=[]&filtro=[]"
   ]
  },
  {
   "cell_type": "code",
   "execution_count": 16,
   "metadata": {
    "tags": []
   },
   "outputs": [],
   "source": [
    "# images = html.findAll('div', {\"class\":\"sc-fznKkj fEpBwY\"})\n",
    "\n",
    "# # images.img['src']\n",
    "# for image in images:\n",
    "#     print(image.img['src'])\n",
    "#     # if \"indisponivel\" in image.img['src']:\n",
    "#     #     print('Indisponivel')\n",
    "#     # elif \"disponivel\" in image.img['src']:\n",
    "#     #     print('Disponivel')"
   ]
  },
  {
   "cell_type": "code",
   "execution_count": 17,
   "metadata": {},
   "outputs": [],
   "source": [
    "# preco_antigo_cartao = float((container.find('div', {\"class\":\"sc-fzpjYC hKlXgM\"}).text).split(\" \")[2].replace('.', '').replace(',', '.'))\n",
    "# preco_atual_cartao =  float((container.find('div', {\"class\":\"sc-fznxsB ksiZrQ\"}).text).split(\" \")[1].replace('.', '').replace(',', '.'))\n",
    "# preco_boleto = float((container.find('div', {\"class\":\"sc-fznWqX qatGF\"}).text).split(\" \")[1].replace('.', '').replace(',', '.'))\n"
   ]
  },
  {
   "cell_type": "code",
   "execution_count": 18,
   "metadata": {
    "tags": []
   },
   "outputs": [],
   "source": [
    "# print(preco_antigo_cartao)\n",
    "# # print(re.search('^(([1-9]\\d{0,2}(\\.\\d{3})*)|(([1-9]\\.\\d*)?\\d))(\\,\\d\\d)?', preco_atual_cartao).group())\n",
    "# print(preco_atual_cartao)\n",
    "# print(preco_boleto)"
   ]
  }
 ]
}