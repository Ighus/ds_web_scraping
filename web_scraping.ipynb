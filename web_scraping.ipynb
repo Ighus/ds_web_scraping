{
 "metadata": {
  "language_info": {
   "codemirror_mode": {
    "name": "ipython",
    "version": 3
   },
   "file_extension": ".py",
   "mimetype": "text/x-python",
   "name": "python",
   "nbconvert_exporter": "python",
   "pygments_lexer": "ipython3",
   "version": "3.8.3-final"
  },
  "orig_nbformat": 2,
  "kernelspec": {
   "name": "python_defaultSpec_1600539779523",
   "display_name": "Python 3.8.3 64-bit"
  }
 },
 "nbformat": 4,
 "nbformat_minor": 2,
 "cells": [
  {
   "source": [
    "# Imports"
   ],
   "cell_type": "markdown",
   "metadata": {}
  },
  {
   "cell_type": "code",
   "execution_count": 1,
   "metadata": {},
   "outputs": [],
   "source": [
    "import requests\n",
    "from bs4 import BeautifulSoup as soup\n",
    "from selenium import webdriver\n",
    "from selenium.webdriver.chrome.options import Options\n",
    "from selenium.webdriver.common.keys import Keys\n",
    "import re\n",
    "from datetime import datetime\n",
    "import pandas as pd\n",
    "from connection_keys import connection, alchemy_connection"
   ]
  },
  {
   "source": [
    "### Configurando a engine do banco"
   ],
   "cell_type": "markdown",
   "metadata": {}
  },
  {
   "cell_type": "code",
   "execution_count": null,
   "metadata": {},
   "outputs": [],
   "source": [
    "engine = alchemy_connection('db_hardware')"
   ]
  },
  {
   "source": [
    "### Setup para abrir o navegador com o Selenium e puxar a primeira página"
   ],
   "cell_type": "markdown",
   "metadata": {}
  },
  {
   "cell_type": "code",
   "execution_count": 2,
   "metadata": {},
   "outputs": [],
   "source": [
    "#--| Setup\n",
    "options = Options()\n",
    "options.add_argument('--ignore-certificate-errors')\n",
    "options.add_argument('--incognito')\n",
    "options.add_argument('--headless')\n",
    "options.add_argument('--disable-extensions')\n",
    "#options.add_argument(\"--headless\")\n",
    "browser = webdriver.Chrome(executable_path=r'chromedriver.exe', options=options)"
   ]
  },
  {
   "cell_type": "code",
   "execution_count": 3,
   "metadata": {},
   "outputs": [],
   "source": [
    "\n",
    "# --| Parse or automation\n",
    "browser.get('https://www.kabum.com.br/hardware/placa-de-video-vga?pagina=1')\n",
    "html = soup(browser.page_source, 'html.parser')\n",
    "# browser.implicitly_wait(5)"
   ]
  },
  {
   "source": [
    "### Configuiração para percorer as páginas e salvar todos dados com a taga referente ao produto em uma lista"
   ],
   "cell_type": "markdown",
   "metadata": {}
  },
  {
   "cell_type": "code",
   "execution_count": 4,
   "metadata": {
    "tags": []
   },
   "outputs": [],
   "source": [
    "pagina = 0\n",
    "html_produtos = []\n",
    "flag = 0\n",
    "\n",
    "while flag == 0:\n",
    "    items = html.findAll('div', {\"class\":\"sc-fzqNqU jmuOAh\"})\n",
    "    if items != []:\n",
    "        try:\n",
    "            pagina = pagina + 1\n",
    "            browser.get(f'https://www.kabum.com.br/hardware/placa-de-video-vga?pagina={pagina}')\n",
    "            html = soup(browser.page_source, 'html.parser')\n",
    "        except Exception: break\n",
    "        html_produtos.append(items)\n",
    "    else:\n",
    "        break"
   ]
  },
  {
   "source": [
    "### Tranformação da lista de listas em uma lista normal para percorer com mais facildiade os atributos do produto"
   ],
   "cell_type": "markdown",
   "metadata": {}
  },
  {
   "cell_type": "code",
   "execution_count": 5,
   "metadata": {},
   "outputs": [],
   "source": [
    "flat_list = []\n",
    "for sublist in html_produtos:\n",
    "    for item in sublist:\n",
    "        flat_list.append(item)"
   ]
  },
  {
   "source": [
    "### Percorrendo a lista, capurando e salvando cada atributo no dicionario"
   ],
   "cell_type": "markdown",
   "metadata": {}
  },
  {
   "cell_type": "code",
   "execution_count": 6,
   "metadata": {
    "tags": []
   },
   "outputs": [],
   "source": [
    "now = datetime.now()\n",
    "produtos = []\n",
    "\n",
    "for container in flat_list:\n",
    "    \n",
    "    # Estreutura de para salvar\n",
    "    marca = container.div.img['alt']\n",
    "    nome_produto = container.find('a', {\"class\":\"sc-fzoLsD gnrNhT item-nome\"}).text\n",
    "\n",
    "    if container.find('div', {\"class\":\"sc-fzpjYC hKlXgM\"}) != None:\n",
    "        preco_antigo_cartao = (container.find('div', {\"class\":\"sc-fzpjYC hKlXgM\"}).text).split(\" \")[2]\n",
    "    else: \n",
    "        preco_antigo_cartao = '0'\n",
    "    preco_atual_cartao =  (container.find('div', {\"class\":\"sc-fznxsB ksiZrQ\"}).text).split(\" \")[1]\n",
    "    preco_boleto = (container.find('div', {\"class\":\"sc-fznWqX qatGF\"}).text).split(\" \")[1]\n",
    "    \n",
    "    image = container.find('div', {\"class\":\"sc-fznKkj fEpBwY\"})\n",
    "    if \"indisponivel\" in image.img['src']:\n",
    "        disponibilidade = 'Indisponivel'\n",
    "    elif \"disponivel\" in image.img['src']:\n",
    "        disponibilidade = 'Disponivel'\n",
    "\n",
    "    produto = {\n",
    "        \"marca\" : marca,\n",
    "        \"nome_produto\": nome_produto,\n",
    "        \"preco_antigo_cartao\": preco_antigo_cartao,\n",
    "        \"preco_atual_cartao\": preco_atual_cartao,\n",
    "        \"preco_boleto\": preco_boleto,\n",
    "        \"disponibilidade\": disponibilidade,\n",
    "        \"data\" : now.strftime(\"%Y-%m-%d\"),\n",
    "        \"hora\":  now.strftime(\"%H:%M:%S\"),\n",
    "        \"loja\": \"Kabum\" \n",
    "    }\n",
    "    produtos.append(produto)\n"
   ]
  },
  {
   "source": [
    "### Transformando o dict em Dataframe e visualizando uma amostra dos dados"
   ],
   "cell_type": "markdown",
   "metadata": {}
  },
  {
   "cell_type": "code",
   "execution_count": 7,
   "metadata": {},
   "outputs": [
    {
     "output_type": "execute_result",
     "data": {
      "text/plain": "        marca                                       nome_produto  \\\n83       Asus  Placa de Vídeo Asus NVIDIA Dual GeForce RTX 20...   \n174     Zotac  Placa de Vídeo Zotac Gaming NVIDIA GeForce GTX...   \n12      Zotac  Placa de Vídeo Zotac NVIDIA GeForce GT 710 2GB...   \n380       MSI  Placa de Vídeo MSI NVIDIA GeForce RTX 2070 Sup...   \n14       Evga  Placa de Vídeo EVGA NVIDIA GeForce RTX 2060 KO...   \n93   Gigabyte  Placa de Vídeo Gigabyte NVIDIA GeForce GTX 165...   \n66       Evga  Placa de Vídeo EVGA NVIDIA GeForce RTX 2080 Su...   \n341     Galax  Placa de Vídeo Galax NVIDIA GeForce RTX 2080 T...   \n316       MSI  Placa de Vídeo MSI NVIDIA GeForce GTX 1050 Aer...   \n179     Galax  Placa de Vídeo Galax NVIDIA GeForce GTX 1660 S...   \n\n    preco_antigo_cartao preco_atual_cartao preco_boleto disponibilidade  \\\n83             5.882,24           5.411,65     4.599,90      Disponivel   \n174                   0           1.529,29     1.299,90      Disponivel   \n12               411,47             378,84       359,90      Disponivel   \n380            5.411,65           4.235,18     3.599,90    Indisponivel   \n14                    0           2.823,41     2.399,90      Disponivel   \n93             1.949,89           1.882,24     1.599,90      Disponivel   \n66             5.961,06           5.058,71     4.299,90      Disponivel   \n341           11.114,00           9.411,65     7.999,90    Indisponivel   \n316                   0             752,82       639,90    Indisponivel   \n179            2.599,88           2.352,82     1.999,90      Disponivel   \n\n           data      hora   loja  \n83   2020-09-17  19:23:41  Kabum  \n174  2020-09-17  19:23:41  Kabum  \n12   2020-09-17  19:23:41  Kabum  \n380  2020-09-17  19:23:41  Kabum  \n14   2020-09-17  19:23:41  Kabum  \n93   2020-09-17  19:23:41  Kabum  \n66   2020-09-17  19:23:41  Kabum  \n341  2020-09-17  19:23:41  Kabum  \n316  2020-09-17  19:23:41  Kabum  \n179  2020-09-17  19:23:41  Kabum  ",
      "text/html": "<div>\n<style scoped>\n    .dataframe tbody tr th:only-of-type {\n        vertical-align: middle;\n    }\n\n    .dataframe tbody tr th {\n        vertical-align: top;\n    }\n\n    .dataframe thead th {\n        text-align: right;\n    }\n</style>\n<table border=\"1\" class=\"dataframe\">\n  <thead>\n    <tr style=\"text-align: right;\">\n      <th></th>\n      <th>marca</th>\n      <th>nome_produto</th>\n      <th>preco_antigo_cartao</th>\n      <th>preco_atual_cartao</th>\n      <th>preco_boleto</th>\n      <th>disponibilidade</th>\n      <th>data</th>\n      <th>hora</th>\n      <th>loja</th>\n    </tr>\n  </thead>\n  <tbody>\n    <tr>\n      <th>83</th>\n      <td>Asus</td>\n      <td>Placa de Vídeo Asus NVIDIA Dual GeForce RTX 20...</td>\n      <td>5.882,24</td>\n      <td>5.411,65</td>\n      <td>4.599,90</td>\n      <td>Disponivel</td>\n      <td>2020-09-17</td>\n      <td>19:23:41</td>\n      <td>Kabum</td>\n    </tr>\n    <tr>\n      <th>174</th>\n      <td>Zotac</td>\n      <td>Placa de Vídeo Zotac Gaming NVIDIA GeForce GTX...</td>\n      <td>0</td>\n      <td>1.529,29</td>\n      <td>1.299,90</td>\n      <td>Disponivel</td>\n      <td>2020-09-17</td>\n      <td>19:23:41</td>\n      <td>Kabum</td>\n    </tr>\n    <tr>\n      <th>12</th>\n      <td>Zotac</td>\n      <td>Placa de Vídeo Zotac NVIDIA GeForce GT 710 2GB...</td>\n      <td>411,47</td>\n      <td>378,84</td>\n      <td>359,90</td>\n      <td>Disponivel</td>\n      <td>2020-09-17</td>\n      <td>19:23:41</td>\n      <td>Kabum</td>\n    </tr>\n    <tr>\n      <th>380</th>\n      <td>MSI</td>\n      <td>Placa de Vídeo MSI NVIDIA GeForce RTX 2070 Sup...</td>\n      <td>5.411,65</td>\n      <td>4.235,18</td>\n      <td>3.599,90</td>\n      <td>Indisponivel</td>\n      <td>2020-09-17</td>\n      <td>19:23:41</td>\n      <td>Kabum</td>\n    </tr>\n    <tr>\n      <th>14</th>\n      <td>Evga</td>\n      <td>Placa de Vídeo EVGA NVIDIA GeForce RTX 2060 KO...</td>\n      <td>0</td>\n      <td>2.823,41</td>\n      <td>2.399,90</td>\n      <td>Disponivel</td>\n      <td>2020-09-17</td>\n      <td>19:23:41</td>\n      <td>Kabum</td>\n    </tr>\n    <tr>\n      <th>93</th>\n      <td>Gigabyte</td>\n      <td>Placa de Vídeo Gigabyte NVIDIA GeForce GTX 165...</td>\n      <td>1.949,89</td>\n      <td>1.882,24</td>\n      <td>1.599,90</td>\n      <td>Disponivel</td>\n      <td>2020-09-17</td>\n      <td>19:23:41</td>\n      <td>Kabum</td>\n    </tr>\n    <tr>\n      <th>66</th>\n      <td>Evga</td>\n      <td>Placa de Vídeo EVGA NVIDIA GeForce RTX 2080 Su...</td>\n      <td>5.961,06</td>\n      <td>5.058,71</td>\n      <td>4.299,90</td>\n      <td>Disponivel</td>\n      <td>2020-09-17</td>\n      <td>19:23:41</td>\n      <td>Kabum</td>\n    </tr>\n    <tr>\n      <th>341</th>\n      <td>Galax</td>\n      <td>Placa de Vídeo Galax NVIDIA GeForce RTX 2080 T...</td>\n      <td>11.114,00</td>\n      <td>9.411,65</td>\n      <td>7.999,90</td>\n      <td>Indisponivel</td>\n      <td>2020-09-17</td>\n      <td>19:23:41</td>\n      <td>Kabum</td>\n    </tr>\n    <tr>\n      <th>316</th>\n      <td>MSI</td>\n      <td>Placa de Vídeo MSI NVIDIA GeForce GTX 1050 Aer...</td>\n      <td>0</td>\n      <td>752,82</td>\n      <td>639,90</td>\n      <td>Indisponivel</td>\n      <td>2020-09-17</td>\n      <td>19:23:41</td>\n      <td>Kabum</td>\n    </tr>\n    <tr>\n      <th>179</th>\n      <td>Galax</td>\n      <td>Placa de Vídeo Galax NVIDIA GeForce GTX 1660 S...</td>\n      <td>2.599,88</td>\n      <td>2.352,82</td>\n      <td>1.999,90</td>\n      <td>Disponivel</td>\n      <td>2020-09-17</td>\n      <td>19:23:41</td>\n      <td>Kabum</td>\n    </tr>\n  </tbody>\n</table>\n</div>"
     },
     "metadata": {},
     "execution_count": 7
    }
   ],
   "source": [
    "df = pd.DataFrame(produtos)\n",
    "df.sample(10)"
   ]
  },
  {
   "source": [
    "\n",
    "### Criando a conexão com o banco e salvando os dados"
   ],
   "cell_type": "markdown",
   "metadata": {}
  },
  {
   "cell_type": "code",
   "execution_count": 8,
   "metadata": {},
   "outputs": [],
   "source": [
    "df.to_sql('graphic_card', con=engine, if_exists='append', index = False)"
   ]
  },
  {
   "source": [
    "----------------------------------------------------------------------------------------------------"
   ],
   "cell_type": "markdown",
   "metadata": {}
  },
  {
   "cell_type": "code",
   "execution_count": 181,
   "metadata": {},
   "outputs": [],
   "source": [
    "#--| Parse or automation\n",
    "browser.get('https://www.pichau.com.br/hardware/placa-de-video?p=1')\n",
    "web = soup(browser.page_source, 'html.parser')"
   ]
  },
  {
   "cell_type": "code",
   "execution_count": 182,
   "metadata": {
    "tags": []
   },
   "outputs": [
    {
     "output_type": "stream",
     "name": "stdout",
     "text": "For the best experience on our site, be sure to turn on Javascript in your browser.\nFor the best experience on our site, be sure to turn on Javascript in your browser.\nFor the best experience on our site, be sure to turn on Javascript in your browser.\nFor the best experience on our site, be sure to turn on Javascript in your browser.\nFor the best experience on our site, be sure to turn on Javascript in your browser.\nFor the best experience on our site, be sure to turn on Javascript in your browser.\nFor the best experience on our site, be sure to turn on Javascript in your browser.\nFor the best experience on our site, be sure to turn on Javascript in your browser.\nFor the best experience on our site, be sure to turn on Javascript in your browser.\n"
    }
   ],
   "source": [
    "pagina = 0\n",
    "html_produtos = []\n",
    "flag = 0\n",
    "\n",
    "while pagina != 9:\n",
    "    items = web.findAll('div', {\"class\":\"product-item-info\"})\n",
    "    if items != []:\n",
    "        try:\n",
    "            pagina = pagina + 1\n",
    "            browser.get(f'https://www.pichau.com.br/hardware/placa-de-video?p={pagina}')\n",
    "            web = soup(browser.page_source, 'html.parser')\n",
    "        except Exception: break\n",
    "        html_produtos.append(items)\n",
    "    else:\n",
    "        break"
   ]
  },
  {
   "cell_type": "code",
   "execution_count": 183,
   "metadata": {},
   "outputs": [],
   "source": [
    "flat_list = []\n",
    "for sublist in html_produtos:\n",
    "    for item in sublist:\n",
    "        flat_list.append(item)"
   ]
  },
  {
   "cell_type": "code",
   "execution_count": 241,
   "metadata": {},
   "outputs": [],
   "source": [
    "def extract_brand(name):\n",
    "    if 'AFOX' in item_aux.find('a', {\"class\":\"product-item-link\"}).text:\n",
    "        return 'AFOX'\n",
    "    elif 'AMD' in item_aux.find('a', {\"class\":\"product-item-link\"}).text:\n",
    "        return 'AMD'\n",
    "    elif 'AsRock' in item_aux.find('a', {\"class\":\"product-item-link\"}).text:\n",
    "        return 'AsRock'\n",
    "    elif 'Asus' in item_aux.find('a', {\"class\":\"product-item-link\"}).text:\n",
    "        return 'Asus'\n",
    "    elif 'EVGA' in item_aux.find('a', {\"class\":\"product-item-link\"}).text:\n",
    "        return 'EVGA'\n",
    "    elif 'Galax' in item_aux.find('a', {\"class\":\"product-item-link\"}).text:\n",
    "        return 'Galax'\n",
    "    elif 'Gigabyte' in item_aux.find('a', {\"class\":\"product-item-link\"}).text:\n",
    "        return 'Gigabyte'\n",
    "    elif 'MSI' in item_aux.find('a', {\"class\":\"product-item-link\"}).text:\n",
    "        return 'MSI'\n",
    "    elif 'PCYES!' in item_aux.find('a', {\"class\":\"product-item-link\"}).text:\n",
    "        return 'PCYES'\n",
    "    elif 'PNY' in item_aux.find('a', {\"class\":\"product-item-link\"}).text:\n",
    "        return 'PNY'\n",
    "    elif 'PowerColor' in item_aux.find('a', {\"class\":\"product-item-link\"}).text:\n",
    "        return 'PowerColor'\n",
    "    elif 'Sapphire' in item_aux.find('a', {\"class\":\"product-item-link\"}).text:\n",
    "        return 'Sapphire'\n",
    "    elif 'XFX' in item_aux.find('a', {\"class\":\"product-item-link\"}).text:\n",
    "        return 'XFX'\n",
    "    elif 'Sapphire' in item_aux.find('a', {\"class\":\"product-item-link\"}).text:\n",
    "        return 'Sapphire'\n",
    "    elif 'ZOGIS' in item_aux.find('a', {\"class\":\"product-item-link\"}).text:\n",
    "        return 'ZOGIS'\n",
    "    elif 'Zotac' in item_aux.find('a', {\"class\":\"product-item-link\"}).text:\n",
    "        return 'Zotac'\n",
    "    else:\n",
    "        return ''\n",
    "\n",
    "now = datetime.now()\n",
    "produtos_pichau = []\n",
    "\n",
    "for container in flat_list:\n",
    "    if container.find('span', {\"class\":\"price\"}) != None:\n",
    "        # Estreutura de para salvar\n",
    "        marca = extract_brand(container.find('a', {\"class\":\"product-item-link\"}).text)\n",
    "        nome_produto = container.find('a', {\"class\":\"product-item-link\"}).text\n",
    "\n",
    "        preco_atual_cartao =  (container.find('span', {\"class\":\"price\"}).text)\n",
    "        preco_boleto = (container.find('span', {\"class\":\"price-boleto\"}).text).split(\" \")[2]\n",
    "        \n",
    "        disponibilidade = 'Disponivel'\n",
    "\n",
    "        produto = {\n",
    "            \"marca\" : marca,\n",
    "            \"nome_produto\": nome_produto,\n",
    "            \"preco_antigo_cartao\": None,\n",
    "            \"preco_atual_cartao\": preco_atual_cartao,\n",
    "            \"preco_boleto\": preco_boleto,\n",
    "            \"disponibilidade\": disponibilidade,\n",
    "            \"data\" : now.strftime(\"%Y-%m-%d\"),\n",
    "            \"hora\":  now.strftime(\"%H:%M:%S\"),\n",
    "            \"loja\": \"Pichau\" \n",
    "        }\n",
    "        produtos_pichau.append(produto)"
   ]
  },
  {
   "cell_type": "code",
   "execution_count": 242,
   "metadata": {},
   "outputs": [
    {
     "output_type": "execute_result",
     "data": {
      "text/plain": "    marca                                       nome_produto  \\\n27  Galax  Placa de Video Asus Radeon RX 5600 XT 6GB GDDR...   \n29  Galax  Placa de Video Galax GeForce GTX 1650 EX Plus ...   \n34  Galax  Placa de VIdeo Gigabyte GeForce RTX 2070 Super...   \n49  Galax  Placa de Video Gigabyte GeForce GTX 1650 D6 OC...   \n22  Galax  Placa de Video ASRock Radeon RX 5700 XT 8GB Ph...   \n18  Galax  Placa de Video PNY Quadro P4000 8GB GDDR5 256-...   \n64  Galax  Placa de Video MSI Radeon RX 5700 XT 8GB Gamin...   \n7   Galax  Placa de Video ASRock Radeon RX 5600 XT 6GB Ch...   \n48  Galax  Placa de Video Afox Radeon RX 550 2GB 128-bit,...   \n75  Galax  Placa de Video Gigabyte GeForce RTX 2080 Super...   \n\n   preco_antigo_cartao preco_atual_cartao preco_boleto disponibilidade  \\\n27                None           2.840,86     2.499,96      Disponivel   \n29                None           1.249,97     1.099,97      Disponivel   \n34                None           4.431,75     3.899,94      Disponivel   \n49                None           1.373,85     1.208,99      Disponivel   \n22                None           3.465,86     3.049,96      Disponivel   \n18                None           6.477,18     5.699,92      Disponivel   \n64                None           3.781,77     3.327,96      Disponivel   \n7                 None           2.386,32     2.099,96      Disponivel   \n48                None             636,25       559,90      Disponivel   \n75                None           4.899,99     4.311,99      Disponivel   \n\n          data      hora    loja  \n27  2020-09-19  17:49:11  Pichau  \n29  2020-09-19  17:49:11  Pichau  \n34  2020-09-19  17:49:11  Pichau  \n49  2020-09-19  17:49:11  Pichau  \n22  2020-09-19  17:49:11  Pichau  \n18  2020-09-19  17:49:11  Pichau  \n64  2020-09-19  17:49:11  Pichau  \n7   2020-09-19  17:49:11  Pichau  \n48  2020-09-19  17:49:11  Pichau  \n75  2020-09-19  17:49:11  Pichau  ",
      "text/html": "<div>\n<style scoped>\n    .dataframe tbody tr th:only-of-type {\n        vertical-align: middle;\n    }\n\n    .dataframe tbody tr th {\n        vertical-align: top;\n    }\n\n    .dataframe thead th {\n        text-align: right;\n    }\n</style>\n<table border=\"1\" class=\"dataframe\">\n  <thead>\n    <tr style=\"text-align: right;\">\n      <th></th>\n      <th>marca</th>\n      <th>nome_produto</th>\n      <th>preco_antigo_cartao</th>\n      <th>preco_atual_cartao</th>\n      <th>preco_boleto</th>\n      <th>disponibilidade</th>\n      <th>data</th>\n      <th>hora</th>\n      <th>loja</th>\n    </tr>\n  </thead>\n  <tbody>\n    <tr>\n      <th>27</th>\n      <td>Galax</td>\n      <td>Placa de Video Asus Radeon RX 5600 XT 6GB GDDR...</td>\n      <td>None</td>\n      <td>2.840,86</td>\n      <td>2.499,96</td>\n      <td>Disponivel</td>\n      <td>2020-09-19</td>\n      <td>17:49:11</td>\n      <td>Pichau</td>\n    </tr>\n    <tr>\n      <th>29</th>\n      <td>Galax</td>\n      <td>Placa de Video Galax GeForce GTX 1650 EX Plus ...</td>\n      <td>None</td>\n      <td>1.249,97</td>\n      <td>1.099,97</td>\n      <td>Disponivel</td>\n      <td>2020-09-19</td>\n      <td>17:49:11</td>\n      <td>Pichau</td>\n    </tr>\n    <tr>\n      <th>34</th>\n      <td>Galax</td>\n      <td>Placa de VIdeo Gigabyte GeForce RTX 2070 Super...</td>\n      <td>None</td>\n      <td>4.431,75</td>\n      <td>3.899,94</td>\n      <td>Disponivel</td>\n      <td>2020-09-19</td>\n      <td>17:49:11</td>\n      <td>Pichau</td>\n    </tr>\n    <tr>\n      <th>49</th>\n      <td>Galax</td>\n      <td>Placa de Video Gigabyte GeForce GTX 1650 D6 OC...</td>\n      <td>None</td>\n      <td>1.373,85</td>\n      <td>1.208,99</td>\n      <td>Disponivel</td>\n      <td>2020-09-19</td>\n      <td>17:49:11</td>\n      <td>Pichau</td>\n    </tr>\n    <tr>\n      <th>22</th>\n      <td>Galax</td>\n      <td>Placa de Video ASRock Radeon RX 5700 XT 8GB Ph...</td>\n      <td>None</td>\n      <td>3.465,86</td>\n      <td>3.049,96</td>\n      <td>Disponivel</td>\n      <td>2020-09-19</td>\n      <td>17:49:11</td>\n      <td>Pichau</td>\n    </tr>\n    <tr>\n      <th>18</th>\n      <td>Galax</td>\n      <td>Placa de Video PNY Quadro P4000 8GB GDDR5 256-...</td>\n      <td>None</td>\n      <td>6.477,18</td>\n      <td>5.699,92</td>\n      <td>Disponivel</td>\n      <td>2020-09-19</td>\n      <td>17:49:11</td>\n      <td>Pichau</td>\n    </tr>\n    <tr>\n      <th>64</th>\n      <td>Galax</td>\n      <td>Placa de Video MSI Radeon RX 5700 XT 8GB Gamin...</td>\n      <td>None</td>\n      <td>3.781,77</td>\n      <td>3.327,96</td>\n      <td>Disponivel</td>\n      <td>2020-09-19</td>\n      <td>17:49:11</td>\n      <td>Pichau</td>\n    </tr>\n    <tr>\n      <th>7</th>\n      <td>Galax</td>\n      <td>Placa de Video ASRock Radeon RX 5600 XT 6GB Ch...</td>\n      <td>None</td>\n      <td>2.386,32</td>\n      <td>2.099,96</td>\n      <td>Disponivel</td>\n      <td>2020-09-19</td>\n      <td>17:49:11</td>\n      <td>Pichau</td>\n    </tr>\n    <tr>\n      <th>48</th>\n      <td>Galax</td>\n      <td>Placa de Video Afox Radeon RX 550 2GB 128-bit,...</td>\n      <td>None</td>\n      <td>636,25</td>\n      <td>559,90</td>\n      <td>Disponivel</td>\n      <td>2020-09-19</td>\n      <td>17:49:11</td>\n      <td>Pichau</td>\n    </tr>\n    <tr>\n      <th>75</th>\n      <td>Galax</td>\n      <td>Placa de Video Gigabyte GeForce RTX 2080 Super...</td>\n      <td>None</td>\n      <td>4.899,99</td>\n      <td>4.311,99</td>\n      <td>Disponivel</td>\n      <td>2020-09-19</td>\n      <td>17:49:11</td>\n      <td>Pichau</td>\n    </tr>\n  </tbody>\n</table>\n</div>"
     },
     "metadata": {},
     "execution_count": 242
    }
   ],
   "source": [
    "df_pichau = pd.DataFrame(produtos_pichau)\n",
    "df_pichau['preco_atual_cartao'] = df_pichau['preco_atual_cartao'].replace({'R\\$':''}, regex = True)\n",
    "df_pichau['preco_boleto'] = df_pichau['preco_boleto'].replace({'R\\$':''}, regex = True)\n",
    "df_pichau['nome_produto'] = df_pichau['nome_produto'].replace({'\\n':''}, regex = True)\n",
    "df_pichau.sample(10)"
   ]
  },
  {
   "cell_type": "code",
   "execution_count": 244,
   "metadata": {},
   "outputs": [],
   "source": [
    "df_pichau.to_sql('graphic_card', con=engine, if_exists='append', index = False)"
   ]
  },
  {
   "source": [
    "_______________________________________________________"
   ],
   "cell_type": "markdown",
   "metadata": {}
  },
  {
   "cell_type": "code",
   "execution_count": 14,
   "metadata": {
    "tags": []
   },
   "outputs": [],
   "source": [
    "# containers = html.findAll('div', {\"class\":\"sc-fzqNqU jmuOAh\"})\n",
    "# https://www.kabum.com.br/cgi-local/site/listagem/listagem.cgi?string=processador&btnG=&pagina=1&ordem=5&limite=30&prime=false&marcas=[%225%22,%226%22]&tipo_produto=[]&filtro=[]"
   ]
  },
  {
   "cell_type": "code",
   "execution_count": 15,
   "metadata": {
    "tags": []
   },
   "outputs": [],
   "source": [
    "# images = html.findAll('div', {\"class\":\"sc-fznKkj fEpBwY\"})\n",
    "\n",
    "# # images.img['src']\n",
    "# for image in images:\n",
    "#     print(image.img['src'])\n",
    "#     # if \"indisponivel\" in image.img['src']:\n",
    "#     #     print('Indisponivel')\n",
    "#     # elif \"disponivel\" in image.img['src']:\n",
    "#     #     print('Disponivel')"
   ]
  },
  {
   "cell_type": "code",
   "execution_count": 16,
   "metadata": {},
   "outputs": [],
   "source": [
    "# preco_antigo_cartao = float((container.find('div', {\"class\":\"sc-fzpjYC hKlXgM\"}).text).split(\" \")[2].replace('.', '').replace(',', '.'))\n",
    "# preco_atual_cartao =  float((container.find('div', {\"class\":\"sc-fznxsB ksiZrQ\"}).text).split(\" \")[1].replace('.', '').replace(',', '.'))\n",
    "# preco_boleto = float((container.find('div', {\"class\":\"sc-fznWqX qatGF\"}).text).split(\" \")[1].replace('.', '').replace(',', '.'))\n"
   ]
  },
  {
   "cell_type": "code",
   "execution_count": 17,
   "metadata": {
    "tags": []
   },
   "outputs": [],
   "source": [
    "# print(preco_antigo_cartao)\n",
    "# # print(re.search('^(([1-9]\\d{0,2}(\\.\\d{3})*)|(([1-9]\\.\\d*)?\\d))(\\,\\d\\d)?', preco_atual_cartao).group())\n",
    "# print(preco_atual_cartao)\n",
    "# print(preco_boleto)"
   ]
  },
  {
   "cell_type": "code",
   "execution_count": null,
   "metadata": {},
   "outputs": [],
   "source": [
    "# item_aux.find('span')\n",
    "# nao_disponivel\n",
    "# if \"Indisponivel\" not in item_aux.find('span').text:\n",
    "#     print('Entrou aqui')\n",
    "#     item_aux.find('a', {\"class\":\"product-item-link\"}).text\n",
    "#     item_aux.find('span', {\"class\":\"price\"}).text\n",
    "#     item_aux.find('span', {\"class\":\"price-boleto\"}).text.split(\" \")[2]\n",
    "# else:\n",
    "#     print('Não ta')\n",
    "# if item_aux.find('div', {\"class\":\"price\"}) != None:\n",
    "#     print('Não ta')\n",
    "# else:\n",
    "#     print('Não ta2')"
   ]
  }
 ]
}