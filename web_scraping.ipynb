{
 "metadata": {
  "language_info": {
   "codemirror_mode": {
    "name": "ipython",
    "version": 3
   },
   "file_extension": ".py",
   "mimetype": "text/x-python",
   "name": "python",
   "nbconvert_exporter": "python",
   "pygments_lexer": "ipython3",
   "version": "3.8.3-final"
  },
  "orig_nbformat": 2,
  "kernelspec": {
   "name": "python_defaultSpec_1599861326057",
   "display_name": "Python 3.8.3 64-bit"
  }
 },
 "nbformat": 4,
 "nbformat_minor": 2,
 "cells": [
  {
   "source": [
    "# Imports"
   ],
   "cell_type": "markdown",
   "metadata": {}
  },
  {
   "cell_type": "code",
   "execution_count": 1,
   "metadata": {},
   "outputs": [],
   "source": [
    "import requests\n",
    "from bs4 import BeautifulSoup as soup\n",
    "from selenium import webdriver\n",
    "from selenium.webdriver.chrome.options import Options\n",
    "from selenium.webdriver.common.keys import Keys\n",
    "import re\n",
    "from datetime import datetime\n",
    "import pandas as pd\n",
    "from connection_keys import connection, alchemy_connection"
   ]
  },
  {
   "source": [
    "### Setup para abrir o navegador com o Selenium e puxar a primeira página"
   ],
   "cell_type": "markdown",
   "metadata": {}
  },
  {
   "cell_type": "code",
   "execution_count": 2,
   "metadata": {},
   "outputs": [],
   "source": [
    "#--| Setup\n",
    "options = Options()\n",
    "options.add_argument('--ignore-certificate-errors')\n",
    "options.add_argument('--incognito')\n",
    "options.add_argument('--headless')\n",
    "options.add_argument('--disable-extensions')\n",
    "#options.add_argument(\"--headless\")\n",
    "browser = webdriver.Chrome(executable_path=r'chromedriver.exe', options=options)\n",
    "#--| Parse or automation\n",
    "browser.get('https://www.kabum.com.br/hardware/placa-de-video-vga?pagina=1')\n",
    "html = soup(browser.page_source, 'html.parser')\n",
    "# browser.implicitly_wait(5)"
   ]
  },
  {
   "source": [
    "### Configuiração para percorer as páginas e salvar todos dados com a taga referente ao produto em uma lista"
   ],
   "cell_type": "markdown",
   "metadata": {}
  },
  {
   "cell_type": "code",
   "execution_count": 3,
   "metadata": {
    "tags": []
   },
   "outputs": [],
   "source": [
    "pagina = 0\n",
    "html_produtos = []\n",
    "flag = 0\n",
    "\n",
    "while flag == 0:\n",
    "    items = html.findAll('div', {\"class\":\"sc-fzqNqU jmuOAh\"})\n",
    "    if items != []:\n",
    "        try:\n",
    "            pagina = pagina + 1\n",
    "            browser.get(f'https://www.kabum.com.br/hardware/placa-de-video-vga?pagina={pagina}')\n",
    "            html = soup(browser.page_source, 'html.parser')\n",
    "        except Exception: break\n",
    "        html_produtos.append(items)\n",
    "    else:\n",
    "        break"
   ]
  },
  {
   "source": [
    "### Tranformação da lista de listas em uma lista normal para percorer com mais facildiade os atributos do produto"
   ],
   "cell_type": "markdown",
   "metadata": {}
  },
  {
   "cell_type": "code",
   "execution_count": 4,
   "metadata": {},
   "outputs": [],
   "source": [
    "flat_list = []\n",
    "for sublist in html_produtos:\n",
    "    for item in sublist:\n",
    "        flat_list.append(item)"
   ]
  },
  {
   "source": [
    "### Percorrendo a lista, capurando e salvando cada atributo no dicionario"
   ],
   "cell_type": "markdown",
   "metadata": {}
  },
  {
   "cell_type": "code",
   "execution_count": 5,
   "metadata": {
    "tags": []
   },
   "outputs": [],
   "source": [
    "now = datetime.now()\n",
    "produtos = []\n",
    "\n",
    "for container in flat_list:\n",
    "    \n",
    "    # Estreutura de para salvar\n",
    "    marca = container.div.img['alt']\n",
    "    nome_produto = container.find('a', {\"class\":\"sc-fzoLsD gnrNhT item-nome\"}).text\n",
    "\n",
    "    if container.find('div', {\"class\":\"sc-fzpjYC hKlXgM\"}) != None:\n",
    "        preco_antigo_cartao = (container.find('div', {\"class\":\"sc-fzpjYC hKlXgM\"}).text).split(\" \")[2]\n",
    "    else: \n",
    "        preco_antigo_cartao = '0'\n",
    "    preco_atual_cartao =  (container.find('div', {\"class\":\"sc-fznxsB ksiZrQ\"}).text).split(\" \")[1]\n",
    "    preco_boleto = (container.find('div', {\"class\":\"sc-fznWqX qatGF\"}).text).split(\" \")[1]\n",
    "    \n",
    "    image = container.find('div', {\"class\":\"sc-fznKkj fEpBwY\"})\n",
    "    if \"indisponivel\" in image.img['src']:\n",
    "        disponibilidade = 'Indisponivel'\n",
    "    elif \"disponivel\" in image.img['src']:\n",
    "        disponibilidade = 'Disponivel'\n",
    "\n",
    "    produto = {\n",
    "        \"marca\" : marca,\n",
    "        \"nome_produto\": nome_produto,\n",
    "        \"preco_antigo_cartao\": preco_antigo_cartao,\n",
    "        \"preco_atual_cartao\": preco_atual_cartao,\n",
    "        \"preco_boleto\": preco_boleto,\n",
    "        \"disponibilidade\": disponibilidade,\n",
    "        \"data\" : now.strftime(\"%Y-%m-%d\"),\n",
    "        \"hora\":  now.strftime(\"%H:%M:%S\"),\n",
    "        \"loja\": \"Kabum\" \n",
    "    }\n",
    "    produtos.append(produto)\n"
   ]
  },
  {
   "source": [
    "### Transformando o dict em Dataframe e visualizando uma amostra dos dados"
   ],
   "cell_type": "markdown",
   "metadata": {}
  },
  {
   "cell_type": "code",
   "execution_count": 6,
   "metadata": {},
   "outputs": [
    {
     "output_type": "execute_result",
     "data": {
      "text/plain": "         marca                                       nome_produto  \\\n318        MSI  Placa de Vídeo MSI NVIDIA GeForce RTX 2060 Ven...   \n141  Rise Mode  Suporte para Placa de Video Rise Mode  Ice Col...   \n236      Zotac  Placa de Vídeo Zotac Gaming NVIDIA GeForce GTX...   \n377   Gigabyte  Placa de Vídeo Gigabyte NVIDIA GeForce GTX 165...   \n150       Asus  Placa de Vídeo Asus Dual AMD Radeon RX 5600 XT...   \n369    Liketec  Suporte para Placa de Vídeo Liketec Nexxus 2, ...   \n158       Evga  Placa de Vídeo EVGA NVIDIA GeForce RTX 2070 Su...   \n343      PCYes  Placa de Vídeo PCYes AMD Radeon R7 240,\\t4GB, ...   \n218   Gigabyte  Placa de Vídeo Gigabyte NVIDIA GeForce GTX 105...   \n125   Gigabyte  Placa de Vídeo Gigabyte NVIDIA GeForce GTX 166...   \n\n    preco_antigo_cartao preco_atual_cartao preco_boleto disponibilidade  \\\n318                   0           2.235,18     1.899,90    Indisponivel   \n141               30,47              29,29        24,90      Disponivel   \n236            1.882,24           1.588,12     1.349,90      Disponivel   \n377                   0           2.023,41     1.719,90    Indisponivel   \n150            2.681,06           2.470,47     2.099,90      Disponivel   \n369                   0              23,41        19,90    Indisponivel   \n158            5.555,18           4.705,76     3.999,90      Disponivel   \n343                   0             776,35       659,90    Indisponivel   \n218            1.364,59           1.246,94     1.059,90      Disponivel   \n125            2.705,76           2.470,47     2.099,90      Disponivel   \n\n           data      hora   loja  \n318  2020-09-11  18:56:58  Kabum  \n141  2020-09-11  18:56:58  Kabum  \n236  2020-09-11  18:56:58  Kabum  \n377  2020-09-11  18:56:58  Kabum  \n150  2020-09-11  18:56:58  Kabum  \n369  2020-09-11  18:56:58  Kabum  \n158  2020-09-11  18:56:58  Kabum  \n343  2020-09-11  18:56:58  Kabum  \n218  2020-09-11  18:56:58  Kabum  \n125  2020-09-11  18:56:58  Kabum  ",
      "text/html": "<div>\n<style scoped>\n    .dataframe tbody tr th:only-of-type {\n        vertical-align: middle;\n    }\n\n    .dataframe tbody tr th {\n        vertical-align: top;\n    }\n\n    .dataframe thead th {\n        text-align: right;\n    }\n</style>\n<table border=\"1\" class=\"dataframe\">\n  <thead>\n    <tr style=\"text-align: right;\">\n      <th></th>\n      <th>marca</th>\n      <th>nome_produto</th>\n      <th>preco_antigo_cartao</th>\n      <th>preco_atual_cartao</th>\n      <th>preco_boleto</th>\n      <th>disponibilidade</th>\n      <th>data</th>\n      <th>hora</th>\n      <th>loja</th>\n    </tr>\n  </thead>\n  <tbody>\n    <tr>\n      <th>318</th>\n      <td>MSI</td>\n      <td>Placa de Vídeo MSI NVIDIA GeForce RTX 2060 Ven...</td>\n      <td>0</td>\n      <td>2.235,18</td>\n      <td>1.899,90</td>\n      <td>Indisponivel</td>\n      <td>2020-09-11</td>\n      <td>18:56:58</td>\n      <td>Kabum</td>\n    </tr>\n    <tr>\n      <th>141</th>\n      <td>Rise Mode</td>\n      <td>Suporte para Placa de Video Rise Mode  Ice Col...</td>\n      <td>30,47</td>\n      <td>29,29</td>\n      <td>24,90</td>\n      <td>Disponivel</td>\n      <td>2020-09-11</td>\n      <td>18:56:58</td>\n      <td>Kabum</td>\n    </tr>\n    <tr>\n      <th>236</th>\n      <td>Zotac</td>\n      <td>Placa de Vídeo Zotac Gaming NVIDIA GeForce GTX...</td>\n      <td>1.882,24</td>\n      <td>1.588,12</td>\n      <td>1.349,90</td>\n      <td>Disponivel</td>\n      <td>2020-09-11</td>\n      <td>18:56:58</td>\n      <td>Kabum</td>\n    </tr>\n    <tr>\n      <th>377</th>\n      <td>Gigabyte</td>\n      <td>Placa de Vídeo Gigabyte NVIDIA GeForce GTX 165...</td>\n      <td>0</td>\n      <td>2.023,41</td>\n      <td>1.719,90</td>\n      <td>Indisponivel</td>\n      <td>2020-09-11</td>\n      <td>18:56:58</td>\n      <td>Kabum</td>\n    </tr>\n    <tr>\n      <th>150</th>\n      <td>Asus</td>\n      <td>Placa de Vídeo Asus Dual AMD Radeon RX 5600 XT...</td>\n      <td>2.681,06</td>\n      <td>2.470,47</td>\n      <td>2.099,90</td>\n      <td>Disponivel</td>\n      <td>2020-09-11</td>\n      <td>18:56:58</td>\n      <td>Kabum</td>\n    </tr>\n    <tr>\n      <th>369</th>\n      <td>Liketec</td>\n      <td>Suporte para Placa de Vídeo Liketec Nexxus 2, ...</td>\n      <td>0</td>\n      <td>23,41</td>\n      <td>19,90</td>\n      <td>Indisponivel</td>\n      <td>2020-09-11</td>\n      <td>18:56:58</td>\n      <td>Kabum</td>\n    </tr>\n    <tr>\n      <th>158</th>\n      <td>Evga</td>\n      <td>Placa de Vídeo EVGA NVIDIA GeForce RTX 2070 Su...</td>\n      <td>5.555,18</td>\n      <td>4.705,76</td>\n      <td>3.999,90</td>\n      <td>Disponivel</td>\n      <td>2020-09-11</td>\n      <td>18:56:58</td>\n      <td>Kabum</td>\n    </tr>\n    <tr>\n      <th>343</th>\n      <td>PCYes</td>\n      <td>Placa de Vídeo PCYes AMD Radeon R7 240,\\t4GB, ...</td>\n      <td>0</td>\n      <td>776,35</td>\n      <td>659,90</td>\n      <td>Indisponivel</td>\n      <td>2020-09-11</td>\n      <td>18:56:58</td>\n      <td>Kabum</td>\n    </tr>\n    <tr>\n      <th>218</th>\n      <td>Gigabyte</td>\n      <td>Placa de Vídeo Gigabyte NVIDIA GeForce GTX 105...</td>\n      <td>1.364,59</td>\n      <td>1.246,94</td>\n      <td>1.059,90</td>\n      <td>Disponivel</td>\n      <td>2020-09-11</td>\n      <td>18:56:58</td>\n      <td>Kabum</td>\n    </tr>\n    <tr>\n      <th>125</th>\n      <td>Gigabyte</td>\n      <td>Placa de Vídeo Gigabyte NVIDIA GeForce GTX 166...</td>\n      <td>2.705,76</td>\n      <td>2.470,47</td>\n      <td>2.099,90</td>\n      <td>Disponivel</td>\n      <td>2020-09-11</td>\n      <td>18:56:58</td>\n      <td>Kabum</td>\n    </tr>\n  </tbody>\n</table>\n</div>"
     },
     "metadata": {},
     "execution_count": 6
    }
   ],
   "source": [
    "df = pd.DataFrame(produtos)\n",
    "df.sample(10)"
   ]
  },
  {
   "source": [
    "\n",
    "### Criando a conexão com o banco e salvando os dados"
   ],
   "cell_type": "markdown",
   "metadata": {}
  },
  {
   "cell_type": "code",
   "execution_count": 7,
   "metadata": {},
   "outputs": [],
   "source": [
    "engine = alchemy_connection('db_hardware')\n",
    "df.to_sql('graphic_card', con=engine, if_exists='append', index = False)"
   ]
  },
  {
   "source": [
    "----------------------------------------------------------------------------------------------------"
   ],
   "cell_type": "markdown",
   "metadata": {}
  },
  {
   "cell_type": "code",
   "execution_count": 8,
   "metadata": {
    "tags": []
   },
   "outputs": [],
   "source": [
    "# containers = html.findAll('div', {\"class\":\"sc-fzqNqU jmuOAh\"})\n",
    "# https://www.kabum.com.br/cgi-local/site/listagem/listagem.cgi?string=processador&btnG=&pagina=1&ordem=5&limite=30&prime=false&marcas=[%225%22,%226%22]&tipo_produto=[]&filtro=[]"
   ]
  },
  {
   "cell_type": "code",
   "execution_count": 9,
   "metadata": {
    "tags": []
   },
   "outputs": [],
   "source": [
    "# images = html.findAll('div', {\"class\":\"sc-fznKkj fEpBwY\"})\n",
    "\n",
    "# # images.img['src']\n",
    "# for image in images:\n",
    "#     print(image.img['src'])\n",
    "#     # if \"indisponivel\" in image.img['src']:\n",
    "#     #     print('Indisponivel')\n",
    "#     # elif \"disponivel\" in image.img['src']:\n",
    "#     #     print('Disponivel')"
   ]
  },
  {
   "cell_type": "code",
   "execution_count": 10,
   "metadata": {},
   "outputs": [],
   "source": [
    "# preco_antigo_cartao = float((container.find('div', {\"class\":\"sc-fzpjYC hKlXgM\"}).text).split(\" \")[2].replace('.', '').replace(',', '.'))\n",
    "# preco_atual_cartao =  float((container.find('div', {\"class\":\"sc-fznxsB ksiZrQ\"}).text).split(\" \")[1].replace('.', '').replace(',', '.'))\n",
    "# preco_boleto = float((container.find('div', {\"class\":\"sc-fznWqX qatGF\"}).text).split(\" \")[1].replace('.', '').replace(',', '.'))\n"
   ]
  },
  {
   "cell_type": "code",
   "execution_count": 11,
   "metadata": {
    "tags": []
   },
   "outputs": [],
   "source": [
    "# print(preco_antigo_cartao)\n",
    "# # print(re.search('^(([1-9]\\d{0,2}(\\.\\d{3})*)|(([1-9]\\.\\d*)?\\d))(\\,\\d\\d)?', preco_atual_cartao).group())\n",
    "# print(preco_atual_cartao)\n",
    "# print(preco_boleto)"
   ]
  }
 ]
}