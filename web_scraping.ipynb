{
 "metadata": {
  "language_info": {
   "codemirror_mode": {
    "name": "ipython",
    "version": 3
   },
   "file_extension": ".py",
   "mimetype": "text/x-python",
   "name": "python",
   "nbconvert_exporter": "python",
   "pygments_lexer": "ipython3",
   "version": "3.8.3-final"
  },
  "orig_nbformat": 2,
  "kernelspec": {
   "name": "python_defaultSpec_1600381334239",
   "display_name": "Python 3.8.3 64-bit"
  }
 },
 "nbformat": 4,
 "nbformat_minor": 2,
 "cells": [
  {
   "source": [
    "# Imports"
   ],
   "cell_type": "markdown",
   "metadata": {}
  },
  {
   "cell_type": "code",
   "execution_count": 1,
   "metadata": {},
   "outputs": [],
   "source": [
    "import requests\n",
    "from bs4 import BeautifulSoup as soup\n",
    "from selenium import webdriver\n",
    "from selenium.webdriver.chrome.options import Options\n",
    "from selenium.webdriver.common.keys import Keys\n",
    "import re\n",
    "from datetime import datetime\n",
    "import pandas as pd\n",
    "from connection_keys import connection, alchemy_connection"
   ]
  },
  {
   "source": [
    "### Setup para abrir o navegador com o Selenium e puxar a primeira página"
   ],
   "cell_type": "markdown",
   "metadata": {}
  },
  {
   "cell_type": "code",
   "execution_count": 2,
   "metadata": {},
   "outputs": [],
   "source": [
    "#--| Setup\n",
    "options = Options()\n",
    "options.add_argument('--ignore-certificate-errors')\n",
    "options.add_argument('--incognito')\n",
    "options.add_argument('--headless')\n",
    "options.add_argument('--disable-extensions')\n",
    "#options.add_argument(\"--headless\")\n",
    "browser = webdriver.Chrome(executable_path=r'chromedriver.exe', options=options)"
   ]
  },
  {
   "cell_type": "code",
   "execution_count": 3,
   "metadata": {},
   "outputs": [],
   "source": [
    "\n",
    "--| Parse or automation\n",
    "browser.get('https://www.kabum.com.br/hardware/placa-de-video-vga?pagina=1')\n",
    "html = soup(browser.page_source, 'html.parser')\n",
    "# browser.implicitly_wait(5)"
   ]
  },
  {
   "source": [
    "### Configuiração para percorer as páginas e salvar todos dados com a taga referente ao produto em uma lista"
   ],
   "cell_type": "markdown",
   "metadata": {}
  },
  {
   "cell_type": "code",
   "execution_count": 4,
   "metadata": {
    "tags": []
   },
   "outputs": [],
   "source": [
    "pagina = 0\n",
    "html_produtos = []\n",
    "flag = 0\n",
    "\n",
    "while flag == 0:\n",
    "    items = html.findAll('div', {\"class\":\"sc-fzqNqU jmuOAh\"})\n",
    "    if items != []:\n",
    "        try:\n",
    "            pagina = pagina + 1\n",
    "            browser.get(f'https://www.kabum.com.br/hardware/placa-de-video-vga?pagina={pagina}')\n",
    "            html = soup(browser.page_source, 'html.parser')\n",
    "        except Exception: break\n",
    "        html_produtos.append(items)\n",
    "    else:\n",
    "        break"
   ]
  },
  {
   "source": [
    "### Tranformação da lista de listas em uma lista normal para percorer com mais facildiade os atributos do produto"
   ],
   "cell_type": "markdown",
   "metadata": {}
  },
  {
   "cell_type": "code",
   "execution_count": 5,
   "metadata": {},
   "outputs": [],
   "source": [
    "flat_list = []\n",
    "for sublist in html_produtos:\n",
    "    for item in sublist:\n",
    "        flat_list.append(item)"
   ]
  },
  {
   "source": [
    "### Percorrendo a lista, capurando e salvando cada atributo no dicionario"
   ],
   "cell_type": "markdown",
   "metadata": {}
  },
  {
   "cell_type": "code",
   "execution_count": 6,
   "metadata": {
    "tags": []
   },
   "outputs": [],
   "source": [
    "now = datetime.now()\n",
    "produtos = []\n",
    "\n",
    "for container in flat_list:\n",
    "    \n",
    "    # Estreutura de para salvar\n",
    "    marca = container.div.img['alt']\n",
    "    nome_produto = container.find('a', {\"class\":\"sc-fzoLsD gnrNhT item-nome\"}).text\n",
    "\n",
    "    if container.find('div', {\"class\":\"sc-fzpjYC hKlXgM\"}) != None:\n",
    "        preco_antigo_cartao = (container.find('div', {\"class\":\"sc-fzpjYC hKlXgM\"}).text).split(\" \")[2]\n",
    "    else: \n",
    "        preco_antigo_cartao = '0'\n",
    "    preco_atual_cartao =  (container.find('div', {\"class\":\"sc-fznxsB ksiZrQ\"}).text).split(\" \")[1]\n",
    "    preco_boleto = (container.find('div', {\"class\":\"sc-fznWqX qatGF\"}).text).split(\" \")[1]\n",
    "    \n",
    "    image = container.find('div', {\"class\":\"sc-fznKkj fEpBwY\"})\n",
    "    if \"indisponivel\" in image.img['src']:\n",
    "        disponibilidade = 'Indisponivel'\n",
    "    elif \"disponivel\" in image.img['src']:\n",
    "        disponibilidade = 'Disponivel'\n",
    "\n",
    "    produto = {\n",
    "        \"marca\" : marca,\n",
    "        \"nome_produto\": nome_produto,\n",
    "        \"preco_antigo_cartao\": preco_antigo_cartao,\n",
    "        \"preco_atual_cartao\": preco_atual_cartao,\n",
    "        \"preco_boleto\": preco_boleto,\n",
    "        \"disponibilidade\": disponibilidade,\n",
    "        \"data\" : now.strftime(\"%Y-%m-%d\"),\n",
    "        \"hora\":  now.strftime(\"%H:%M:%S\"),\n",
    "        \"loja\": \"Kabum\" \n",
    "    }\n",
    "    produtos.append(produto)\n"
   ]
  },
  {
   "source": [
    "### Transformando o dict em Dataframe e visualizando uma amostra dos dados"
   ],
   "cell_type": "markdown",
   "metadata": {}
  },
  {
   "cell_type": "code",
   "execution_count": 7,
   "metadata": {},
   "outputs": [
    {
     "output_type": "execute_result",
     "data": {
      "text/plain": "        marca                                       nome_produto  \\\n83       Asus  Placa de Vídeo Asus NVIDIA Dual GeForce RTX 20...   \n174     Zotac  Placa de Vídeo Zotac Gaming NVIDIA GeForce GTX...   \n12      Zotac  Placa de Vídeo Zotac NVIDIA GeForce GT 710 2GB...   \n380       MSI  Placa de Vídeo MSI NVIDIA GeForce RTX 2070 Sup...   \n14       Evga  Placa de Vídeo EVGA NVIDIA GeForce RTX 2060 KO...   \n93   Gigabyte  Placa de Vídeo Gigabyte NVIDIA GeForce GTX 165...   \n66       Evga  Placa de Vídeo EVGA NVIDIA GeForce RTX 2080 Su...   \n341     Galax  Placa de Vídeo Galax NVIDIA GeForce RTX 2080 T...   \n316       MSI  Placa de Vídeo MSI NVIDIA GeForce GTX 1050 Aer...   \n179     Galax  Placa de Vídeo Galax NVIDIA GeForce GTX 1660 S...   \n\n    preco_antigo_cartao preco_atual_cartao preco_boleto disponibilidade  \\\n83             5.882,24           5.411,65     4.599,90      Disponivel   \n174                   0           1.529,29     1.299,90      Disponivel   \n12               411,47             378,84       359,90      Disponivel   \n380            5.411,65           4.235,18     3.599,90    Indisponivel   \n14                    0           2.823,41     2.399,90      Disponivel   \n93             1.949,89           1.882,24     1.599,90      Disponivel   \n66             5.961,06           5.058,71     4.299,90      Disponivel   \n341           11.114,00           9.411,65     7.999,90    Indisponivel   \n316                   0             752,82       639,90    Indisponivel   \n179            2.599,88           2.352,82     1.999,90      Disponivel   \n\n           data      hora   loja  \n83   2020-09-17  19:23:41  Kabum  \n174  2020-09-17  19:23:41  Kabum  \n12   2020-09-17  19:23:41  Kabum  \n380  2020-09-17  19:23:41  Kabum  \n14   2020-09-17  19:23:41  Kabum  \n93   2020-09-17  19:23:41  Kabum  \n66   2020-09-17  19:23:41  Kabum  \n341  2020-09-17  19:23:41  Kabum  \n316  2020-09-17  19:23:41  Kabum  \n179  2020-09-17  19:23:41  Kabum  ",
      "text/html": "<div>\n<style scoped>\n    .dataframe tbody tr th:only-of-type {\n        vertical-align: middle;\n    }\n\n    .dataframe tbody tr th {\n        vertical-align: top;\n    }\n\n    .dataframe thead th {\n        text-align: right;\n    }\n</style>\n<table border=\"1\" class=\"dataframe\">\n  <thead>\n    <tr style=\"text-align: right;\">\n      <th></th>\n      <th>marca</th>\n      <th>nome_produto</th>\n      <th>preco_antigo_cartao</th>\n      <th>preco_atual_cartao</th>\n      <th>preco_boleto</th>\n      <th>disponibilidade</th>\n      <th>data</th>\n      <th>hora</th>\n      <th>loja</th>\n    </tr>\n  </thead>\n  <tbody>\n    <tr>\n      <th>83</th>\n      <td>Asus</td>\n      <td>Placa de Vídeo Asus NVIDIA Dual GeForce RTX 20...</td>\n      <td>5.882,24</td>\n      <td>5.411,65</td>\n      <td>4.599,90</td>\n      <td>Disponivel</td>\n      <td>2020-09-17</td>\n      <td>19:23:41</td>\n      <td>Kabum</td>\n    </tr>\n    <tr>\n      <th>174</th>\n      <td>Zotac</td>\n      <td>Placa de Vídeo Zotac Gaming NVIDIA GeForce GTX...</td>\n      <td>0</td>\n      <td>1.529,29</td>\n      <td>1.299,90</td>\n      <td>Disponivel</td>\n      <td>2020-09-17</td>\n      <td>19:23:41</td>\n      <td>Kabum</td>\n    </tr>\n    <tr>\n      <th>12</th>\n      <td>Zotac</td>\n      <td>Placa de Vídeo Zotac NVIDIA GeForce GT 710 2GB...</td>\n      <td>411,47</td>\n      <td>378,84</td>\n      <td>359,90</td>\n      <td>Disponivel</td>\n      <td>2020-09-17</td>\n      <td>19:23:41</td>\n      <td>Kabum</td>\n    </tr>\n    <tr>\n      <th>380</th>\n      <td>MSI</td>\n      <td>Placa de Vídeo MSI NVIDIA GeForce RTX 2070 Sup...</td>\n      <td>5.411,65</td>\n      <td>4.235,18</td>\n      <td>3.599,90</td>\n      <td>Indisponivel</td>\n      <td>2020-09-17</td>\n      <td>19:23:41</td>\n      <td>Kabum</td>\n    </tr>\n    <tr>\n      <th>14</th>\n      <td>Evga</td>\n      <td>Placa de Vídeo EVGA NVIDIA GeForce RTX 2060 KO...</td>\n      <td>0</td>\n      <td>2.823,41</td>\n      <td>2.399,90</td>\n      <td>Disponivel</td>\n      <td>2020-09-17</td>\n      <td>19:23:41</td>\n      <td>Kabum</td>\n    </tr>\n    <tr>\n      <th>93</th>\n      <td>Gigabyte</td>\n      <td>Placa de Vídeo Gigabyte NVIDIA GeForce GTX 165...</td>\n      <td>1.949,89</td>\n      <td>1.882,24</td>\n      <td>1.599,90</td>\n      <td>Disponivel</td>\n      <td>2020-09-17</td>\n      <td>19:23:41</td>\n      <td>Kabum</td>\n    </tr>\n    <tr>\n      <th>66</th>\n      <td>Evga</td>\n      <td>Placa de Vídeo EVGA NVIDIA GeForce RTX 2080 Su...</td>\n      <td>5.961,06</td>\n      <td>5.058,71</td>\n      <td>4.299,90</td>\n      <td>Disponivel</td>\n      <td>2020-09-17</td>\n      <td>19:23:41</td>\n      <td>Kabum</td>\n    </tr>\n    <tr>\n      <th>341</th>\n      <td>Galax</td>\n      <td>Placa de Vídeo Galax NVIDIA GeForce RTX 2080 T...</td>\n      <td>11.114,00</td>\n      <td>9.411,65</td>\n      <td>7.999,90</td>\n      <td>Indisponivel</td>\n      <td>2020-09-17</td>\n      <td>19:23:41</td>\n      <td>Kabum</td>\n    </tr>\n    <tr>\n      <th>316</th>\n      <td>MSI</td>\n      <td>Placa de Vídeo MSI NVIDIA GeForce GTX 1050 Aer...</td>\n      <td>0</td>\n      <td>752,82</td>\n      <td>639,90</td>\n      <td>Indisponivel</td>\n      <td>2020-09-17</td>\n      <td>19:23:41</td>\n      <td>Kabum</td>\n    </tr>\n    <tr>\n      <th>179</th>\n      <td>Galax</td>\n      <td>Placa de Vídeo Galax NVIDIA GeForce GTX 1660 S...</td>\n      <td>2.599,88</td>\n      <td>2.352,82</td>\n      <td>1.999,90</td>\n      <td>Disponivel</td>\n      <td>2020-09-17</td>\n      <td>19:23:41</td>\n      <td>Kabum</td>\n    </tr>\n  </tbody>\n</table>\n</div>"
     },
     "metadata": {},
     "execution_count": 7
    }
   ],
   "source": [
    "df = pd.DataFrame(produtos)\n",
    "df.sample(10)"
   ]
  },
  {
   "source": [
    "\n",
    "### Criando a conexão com o banco e salvando os dados"
   ],
   "cell_type": "markdown",
   "metadata": {}
  },
  {
   "cell_type": "code",
   "execution_count": 8,
   "metadata": {},
   "outputs": [],
   "source": [
    "engine = alchemy_connection('db_hardware')\n",
    "df.to_sql('graphic_card', con=engine, if_exists='append', index = False)"
   ]
  },
  {
   "source": [
    "----------------------------------------------------------------------------------------------------"
   ],
   "cell_type": "markdown",
   "metadata": {}
  },
  {
   "cell_type": "code",
   "execution_count": 19,
   "metadata": {},
   "outputs": [],
   "source": [
    "import datetime\n",
    "import sys\n",
    "from concurrent.futures import ThreadPoolExecutor, wait\n",
    "from time import sleep, time"
   ]
  },
  {
   "cell_type": "code",
   "execution_count": null,
   "metadata": {},
   "outputs": [],
   "source": [
    "from scrapers.scraper import connect_to_base, get_driver, parse_html, write_to_file\n",
    "\n",
    "\n",
    "def run_process(page_number, filename, headless):\n",
    "\n",
    "    # init browser\n",
    "    browser = get_driver(headless)\n",
    "\n",
    "    if connect_to_base(browser, page_number):\n",
    "        sleep(2)\n",
    "        html = browser.page_source\n",
    "        output_list = parse_html(html)\n",
    "        write_to_file(output_list, filename)\n",
    "\n",
    "        # exit\n",
    "        browser.quit()\n",
    "    else:\n",
    "        print(\"Error connecting to hacker news\")\n",
    "        browser.quit()\n",
    "\n",
    "\n",
    "if __name__ == \"__main__\":\n",
    "\n",
    "    # headless mode?\n",
    "    headless = False\n",
    "    if len(sys.argv) > 1:\n",
    "        if sys.argv[1] == \"headless\":\n",
    "            print(\"Running in headless mode\")\n",
    "            headless = True\n",
    "\n",
    "    # set variables\n",
    "    start_time = time()\n",
    "    output_timestamp = datetime.datetime.now().strftime(\"%Y%m%d%H%M%S\")\n",
    "    output_filename = f\"output_{output_timestamp}.csv\"\n",
    "    futures = []\n",
    "\n",
    "    # scrape and crawl\n",
    "    with ThreadPoolExecutor() as executor:\n",
    "        for number in range(1, 21):\n",
    "            futures.append(\n",
    "                executor.submit(run_process, number, output_filename, headless)\n",
    "            )\n",
    "\n",
    "    wait(futures)\n",
    "    end_time = time()\n",
    "    elapsed_time = end_time - start_time\n",
    "    print(f\"Elapsed run time: {elapsed_time} seconds\")"
   ]
  },
  {
   "cell_type": "code",
   "execution_count": 9,
   "metadata": {},
   "outputs": [],
   "source": [
    "browser2 = webdriver.Chrome(executable_path=r'chromedriver.exe', options=options)\n",
    "#--| Parse or automation\n",
    "browser2.get('https://www.pichau.com.br/hardware/placa-de-video?p=1')\n",
    "web = soup(browser2.page_source, 'html.parser')"
   ]
  },
  {
   "cell_type": "code",
   "execution_count": 10,
   "metadata": {
    "tags": []
   },
   "outputs": [],
   "source": [
    "pagina = 0\n",
    "html_produtos = []\n",
    "flag = 0\n",
    "\n",
    "while pagina != 5:\n",
    "    items = web.findAll('div', {\"class\":\"product-item-info\"})\n",
    "    if items != [] | item:\n",
    "        try:\n",
    "            pagina = pagina + 1\n",
    "            browser.get(f'https://www.pichau.com.br/hardware/placa-de-video?p={pagina}')\n",
    "            web = soup(browser.page_source, 'html.parser')\n",
    "        except Exception: break\n",
    "        html_produtos.append(items)\n",
    "    else:\n",
    "        break"
   ]
  },
  {
   "cell_type": "code",
   "execution_count": 11,
   "metadata": {},
   "outputs": [],
   "source": [
    "flat_list = []\n",
    "for sublist in html_produtos:\n",
    "    for item in sublist:\n",
    "        flat_list.append(item)"
   ]
  },
  {
   "cell_type": "code",
   "execution_count": 12,
   "metadata": {},
   "outputs": [
    {
     "output_type": "error",
     "ename": "IndexError",
     "evalue": "list index out of range",
     "traceback": [
      "\u001b[1;31m---------------------------------------------------------------------------\u001b[0m",
      "\u001b[1;31mIndexError\u001b[0m                                Traceback (most recent call last)",
      "\u001b[1;32m<ipython-input-12-529e3236f542>\u001b[0m in \u001b[0;36m<module>\u001b[1;34m\u001b[0m\n\u001b[1;32m----> 1\u001b[1;33m \u001b[0mitems\u001b[0m\u001b[1;33m[\u001b[0m\u001b[1;36m15\u001b[0m\u001b[1;33m]\u001b[0m\u001b[1;33m.\u001b[0m\u001b[0mdiv\u001b[0m\u001b[1;33m\u001b[0m\u001b[1;33m\u001b[0m\u001b[0m\n\u001b[0m",
      "\u001b[1;31mIndexError\u001b[0m: list index out of range"
     ]
    }
   ],
   "source": [
    "items[15].div"
   ]
  },
  {
   "cell_type": "code",
   "execution_count": 13,
   "metadata": {},
   "outputs": [],
   "source": [
    "# now = datetime.now()\n",
    "# produtos = []\n",
    "\n",
    "# for container in flat_list:\n",
    "    \n",
    "#     # Estreutura de para salvar\n",
    "#     marca = container.div.img['alt']\n",
    "#     nome_produto = container.find('a', {\"class\":\"sc-fzoLsD gnrNhT item-nome\"}).text\n",
    "\n",
    "#     if container.find('div', {\"class\":\"sc-fzpjYC hKlXgM\"}) != None:\n",
    "#         preco_antigo_cartao = (container.find('div', {\"class\":\"sc-fzpjYC hKlXgM\"}).text).split(\" \")[2]\n",
    "#     else: \n",
    "#         preco_antigo_cartao = '0'\n",
    "#     preco_atual_cartao =  (container.find('div', {\"class\":\"sc-fznxsB ksiZrQ\"}).text).split(\" \")[1]\n",
    "#     preco_boleto = (container.find('div', {\"class\":\"sc-fznWqX qatGF\"}).text).split(\" \")[1]\n",
    "    \n",
    "#     image = container.find('div', {\"class\":\"sc-fznKkj fEpBwY\"})\n",
    "#     if \"indisponivel\" in image.img['src']:\n",
    "#         disponibilidade = 'Indisponivel'\n",
    "#     elif \"disponivel\" in image.img['src']:\n",
    "#         disponibilidade = 'Disponivel'\n",
    "\n",
    "#     produto = {\n",
    "#         \"marca\" : marca,\n",
    "#         \"nome_produto\": nome_produto,\n",
    "#         \"preco_antigo_cartao\": preco_antigo_cartao,\n",
    "#         \"preco_atual_cartao\": preco_atual_cartao,\n",
    "#         \"preco_boleto\": preco_boleto,\n",
    "#         \"disponibilidade\": disponibilidade,\n",
    "#         \"data\" : now.strftime(\"%Y-%m-%d\"),\n",
    "#         \"hora\":  now.strftime(\"%H:%M:%S\"),\n",
    "#         \"loja\": \"Kabum\" \n",
    "#     }\n",
    "#     produtos.append(produto)"
   ]
  },
  {
   "cell_type": "code",
   "execution_count": 14,
   "metadata": {
    "tags": []
   },
   "outputs": [],
   "source": [
    "# containers = html.findAll('div', {\"class\":\"sc-fzqNqU jmuOAh\"})\n",
    "# https://www.kabum.com.br/cgi-local/site/listagem/listagem.cgi?string=processador&btnG=&pagina=1&ordem=5&limite=30&prime=false&marcas=[%225%22,%226%22]&tipo_produto=[]&filtro=[]"
   ]
  },
  {
   "cell_type": "code",
   "execution_count": 15,
   "metadata": {
    "tags": []
   },
   "outputs": [],
   "source": [
    "# images = html.findAll('div', {\"class\":\"sc-fznKkj fEpBwY\"})\n",
    "\n",
    "# # images.img['src']\n",
    "# for image in images:\n",
    "#     print(image.img['src'])\n",
    "#     # if \"indisponivel\" in image.img['src']:\n",
    "#     #     print('Indisponivel')\n",
    "#     # elif \"disponivel\" in image.img['src']:\n",
    "#     #     print('Disponivel')"
   ]
  },
  {
   "cell_type": "code",
   "execution_count": 16,
   "metadata": {},
   "outputs": [],
   "source": [
    "# preco_antigo_cartao = float((container.find('div', {\"class\":\"sc-fzpjYC hKlXgM\"}).text).split(\" \")[2].replace('.', '').replace(',', '.'))\n",
    "# preco_atual_cartao =  float((container.find('div', {\"class\":\"sc-fznxsB ksiZrQ\"}).text).split(\" \")[1].replace('.', '').replace(',', '.'))\n",
    "# preco_boleto = float((container.find('div', {\"class\":\"sc-fznWqX qatGF\"}).text).split(\" \")[1].replace('.', '').replace(',', '.'))\n"
   ]
  },
  {
   "cell_type": "code",
   "execution_count": 17,
   "metadata": {
    "tags": []
   },
   "outputs": [],
   "source": [
    "# print(preco_antigo_cartao)\n",
    "# # print(re.search('^(([1-9]\\d{0,2}(\\.\\d{3})*)|(([1-9]\\.\\d*)?\\d))(\\,\\d\\d)?', preco_atual_cartao).group())\n",
    "# print(preco_atual_cartao)\n",
    "# print(preco_boleto)"
   ]
  }
 ]
}