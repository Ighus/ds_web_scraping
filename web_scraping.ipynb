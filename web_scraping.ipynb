{
 "metadata": {
  "language_info": {
   "codemirror_mode": {
    "name": "ipython",
    "version": 3
   },
   "file_extension": ".py",
   "mimetype": "text/x-python",
   "name": "python",
   "nbconvert_exporter": "python",
   "pygments_lexer": "ipython3",
   "version": "3.8.6-final"
  },
  "orig_nbformat": 2,
  "kernelspec": {
   "name": "python3",
   "display_name": "Python 3.8.6 64-bit",
   "metadata": {
    "interpreter": {
     "hash": "4d9029a4f2836547af4afe6e45b9a0d1b0732faf89c5b43e61cf2047755b06d5"
    }
   }
  }
 },
 "nbformat": 4,
 "nbformat_minor": 2,
 "cells": [
  {
   "cell_type": "code",
   "execution_count": 1,
   "metadata": {},
   "outputs": [],
   "source": [
    "import requests\n",
    "from bs4 import BeautifulSoup as soup\n",
    "from selenium import webdriver\n",
    "from selenium.webdriver.chrome.options import Options\n",
    "from selenium.webdriver.common.keys import Keys\n",
    "from webdriver_manager.chrome import ChromeDriverManager\n",
    "import re\n",
    "from datetime import datetime\n",
    "import pandas as pd\n",
    "from connection_keys import connection, alchemy_connection"
   ]
  },
  {
   "source": [
    "### Configurando a engine do banco"
   ],
   "cell_type": "markdown",
   "metadata": {}
  },
  {
   "cell_type": "code",
   "execution_count": 2,
   "metadata": {},
   "outputs": [],
   "source": [
    "engine = alchemy_connection('db_hardware')"
   ]
  },
  {
   "source": [
    "### Setup para abrir o navegador com o Selenium e puxar a primeira página"
   ],
   "cell_type": "markdown",
   "metadata": {}
  },
  {
   "cell_type": "code",
   "execution_count": 3,
   "metadata": {},
   "outputs": [
    {
     "output_type": "stream",
     "name": "stderr",
     "text": [
      "[WDM] - Current google-chrome version is 87.0.4280\n",
      "[WDM] - Get LATEST driver version for 87.0.4280\n",
      " \n",
      "[WDM] - Get LATEST driver version for 87.0.4280\n",
      "[WDM] - Trying to download new driver from http://chromedriver.storage.googleapis.com/87.0.4280.88/chromedriver_win32.zip\n",
      "[WDM] - Driver has been saved in cache [C:\\Users\\igorS\\.wdm\\drivers\\chromedriver\\win32\\87.0.4280.88]\n"
     ]
    }
   ],
   "source": [
    "#--| Setup\n",
    "options = Options()\n",
    "options.add_argument('--ignore-certificate-errors')\n",
    "options.add_argument('--incognito')\n",
    "options.add_argument('--headless')\n",
    "options.add_argument('--disable-extensions')\n",
    "browser = webdriver.Chrome(ChromeDriverManager().install(), options=options)"
   ]
  },
  {
   "cell_type": "code",
   "execution_count": 4,
   "metadata": {},
   "outputs": [],
   "source": [
    "\n",
    "# --| Parse or automation\n",
    "browser.get('https://www.kabum.com.br/hardware/placa-de-video-vga?pagina=1')\n",
    "html = soup(browser.page_source, 'html.parser')\n",
    "# browser.implicitly_wait(5)"
   ]
  },
  {
   "source": [
    "### Configuiração para percorer as páginas e salvar todos dados com a taga referente ao produto em uma lista"
   ],
   "cell_type": "markdown",
   "metadata": {}
  },
  {
   "cell_type": "code",
   "execution_count": 5,
   "metadata": {
    "tags": []
   },
   "outputs": [],
   "source": [
    "pagina = 0\n",
    "html_produtos = []\n",
    "flag = 0\n",
    "\n",
    "while flag == 0:\n",
    "    items = html.findAll('div', {\"class\":\"sc-fzqNqU jmuOAh\"})\n",
    "    if items != []:\n",
    "        try:\n",
    "            pagina = pagina + 1\n",
    "            browser.get(f'https://www.kabum.com.br/hardware/placa-de-video-vga?pagina={pagina}')\n",
    "            html = soup(browser.page_source, 'html.parser')\n",
    "            browser.implicitly_wait(5)\n",
    "        except Exception: break\n",
    "        html_produtos.append(items)\n",
    "    else:\n",
    "        break"
   ]
  },
  {
   "source": [
    "### Tranformação da lista de listas em uma lista normal para percorer com mais facildiade os atributos do produto"
   ],
   "cell_type": "markdown",
   "metadata": {}
  },
  {
   "cell_type": "code",
   "execution_count": 6,
   "metadata": {},
   "outputs": [],
   "source": [
    "flat_list = []\n",
    "for sublist in html_produtos:\n",
    "    for item in sublist:\n",
    "        flat_list.append(item)"
   ]
  },
  {
   "source": [
    "### Percorrendo a lista, capurando e salvando cada atributo no dicionario"
   ],
   "cell_type": "markdown",
   "metadata": {}
  },
  {
   "cell_type": "code",
   "execution_count": 7,
   "metadata": {
    "tags": []
   },
   "outputs": [],
   "source": [
    "now = datetime.now()\n",
    "produtos = []\n",
    "\n",
    "for container in flat_list:\n",
    "    \n",
    "    # Estreutura de para salvar\n",
    "    marca = container.div.img['alt']\n",
    "    nome_produto = container.find('a', {\"class\":\"sc-fzoLsD gnrNhT item-nome\"}).text\n",
    "\n",
    "    if container.find('div', {\"class\":\"sc-fzpjYC hKlXgM\"}) != None:\n",
    "        preco_antigo_cartao = (container.find('div', {\"class\":\"sc-fzpjYC hKlXgM\"}).text).split(\" \")[2]\n",
    "    else: \n",
    "        preco_antigo_cartao = '0'\n",
    "    preco_atual_cartao =  (container.find('div', {\"class\":\"sc-fznxsB ksiZrQ\"}).text).split(\" \")[1]\n",
    "    preco_boleto = (container.find('div', {\"class\":\"sc-fznWqX qatGF\"}).text).split(\" \")[1]\n",
    "    \n",
    "    image = container.find('div', {\"class\":\"sc-fznKkj fEpBwY\"})\n",
    "    if \"indisponivel\" in image.img['src']:\n",
    "        disponibilidade = 'Indisponivel'\n",
    "    elif \"disponivel\" in image.img['src']:\n",
    "        disponibilidade = 'Disponivel'\n",
    "\n",
    "    produto = {\n",
    "        \"marca\" : marca,\n",
    "        \"nome_produto\": nome_produto,\n",
    "        \"preco_antigo_cartao\": preco_antigo_cartao,\n",
    "        \"preco_atual_cartao\": preco_atual_cartao,\n",
    "        \"preco_boleto\": preco_boleto,\n",
    "        \"disponibilidade\": disponibilidade,\n",
    "        \"data\" : now.strftime(\"%Y-%m-%d\"),\n",
    "        \"hora\":  now.strftime(\"%H:%M:%S\"),\n",
    "        \"loja\": \"Kabum\" \n",
    "    }\n",
    "    produtos.append(produto)\n"
   ]
  },
  {
   "source": [
    "### Transformando o dict em Dataframe e visualizando uma amostra dos dados"
   ],
   "cell_type": "markdown",
   "metadata": {}
  },
  {
   "cell_type": "code",
   "execution_count": 8,
   "metadata": {},
   "outputs": [
    {
     "output_type": "execute_result",
     "data": {
      "text/plain": [
       "        marca                                       nome_produto  \\\n",
       "0    Gigabyte  Placa de Vídeo Gigabyte NVIDIA GeForce GTX 165...   \n",
       "1       Galax  Placa de Vídeo Galax NVIDIA GeForce RTX 2070 S...   \n",
       "2    Sapphire  Placa de Vídeo Sapphire AMD Radeon RX 550 Puls...   \n",
       "3    Gigabyte  Placa de Vídeo Gigabyte AMD Radeon RX 5600 XT ...   \n",
       "4        Asus  Placa de Vídeo Asus TUF3 NVIDIA GeForce GTX 16...   \n",
       "..        ...                                                ...   \n",
       "448       MSI      Placa de Vídeo MSI Radeon RX 6800, 16G, GDDR6   \n",
       "449  Gainward  Placa de Vídeo Gainward NVIDIA GeForce GTX 166...   \n",
       "450      Asus  Placa de Vídeo Asus GeForce RTX 3060 Ti, 8GB -...   \n",
       "451       MSI  Placa de Vídeo MSI GeForce RTX 3060 Ti GAMING ...   \n",
       "452      Evga  Placa de Vídeo EVGA NVIDIA GeForce RTX 3060 Ti...   \n",
       "\n",
       "    preco_antigo_cartao preco_atual_cartao preco_boleto disponibilidade  \\\n",
       "0                     0           1.529,29     1.299,90      Disponivel   \n",
       "1                     0           4.941,06     4.199,90      Disponivel   \n",
       "2                     0             941,06       799,90      Disponivel   \n",
       "3                     0           3.058,71     2.599,90      Disponivel   \n",
       "4                     0           2.588,12     2.199,90      Disponivel   \n",
       "..                  ...                ...          ...             ...   \n",
       "448            6.235,18           5.882,24     4.999,90    Indisponivel   \n",
       "449            2.352,82           2.235,18     1.899,90    Indisponivel   \n",
       "450                   0           5.882,24     4.999,90    Indisponivel   \n",
       "451            5.514,00           4.658,71     3.959,90    Indisponivel   \n",
       "452            5.596,35           4.470,47     3.799,90    Indisponivel   \n",
       "\n",
       "           data      hora   loja  \n",
       "0    2020-12-15  20:23:36  Kabum  \n",
       "1    2020-12-15  20:23:36  Kabum  \n",
       "2    2020-12-15  20:23:36  Kabum  \n",
       "3    2020-12-15  20:23:36  Kabum  \n",
       "4    2020-12-15  20:23:36  Kabum  \n",
       "..          ...       ...    ...  \n",
       "448  2020-12-15  20:23:36  Kabum  \n",
       "449  2020-12-15  20:23:36  Kabum  \n",
       "450  2020-12-15  20:23:36  Kabum  \n",
       "451  2020-12-15  20:23:36  Kabum  \n",
       "452  2020-12-15  20:23:36  Kabum  \n",
       "\n",
       "[453 rows x 9 columns]"
      ],
      "text/html": "<div>\n<style scoped>\n    .dataframe tbody tr th:only-of-type {\n        vertical-align: middle;\n    }\n\n    .dataframe tbody tr th {\n        vertical-align: top;\n    }\n\n    .dataframe thead th {\n        text-align: right;\n    }\n</style>\n<table border=\"1\" class=\"dataframe\">\n  <thead>\n    <tr style=\"text-align: right;\">\n      <th></th>\n      <th>marca</th>\n      <th>nome_produto</th>\n      <th>preco_antigo_cartao</th>\n      <th>preco_atual_cartao</th>\n      <th>preco_boleto</th>\n      <th>disponibilidade</th>\n      <th>data</th>\n      <th>hora</th>\n      <th>loja</th>\n    </tr>\n  </thead>\n  <tbody>\n    <tr>\n      <th>0</th>\n      <td>Gigabyte</td>\n      <td>Placa de Vídeo Gigabyte NVIDIA GeForce GTX 165...</td>\n      <td>0</td>\n      <td>1.529,29</td>\n      <td>1.299,90</td>\n      <td>Disponivel</td>\n      <td>2020-12-15</td>\n      <td>20:23:36</td>\n      <td>Kabum</td>\n    </tr>\n    <tr>\n      <th>1</th>\n      <td>Galax</td>\n      <td>Placa de Vídeo Galax NVIDIA GeForce RTX 2070 S...</td>\n      <td>0</td>\n      <td>4.941,06</td>\n      <td>4.199,90</td>\n      <td>Disponivel</td>\n      <td>2020-12-15</td>\n      <td>20:23:36</td>\n      <td>Kabum</td>\n    </tr>\n    <tr>\n      <th>2</th>\n      <td>Sapphire</td>\n      <td>Placa de Vídeo Sapphire AMD Radeon RX 550 Puls...</td>\n      <td>0</td>\n      <td>941,06</td>\n      <td>799,90</td>\n      <td>Disponivel</td>\n      <td>2020-12-15</td>\n      <td>20:23:36</td>\n      <td>Kabum</td>\n    </tr>\n    <tr>\n      <th>3</th>\n      <td>Gigabyte</td>\n      <td>Placa de Vídeo Gigabyte AMD Radeon RX 5600 XT ...</td>\n      <td>0</td>\n      <td>3.058,71</td>\n      <td>2.599,90</td>\n      <td>Disponivel</td>\n      <td>2020-12-15</td>\n      <td>20:23:36</td>\n      <td>Kabum</td>\n    </tr>\n    <tr>\n      <th>4</th>\n      <td>Asus</td>\n      <td>Placa de Vídeo Asus TUF3 NVIDIA GeForce GTX 16...</td>\n      <td>0</td>\n      <td>2.588,12</td>\n      <td>2.199,90</td>\n      <td>Disponivel</td>\n      <td>2020-12-15</td>\n      <td>20:23:36</td>\n      <td>Kabum</td>\n    </tr>\n    <tr>\n      <th>...</th>\n      <td>...</td>\n      <td>...</td>\n      <td>...</td>\n      <td>...</td>\n      <td>...</td>\n      <td>...</td>\n      <td>...</td>\n      <td>...</td>\n      <td>...</td>\n    </tr>\n    <tr>\n      <th>448</th>\n      <td>MSI</td>\n      <td>Placa de Vídeo MSI Radeon RX 6800, 16G, GDDR6</td>\n      <td>6.235,18</td>\n      <td>5.882,24</td>\n      <td>4.999,90</td>\n      <td>Indisponivel</td>\n      <td>2020-12-15</td>\n      <td>20:23:36</td>\n      <td>Kabum</td>\n    </tr>\n    <tr>\n      <th>449</th>\n      <td>Gainward</td>\n      <td>Placa de Vídeo Gainward NVIDIA GeForce GTX 166...</td>\n      <td>2.352,82</td>\n      <td>2.235,18</td>\n      <td>1.899,90</td>\n      <td>Indisponivel</td>\n      <td>2020-12-15</td>\n      <td>20:23:36</td>\n      <td>Kabum</td>\n    </tr>\n    <tr>\n      <th>450</th>\n      <td>Asus</td>\n      <td>Placa de Vídeo Asus GeForce RTX 3060 Ti, 8GB -...</td>\n      <td>0</td>\n      <td>5.882,24</td>\n      <td>4.999,90</td>\n      <td>Indisponivel</td>\n      <td>2020-12-15</td>\n      <td>20:23:36</td>\n      <td>Kabum</td>\n    </tr>\n    <tr>\n      <th>451</th>\n      <td>MSI</td>\n      <td>Placa de Vídeo MSI GeForce RTX 3060 Ti GAMING ...</td>\n      <td>5.514,00</td>\n      <td>4.658,71</td>\n      <td>3.959,90</td>\n      <td>Indisponivel</td>\n      <td>2020-12-15</td>\n      <td>20:23:36</td>\n      <td>Kabum</td>\n    </tr>\n    <tr>\n      <th>452</th>\n      <td>Evga</td>\n      <td>Placa de Vídeo EVGA NVIDIA GeForce RTX 3060 Ti...</td>\n      <td>5.596,35</td>\n      <td>4.470,47</td>\n      <td>3.799,90</td>\n      <td>Indisponivel</td>\n      <td>2020-12-15</td>\n      <td>20:23:36</td>\n      <td>Kabum</td>\n    </tr>\n  </tbody>\n</table>\n<p>453 rows × 9 columns</p>\n</div>"
     },
     "metadata": {},
     "execution_count": 8
    }
   ],
   "source": [
    "df = pd.DataFrame(produtos)\n",
    "df"
   ]
  },
  {
   "source": [
    "\n",
    "### Criando a conexão com o banco e salvando os dados"
   ],
   "cell_type": "markdown",
   "metadata": {}
  },
  {
   "cell_type": "code",
   "execution_count": 21,
   "metadata": {},
   "outputs": [],
   "source": [
    "df.to_sql('graphic_card', con=engine, if_exists='append', index = False)"
   ]
  },
  {
   "source": [
    "----------------------------------------------------------------------------------------------------"
   ],
   "cell_type": "markdown",
   "metadata": {}
  },
  {
   "source": [
    "(fora de uso devido a mudança nas politicas do site)"
   ],
   "cell_type": "markdown",
   "metadata": {}
  },
  {
   "cell_type": "code",
   "execution_count": 10,
   "metadata": {},
   "outputs": [],
   "source": [
    "# #--| Parse or automation\n",
    "# browser.get('https://www.pichau.com.br/hardware/placa-de-video?p=1')\n",
    "# web = soup(browser.page_source, 'html.parser')\n",
    "# browser.implicitly_wait(20)"
   ]
  },
  {
   "cell_type": "code",
   "execution_count": 11,
   "metadata": {
    "tags": []
   },
   "outputs": [],
   "source": [
    "# pagina = 0\n",
    "# html_produtos = []\n",
    "# flag = 0\n",
    "\n",
    "# while pagina != 9:\n",
    "#     items = web.findAll('div', {\"class\":\"product-item-info\"})\n",
    "#     if items != []:\n",
    "#         try:\n",
    "#             pagina = pagina + 1\n",
    "#             browser.get(f'https://www.pichau.com.br/hardware/placa-de-video?p={pagina}')\n",
    "#             web = soup(browser.page_source, 'html.parser')\n",
    "#         except Exception: break\n",
    "#         html_produtos.append(items)\n",
    "#     else:\n",
    "#         break"
   ]
  },
  {
   "cell_type": "code",
   "execution_count": 12,
   "metadata": {},
   "outputs": [],
   "source": [
    "# flat_list = []\n",
    "# for sublist in html_produtos:\n",
    "#     for item in sublist:\n",
    "#         flat_list.append(item)"
   ]
  },
  {
   "cell_type": "code",
   "execution_count": 13,
   "metadata": {},
   "outputs": [],
   "source": [
    "# def extract_brand(name):\n",
    "#     if 'AFOX' in name.upper():\n",
    "#         return 'AFOX'\n",
    "#     elif 'AMD' in name.upper():\n",
    "#         return 'AMD'\n",
    "#     elif 'ASROCK' in name.upper():\n",
    "#         return 'ASRock'\n",
    "#     elif 'ASUS' in name.upper():\n",
    "#         return 'Asus'\n",
    "#     elif 'EVGA' in name.upper():\n",
    "#         return 'EVGA'\n",
    "#     elif 'GALAX' in name.upper():\n",
    "#         return 'Galax'\n",
    "#     elif 'GAINWARD' in name.upper():\n",
    "#         return 'Gainward'\n",
    "#     elif 'GIGABYTE' in name.upper():\n",
    "#         return 'Gigabyte'\n",
    "#     elif 'MSI' in name.upper():\n",
    "#         return 'MSI'\n",
    "#     elif 'PCYES!' in name.upper():\n",
    "#         return 'PCYES'\n",
    "#     elif 'PNY' in name.upper():\n",
    "#         return 'PNY'\n",
    "#     elif 'POWERCOLOR' in name.upper():\n",
    "#         return 'PowerColor'\n",
    "#     elif 'SAPPHIRE' in name.upper():\n",
    "#         return 'Sapphire'\n",
    "#     elif 'XFX' in name.upper():\n",
    "#         return 'XFX'\n",
    "#     elif 'ZOGIS' in name.upper():\n",
    "#         return 'ZOGIS'\n",
    "#     elif 'ZOTAC' in name.upper():\n",
    "#         return 'Zotac'\n",
    "#     else:\n",
    "#         return ''\n",
    "\n",
    "# now = datetime.now()\n",
    "# produtos_pichau = []\n",
    "\n",
    "# for container in flat_list:\n",
    "#     if container.find('span', {\"class\":\"price\"}) != None:\n",
    "#         # Estreutura de para salvar\n",
    "#         marca = extract_brand(container.find('a', {\"class\":\"product-item-link\"}).text)\n",
    "#         nome_produto = container.find('a', {\"class\":\"product-item-link\"}).text\n",
    "\n",
    "#         preco_atual_cartao =  (container.find('span', {\"class\":\"price\"}).text)\n",
    "#         preco_boleto = (container.find('span', {\"class\":\"price-boleto\"}).text).split(\" \")[2]\n",
    "        \n",
    "#         disponibilidade = 'Disponivel'\n",
    "\n",
    "#         produto = {\n",
    "#             \"marca\" : marca,\n",
    "#             \"nome_produto\": nome_produto,\n",
    "#             \"preco_antigo_cartao\": '0',\n",
    "#             \"preco_atual_cartao\": preco_atual_cartao,\n",
    "#             \"preco_boleto\": preco_boleto,\n",
    "#             \"disponibilidade\": disponibilidade,\n",
    "#             \"data\" : now.strftime(\"%Y-%m-%d\"),\n",
    "#             \"hora\":  now.strftime(\"%H:%M:%S\"),\n",
    "#             \"loja\": \"Pichau\" \n",
    "#         }\n",
    "#         produtos_pichau.append(produto)"
   ]
  },
  {
   "cell_type": "code",
   "execution_count": 14,
   "metadata": {},
   "outputs": [],
   "source": [
    "# df_pichau = pd.DataFrame(produtos_pichau)\n",
    "# df_pichau['preco_atual_cartao'] = df_pichau['preco_atual_cartao'].replace({'R\\$':''}, regex = True)\n",
    "# df_pichau['preco_boleto'] = df_pichau['preco_boleto'].replace({'R\\$':''}, regex = True)\n",
    "# df_pichau['nome_produto'] = df_pichau['nome_produto'].replace({'\\n':''}, regex = True)\n",
    "# df_pichau.sample(10)"
   ]
  },
  {
   "cell_type": "code",
   "execution_count": 15,
   "metadata": {},
   "outputs": [],
   "source": [
    "# df_pichau.to_sql('graphic_card', con=engine, if_exists='append', index = False) "
   ]
  },
  {
   "source": [
    "_______________________________________________________"
   ],
   "cell_type": "markdown",
   "metadata": {}
  },
  {
   "cell_type": "code",
   "execution_count": 16,
   "metadata": {
    "tags": []
   },
   "outputs": [],
   "source": [
    "# containers = html.findAll('div', {\"class\":\"sc-fzqNqU jmuOAh\"})\n",
    "# https://www.kabum.com.br/cgi-local/site/listagem/listagem.cgi?string=processador&btnG=&pagina=1&ordem=5&limite=30&prime=false&marcas=[%225%22,%226%22]&tipo_produto=[]&filtro=[]"
   ]
  },
  {
   "cell_type": "code",
   "execution_count": 17,
   "metadata": {
    "tags": []
   },
   "outputs": [],
   "source": [
    "# images = html.findAll('div', {\"class\":\"sc-fznKkj fEpBwY\"})\n",
    "\n",
    "# # images.img['src']\n",
    "# for image in images:\n",
    "#     print(image.img['src'])\n",
    "#     # if \"indisponivel\" in image.img['src']:\n",
    "#     #     print('Indisponivel')\n",
    "#     # elif \"disponivel\" in image.img['src']:\n",
    "#     #     print('Disponivel')"
   ]
  },
  {
   "cell_type": "code",
   "execution_count": 18,
   "metadata": {},
   "outputs": [],
   "source": [
    "# preco_antigo_cartao = float((container.find('div', {\"class\":\"sc-fzpjYC hKlXgM\"}).text).split(\" \")[2].replace('.', '').replace(',', '.'))\n",
    "# preco_atual_cartao =  float((container.find('div', {\"class\":\"sc-fznxsB ksiZrQ\"}).text).split(\" \")[1].replace('.', '').replace(',', '.'))\n",
    "# preco_boleto = float((container.find('div', {\"class\":\"sc-fznWqX qatGF\"}).text).split(\" \")[1].replace('.', '').replace(',', '.'))\n"
   ]
  },
  {
   "cell_type": "code",
   "execution_count": 19,
   "metadata": {
    "tags": []
   },
   "outputs": [],
   "source": [
    "# print(preco_antigo_cartao)\n",
    "# # print(re.search('^(([1-9]\\d{0,2}(\\.\\d{3})*)|(([1-9]\\.\\d*)?\\d))(\\,\\d\\d)?', preco_atual_cartao).group())\n",
    "# print(preco_atual_cartao)\n",
    "# print(preco_boleto)"
   ]
  },
  {
   "cell_type": "code",
   "execution_count": 20,
   "metadata": {},
   "outputs": [],
   "source": [
    "# item_aux.find('span')\n",
    "# nao_disponivel\n",
    "# if \"Indisponivel\" not in item_aux.find('span').text:\n",
    "#     print('Entrou aqui')\n",
    "#     item_aux.find('a', {\"class\":\"product-item-link\"}).text\n",
    "#     item_aux.find('span', {\"class\":\"price\"}).text\n",
    "#     item_aux.find('span', {\"class\":\"price-boleto\"}).text.split(\" \")[2]\n",
    "# else:\n",
    "#     print('Não ta')\n",
    "# if item_aux.find('div', {\"class\":\"price\"}) != None:\n",
    "#     print('Não ta')\n",
    "# else:\n",
    "#     print('Não ta2')"
   ]
  }
 ]
}